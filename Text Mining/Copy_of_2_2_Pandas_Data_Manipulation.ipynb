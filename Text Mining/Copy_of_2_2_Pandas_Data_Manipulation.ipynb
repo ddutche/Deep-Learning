{
  "cells": [
    {
      "cell_type": "markdown",
      "id": "68d0b0eb-3c4c-45f4-9981-9cd34bc751f2",
      "metadata": {
        "id": "68d0b0eb-3c4c-45f4-9981-9cd34bc751f2"
      },
      "source": [
        "# Data Manipulation in Pandas"
      ]
    },
    {
      "cell_type": "markdown",
      "id": "140492d8-b85c-4f3f-ba2c-2188aa919db2",
      "metadata": {
        "id": "140492d8-b85c-4f3f-ba2c-2188aa919db2"
      },
      "source": [
        "## Skills\n",
        "\n",
        "1. Load data into Python using the pandas module.\n",
        "2. Select columns using `[]` and rows using `DataFrame.loc[]`.\n",
        "3. Summarize columns with basic descriptive statistics.\n",
        "4. **Summarize by category using `DataFrame.groupby()`**\n",
        "5. **Create new columns.**\n",
        "6. **Use built-in Pandas string manipulation functions.**\n",
        "7. Visualize data using Seaborn and Matplotlib."
      ]
    },
    {
      "cell_type": "markdown",
      "id": "51ac4902-92fa-49f5-8ebe-ed1323afa326",
      "metadata": {
        "id": "51ac4902-92fa-49f5-8ebe-ed1323afa326"
      },
      "source": [
        "## Vocabulary List\n",
        "\n",
        "**indicator variable**. A column in a dataset which takes on only *True/False* values. More specifically, we will be using indicator variables in this class to store information about another column, for example:\n",
        "\n",
        "* \"Is this person taller than 6'?\" is a summary of another column, a peron's height.\n",
        "* \"Is this movie over 2 hours long?\" is a summary of another column, the length of a movie."
      ]
    },
    {
      "cell_type": "markdown",
      "id": "40bdcd7e-9c2c-4e19-aebb-c62393402ef6",
      "metadata": {
        "id": "40bdcd7e-9c2c-4e19-aebb-c62393402ef6"
      },
      "source": [
        "## Preliminaries\n",
        "\n",
        "Run the following code to load in the *pandas* and *matplotlib.pyplot* libraries, as well as load in the Netflix dataset."
      ]
    },
    {
      "cell_type": "code",
      "execution_count": null,
      "id": "904893db-be69-470b-a0e8-15adba77f5fc",
      "metadata": {
        "id": "904893db-be69-470b-a0e8-15adba77f5fc"
      },
      "outputs": [],
      "source": [
        "import pandas as pd\n",
        "import matplotlib.pyplot as plt\n",
        "import seaborn as sns"
      ]
    },
    {
      "cell_type": "code",
      "execution_count": null,
      "id": "aa8da799-f8bd-42e6-bd7a-840e2edccf09",
      "metadata": {
        "id": "aa8da799-f8bd-42e6-bd7a-840e2edccf09",
        "outputId": "2edaaa64-3139-449e-dbf3-ecf976d493ef",
        "colab": {
          "base_uri": "https://localhost:8080/",
          "height": 354
        }
      },
      "outputs": [
        {
          "output_type": "execute_result",
          "data": {
            "text/plain": [
              "         id                                title   type  \\\n",
              "0  ts300399  Five Came Back: The Reference Films   SHOW   \n",
              "1   tm84618                          Taxi Driver  MOVIE   \n",
              "2  tm127384      Monty Python and the Holy Grail  MOVIE   \n",
              "\n",
              "                                         description  release_year  \\\n",
              "0  This collection includes 12 World War II-era p...          1945   \n",
              "1  A mentally unstable Vietnam War veteran works ...          1976   \n",
              "2  King Arthur, accompanied by his squire, recrui...          1975   \n",
              "\n",
              "  age_certification  runtime                 genres production_countries  \\\n",
              "0             TV-MA       48      ['documentation']               ['US']   \n",
              "1                 R      113     ['crime', 'drama']               ['US']   \n",
              "2                PG       91  ['comedy', 'fantasy']               ['GB']   \n",
              "\n",
              "   seasons    imdb_id  imdb_score  imdb_votes  tmdb_popularity  tmdb_score  \n",
              "0      1.0        NaN         NaN         NaN            0.600         NaN  \n",
              "1      NaN  tt0075314         8.3    795222.0           27.612         8.2  \n",
              "2      NaN  tt0071853         8.2    530877.0           18.216         7.8  "
            ],
            "text/html": [
              "\n",
              "  <div id=\"df-2e204278-32c1-4c60-a83d-85a0b246331f\" class=\"colab-df-container\">\n",
              "    <div>\n",
              "<style scoped>\n",
              "    .dataframe tbody tr th:only-of-type {\n",
              "        vertical-align: middle;\n",
              "    }\n",
              "\n",
              "    .dataframe tbody tr th {\n",
              "        vertical-align: top;\n",
              "    }\n",
              "\n",
              "    .dataframe thead th {\n",
              "        text-align: right;\n",
              "    }\n",
              "</style>\n",
              "<table border=\"1\" class=\"dataframe\">\n",
              "  <thead>\n",
              "    <tr style=\"text-align: right;\">\n",
              "      <th></th>\n",
              "      <th>id</th>\n",
              "      <th>title</th>\n",
              "      <th>type</th>\n",
              "      <th>description</th>\n",
              "      <th>release_year</th>\n",
              "      <th>age_certification</th>\n",
              "      <th>runtime</th>\n",
              "      <th>genres</th>\n",
              "      <th>production_countries</th>\n",
              "      <th>seasons</th>\n",
              "      <th>imdb_id</th>\n",
              "      <th>imdb_score</th>\n",
              "      <th>imdb_votes</th>\n",
              "      <th>tmdb_popularity</th>\n",
              "      <th>tmdb_score</th>\n",
              "    </tr>\n",
              "  </thead>\n",
              "  <tbody>\n",
              "    <tr>\n",
              "      <th>0</th>\n",
              "      <td>ts300399</td>\n",
              "      <td>Five Came Back: The Reference Films</td>\n",
              "      <td>SHOW</td>\n",
              "      <td>This collection includes 12 World War II-era p...</td>\n",
              "      <td>1945</td>\n",
              "      <td>TV-MA</td>\n",
              "      <td>48</td>\n",
              "      <td>['documentation']</td>\n",
              "      <td>['US']</td>\n",
              "      <td>1.0</td>\n",
              "      <td>NaN</td>\n",
              "      <td>NaN</td>\n",
              "      <td>NaN</td>\n",
              "      <td>0.600</td>\n",
              "      <td>NaN</td>\n",
              "    </tr>\n",
              "    <tr>\n",
              "      <th>1</th>\n",
              "      <td>tm84618</td>\n",
              "      <td>Taxi Driver</td>\n",
              "      <td>MOVIE</td>\n",
              "      <td>A mentally unstable Vietnam War veteran works ...</td>\n",
              "      <td>1976</td>\n",
              "      <td>R</td>\n",
              "      <td>113</td>\n",
              "      <td>['crime', 'drama']</td>\n",
              "      <td>['US']</td>\n",
              "      <td>NaN</td>\n",
              "      <td>tt0075314</td>\n",
              "      <td>8.3</td>\n",
              "      <td>795222.0</td>\n",
              "      <td>27.612</td>\n",
              "      <td>8.2</td>\n",
              "    </tr>\n",
              "    <tr>\n",
              "      <th>2</th>\n",
              "      <td>tm127384</td>\n",
              "      <td>Monty Python and the Holy Grail</td>\n",
              "      <td>MOVIE</td>\n",
              "      <td>King Arthur, accompanied by his squire, recrui...</td>\n",
              "      <td>1975</td>\n",
              "      <td>PG</td>\n",
              "      <td>91</td>\n",
              "      <td>['comedy', 'fantasy']</td>\n",
              "      <td>['GB']</td>\n",
              "      <td>NaN</td>\n",
              "      <td>tt0071853</td>\n",
              "      <td>8.2</td>\n",
              "      <td>530877.0</td>\n",
              "      <td>18.216</td>\n",
              "      <td>7.8</td>\n",
              "    </tr>\n",
              "  </tbody>\n",
              "</table>\n",
              "</div>\n",
              "    <div class=\"colab-df-buttons\">\n",
              "\n",
              "  <div class=\"colab-df-container\">\n",
              "    <button class=\"colab-df-convert\" onclick=\"convertToInteractive('df-2e204278-32c1-4c60-a83d-85a0b246331f')\"\n",
              "            title=\"Convert this dataframe to an interactive table.\"\n",
              "            style=\"display:none;\">\n",
              "\n",
              "  <svg xmlns=\"http://www.w3.org/2000/svg\" height=\"24px\" viewBox=\"0 -960 960 960\">\n",
              "    <path d=\"M120-120v-720h720v720H120Zm60-500h600v-160H180v160Zm220 220h160v-160H400v160Zm0 220h160v-160H400v160ZM180-400h160v-160H180v160Zm440 0h160v-160H620v160ZM180-180h160v-160H180v160Zm440 0h160v-160H620v160Z\"/>\n",
              "  </svg>\n",
              "    </button>\n",
              "\n",
              "  <style>\n",
              "    .colab-df-container {\n",
              "      display:flex;\n",
              "      gap: 12px;\n",
              "    }\n",
              "\n",
              "    .colab-df-convert {\n",
              "      background-color: #E8F0FE;\n",
              "      border: none;\n",
              "      border-radius: 50%;\n",
              "      cursor: pointer;\n",
              "      display: none;\n",
              "      fill: #1967D2;\n",
              "      height: 32px;\n",
              "      padding: 0 0 0 0;\n",
              "      width: 32px;\n",
              "    }\n",
              "\n",
              "    .colab-df-convert:hover {\n",
              "      background-color: #E2EBFA;\n",
              "      box-shadow: 0px 1px 2px rgba(60, 64, 67, 0.3), 0px 1px 3px 1px rgba(60, 64, 67, 0.15);\n",
              "      fill: #174EA6;\n",
              "    }\n",
              "\n",
              "    .colab-df-buttons div {\n",
              "      margin-bottom: 4px;\n",
              "    }\n",
              "\n",
              "    [theme=dark] .colab-df-convert {\n",
              "      background-color: #3B4455;\n",
              "      fill: #D2E3FC;\n",
              "    }\n",
              "\n",
              "    [theme=dark] .colab-df-convert:hover {\n",
              "      background-color: #434B5C;\n",
              "      box-shadow: 0px 1px 3px 1px rgba(0, 0, 0, 0.15);\n",
              "      filter: drop-shadow(0px 1px 2px rgba(0, 0, 0, 0.3));\n",
              "      fill: #FFFFFF;\n",
              "    }\n",
              "  </style>\n",
              "\n",
              "    <script>\n",
              "      const buttonEl =\n",
              "        document.querySelector('#df-2e204278-32c1-4c60-a83d-85a0b246331f button.colab-df-convert');\n",
              "      buttonEl.style.display =\n",
              "        google.colab.kernel.accessAllowed ? 'block' : 'none';\n",
              "\n",
              "      async function convertToInteractive(key) {\n",
              "        const element = document.querySelector('#df-2e204278-32c1-4c60-a83d-85a0b246331f');\n",
              "        const dataTable =\n",
              "          await google.colab.kernel.invokeFunction('convertToInteractive',\n",
              "                                                    [key], {});\n",
              "        if (!dataTable) return;\n",
              "\n",
              "        const docLinkHtml = 'Like what you see? Visit the ' +\n",
              "          '<a target=\"_blank\" href=https://colab.research.google.com/notebooks/data_table.ipynb>data table notebook</a>'\n",
              "          + ' to learn more about interactive tables.';\n",
              "        element.innerHTML = '';\n",
              "        dataTable['output_type'] = 'display_data';\n",
              "        await google.colab.output.renderOutput(dataTable, element);\n",
              "        const docLink = document.createElement('div');\n",
              "        docLink.innerHTML = docLinkHtml;\n",
              "        element.appendChild(docLink);\n",
              "      }\n",
              "    </script>\n",
              "  </div>\n",
              "\n",
              "\n",
              "<div id=\"df-ec408fa5-ab37-4fb3-93f4-90d7babb3829\">\n",
              "  <button class=\"colab-df-quickchart\" onclick=\"quickchart('df-ec408fa5-ab37-4fb3-93f4-90d7babb3829')\"\n",
              "            title=\"Suggest charts\"\n",
              "            style=\"display:none;\">\n",
              "\n",
              "<svg xmlns=\"http://www.w3.org/2000/svg\" height=\"24px\"viewBox=\"0 0 24 24\"\n",
              "     width=\"24px\">\n",
              "    <g>\n",
              "        <path d=\"M19 3H5c-1.1 0-2 .9-2 2v14c0 1.1.9 2 2 2h14c1.1 0 2-.9 2-2V5c0-1.1-.9-2-2-2zM9 17H7v-7h2v7zm4 0h-2V7h2v10zm4 0h-2v-4h2v4z\"/>\n",
              "    </g>\n",
              "</svg>\n",
              "  </button>\n",
              "\n",
              "<style>\n",
              "  .colab-df-quickchart {\n",
              "      --bg-color: #E8F0FE;\n",
              "      --fill-color: #1967D2;\n",
              "      --hover-bg-color: #E2EBFA;\n",
              "      --hover-fill-color: #174EA6;\n",
              "      --disabled-fill-color: #AAA;\n",
              "      --disabled-bg-color: #DDD;\n",
              "  }\n",
              "\n",
              "  [theme=dark] .colab-df-quickchart {\n",
              "      --bg-color: #3B4455;\n",
              "      --fill-color: #D2E3FC;\n",
              "      --hover-bg-color: #434B5C;\n",
              "      --hover-fill-color: #FFFFFF;\n",
              "      --disabled-bg-color: #3B4455;\n",
              "      --disabled-fill-color: #666;\n",
              "  }\n",
              "\n",
              "  .colab-df-quickchart {\n",
              "    background-color: var(--bg-color);\n",
              "    border: none;\n",
              "    border-radius: 50%;\n",
              "    cursor: pointer;\n",
              "    display: none;\n",
              "    fill: var(--fill-color);\n",
              "    height: 32px;\n",
              "    padding: 0;\n",
              "    width: 32px;\n",
              "  }\n",
              "\n",
              "  .colab-df-quickchart:hover {\n",
              "    background-color: var(--hover-bg-color);\n",
              "    box-shadow: 0 1px 2px rgba(60, 64, 67, 0.3), 0 1px 3px 1px rgba(60, 64, 67, 0.15);\n",
              "    fill: var(--button-hover-fill-color);\n",
              "  }\n",
              "\n",
              "  .colab-df-quickchart-complete:disabled,\n",
              "  .colab-df-quickchart-complete:disabled:hover {\n",
              "    background-color: var(--disabled-bg-color);\n",
              "    fill: var(--disabled-fill-color);\n",
              "    box-shadow: none;\n",
              "  }\n",
              "\n",
              "  .colab-df-spinner {\n",
              "    border: 2px solid var(--fill-color);\n",
              "    border-color: transparent;\n",
              "    border-bottom-color: var(--fill-color);\n",
              "    animation:\n",
              "      spin 1s steps(1) infinite;\n",
              "  }\n",
              "\n",
              "  @keyframes spin {\n",
              "    0% {\n",
              "      border-color: transparent;\n",
              "      border-bottom-color: var(--fill-color);\n",
              "      border-left-color: var(--fill-color);\n",
              "    }\n",
              "    20% {\n",
              "      border-color: transparent;\n",
              "      border-left-color: var(--fill-color);\n",
              "      border-top-color: var(--fill-color);\n",
              "    }\n",
              "    30% {\n",
              "      border-color: transparent;\n",
              "      border-left-color: var(--fill-color);\n",
              "      border-top-color: var(--fill-color);\n",
              "      border-right-color: var(--fill-color);\n",
              "    }\n",
              "    40% {\n",
              "      border-color: transparent;\n",
              "      border-right-color: var(--fill-color);\n",
              "      border-top-color: var(--fill-color);\n",
              "    }\n",
              "    60% {\n",
              "      border-color: transparent;\n",
              "      border-right-color: var(--fill-color);\n",
              "    }\n",
              "    80% {\n",
              "      border-color: transparent;\n",
              "      border-right-color: var(--fill-color);\n",
              "      border-bottom-color: var(--fill-color);\n",
              "    }\n",
              "    90% {\n",
              "      border-color: transparent;\n",
              "      border-bottom-color: var(--fill-color);\n",
              "    }\n",
              "  }\n",
              "</style>\n",
              "\n",
              "  <script>\n",
              "    async function quickchart(key) {\n",
              "      const quickchartButtonEl =\n",
              "        document.querySelector('#' + key + ' button');\n",
              "      quickchartButtonEl.disabled = true;  // To prevent multiple clicks.\n",
              "      quickchartButtonEl.classList.add('colab-df-spinner');\n",
              "      try {\n",
              "        const charts = await google.colab.kernel.invokeFunction(\n",
              "            'suggestCharts', [key], {});\n",
              "      } catch (error) {\n",
              "        console.error('Error during call to suggestCharts:', error);\n",
              "      }\n",
              "      quickchartButtonEl.classList.remove('colab-df-spinner');\n",
              "      quickchartButtonEl.classList.add('colab-df-quickchart-complete');\n",
              "    }\n",
              "    (() => {\n",
              "      let quickchartButtonEl =\n",
              "        document.querySelector('#df-ec408fa5-ab37-4fb3-93f4-90d7babb3829 button');\n",
              "      quickchartButtonEl.style.display =\n",
              "        google.colab.kernel.accessAllowed ? 'block' : 'none';\n",
              "    })();\n",
              "  </script>\n",
              "</div>\n",
              "\n",
              "    </div>\n",
              "  </div>\n"
            ]
          },
          "metadata": {},
          "execution_count": 2
        }
      ],
      "source": [
        "netflix = pd.read_csv(\"https://raw.githubusercontent.com/Greg-Hallenbeck/class-datasets/main/datasets/netflix.csv\")\n",
        "\n",
        "netflix.head(3)"
      ]
    },
    {
      "cell_type": "markdown",
      "id": "5209624e-c47f-456b-822d-f55d22c28b03",
      "metadata": {
        "id": "5209624e-c47f-456b-822d-f55d22c28b03"
      },
      "source": [
        "## The `.groupby()` Function"
      ]
    },
    {
      "cell_type": "markdown",
      "id": "353aede1-690b-40c5-abaf-f8fe547b1606",
      "metadata": {
        "id": "353aede1-690b-40c5-abaf-f8fe547b1606"
      },
      "source": [
        "Often, we won't just want overall statistics, but statistics for each category. For example, we might ask whether movies or TV shows tend to have higher IMDB user ratings. We *can* calculate this with the skills from the previous notebook, but it is rather tedious.\n",
        "\n",
        "First, we select all movies, and calculate their average IMDB score:"
      ]
    },
    {
      "cell_type": "code",
      "execution_count": null,
      "id": "8e194f96-39a6-4688-ab5d-5abffc1991bf",
      "metadata": {
        "id": "8e194f96-39a6-4688-ab5d-5abffc1991bf",
        "outputId": "20c6d724-8a89-4789-9909-8945eb61fe1c",
        "colab": {
          "base_uri": "https://localhost:8080/"
        }
      },
      "outputs": [
        {
          "output_type": "execute_result",
          "data": {
            "text/plain": [
              "6.26779312371437"
            ]
          },
          "metadata": {},
          "execution_count": 3
        }
      ],
      "source": [
        "netflix.query(\"type == 'MOVIE'\")[\"imdb_score\"].mean() #The netflix data has shows and movies\n",
        "#And maybe we wanna split it up to see movies and see their average imdb score for example\n",
        "\n",
        "#Doing this for every single category is super tedious"
      ]
    },
    {
      "cell_type": "markdown",
      "id": "56b5c36d-5dc7-43d0-9257-c15cf1a4c327",
      "metadata": {
        "id": "56b5c36d-5dc7-43d0-9257-c15cf1a4c327"
      },
      "source": [
        "Then, we select all TV shows, and calculate their average IMDB score:"
      ]
    },
    {
      "cell_type": "code",
      "execution_count": null,
      "id": "1fa81783-b094-46d0-88ab-826b4b8a60b1",
      "metadata": {
        "id": "1fa81783-b094-46d0-88ab-826b4b8a60b1",
        "colab": {
          "base_uri": "https://localhost:8080/"
        },
        "outputId": "f64df78f-7a24-4777-a4bf-8bd6d93c54a8"
      },
      "outputs": [
        {
          "output_type": "execute_result",
          "data": {
            "text/plain": [
              "7.017813333333333"
            ]
          },
          "metadata": {},
          "execution_count": 4
        }
      ],
      "source": [
        "netflix.query(\"type == 'SHOW'\")[\"imdb_score\"].mean()\n",
        "\n"
      ]
    },
    {
      "cell_type": "markdown",
      "id": "6394a160-693a-4291-ac5b-0d90c9181abc",
      "metadata": {
        "id": "6394a160-693a-4291-ac5b-0d90c9181abc"
      },
      "source": [
        "Now imagine doing this when there are 5, 10, or even more categories, for example: what is the average IMDB user rating for movies from each year. Clearly this is inconvenient!\n",
        "\n",
        "The `DataFrame.groupby()` gives us a way to do this quickly and efficiently. `.groupby()` tells python to not consider individual entries in the dataframe, but to group them up based on one particular column. Since we want to get the average IMDB score based on whether it's a movie or TV show, we'll group by the `type` column:"
      ]
    },
    {
      "cell_type": "code",
      "execution_count": null,
      "id": "5d2aaa05-c037-4108-b4ef-2cae732b0433",
      "metadata": {
        "id": "5d2aaa05-c037-4108-b4ef-2cae732b0433",
        "colab": {
          "base_uri": "https://localhost:8080/"
        },
        "outputId": "c2a84982-e3d2-435c-f69b-fd4b97602187"
      },
      "outputs": [
        {
          "output_type": "execute_result",
          "data": {
            "text/plain": [
              "<pandas.core.groupby.generic.DataFrameGroupBy object at 0x78d50f8b6e90>"
            ]
          },
          "metadata": {},
          "execution_count": 7
        }
      ],
      "source": [
        "netflix.groupby(\"type\") #Telling pandas to group entries by individual columns\n"
      ]
    },
    {
      "cell_type": "markdown",
      "id": "f0fcd5ac-e7f2-4b26-8535-125238032532",
      "metadata": {
        "id": "f0fcd5ac-e7f2-4b26-8535-125238032532"
      },
      "source": [
        "There is no output when you use `.groupby()`. Instead, *pandas* is waiting for us to run some summary function on it, for example:"
      ]
    },
    {
      "cell_type": "code",
      "execution_count": null,
      "id": "7820af7e-8634-44dd-9198-b0e304fd0103",
      "metadata": {
        "id": "7820af7e-8634-44dd-9198-b0e304fd0103",
        "colab": {
          "base_uri": "https://localhost:8080/",
          "height": 198
        },
        "outputId": "cdd97870-ab74-4511-8a74-f2f305fd344b"
      },
      "outputs": [
        {
          "output_type": "stream",
          "name": "stderr",
          "text": [
            "<ipython-input-8-9a4dfb0d6408>:1: FutureWarning: The default value of numeric_only in DataFrameGroupBy.mean is deprecated. In a future version, numeric_only will default to False. Either specify numeric_only or select only columns which should be valid for the function.\n",
            "  netflix.groupby(\"type\").mean() #Now itll take the mean for each individual group\n"
          ]
        },
        {
          "output_type": "execute_result",
          "data": {
            "text/plain": [
              "       release_year    runtime   seasons  imdb_score    imdb_votes  \\\n",
              "type                                                                 \n",
              "MOVIE   2015.366036  98.887497       NaN    6.267793  26706.818772   \n",
              "SHOW    2017.187040  38.839470  2.169858    7.017813  17494.873067   \n",
              "\n",
              "       tmdb_popularity  tmdb_score  \n",
              "type                                \n",
              "MOVIE        18.930634    6.449033  \n",
              "SHOW         29.281064    7.507016  "
            ],
            "text/html": [
              "\n",
              "  <div id=\"df-e8d6d681-e38b-486d-a12a-70bbabde0aff\" class=\"colab-df-container\">\n",
              "    <div>\n",
              "<style scoped>\n",
              "    .dataframe tbody tr th:only-of-type {\n",
              "        vertical-align: middle;\n",
              "    }\n",
              "\n",
              "    .dataframe tbody tr th {\n",
              "        vertical-align: top;\n",
              "    }\n",
              "\n",
              "    .dataframe thead th {\n",
              "        text-align: right;\n",
              "    }\n",
              "</style>\n",
              "<table border=\"1\" class=\"dataframe\">\n",
              "  <thead>\n",
              "    <tr style=\"text-align: right;\">\n",
              "      <th></th>\n",
              "      <th>release_year</th>\n",
              "      <th>runtime</th>\n",
              "      <th>seasons</th>\n",
              "      <th>imdb_score</th>\n",
              "      <th>imdb_votes</th>\n",
              "      <th>tmdb_popularity</th>\n",
              "      <th>tmdb_score</th>\n",
              "    </tr>\n",
              "    <tr>\n",
              "      <th>type</th>\n",
              "      <th></th>\n",
              "      <th></th>\n",
              "      <th></th>\n",
              "      <th></th>\n",
              "      <th></th>\n",
              "      <th></th>\n",
              "      <th></th>\n",
              "    </tr>\n",
              "  </thead>\n",
              "  <tbody>\n",
              "    <tr>\n",
              "      <th>MOVIE</th>\n",
              "      <td>2015.366036</td>\n",
              "      <td>98.887497</td>\n",
              "      <td>NaN</td>\n",
              "      <td>6.267793</td>\n",
              "      <td>26706.818772</td>\n",
              "      <td>18.930634</td>\n",
              "      <td>6.449033</td>\n",
              "    </tr>\n",
              "    <tr>\n",
              "      <th>SHOW</th>\n",
              "      <td>2017.187040</td>\n",
              "      <td>38.839470</td>\n",
              "      <td>2.169858</td>\n",
              "      <td>7.017813</td>\n",
              "      <td>17494.873067</td>\n",
              "      <td>29.281064</td>\n",
              "      <td>7.507016</td>\n",
              "    </tr>\n",
              "  </tbody>\n",
              "</table>\n",
              "</div>\n",
              "    <div class=\"colab-df-buttons\">\n",
              "\n",
              "  <div class=\"colab-df-container\">\n",
              "    <button class=\"colab-df-convert\" onclick=\"convertToInteractive('df-e8d6d681-e38b-486d-a12a-70bbabde0aff')\"\n",
              "            title=\"Convert this dataframe to an interactive table.\"\n",
              "            style=\"display:none;\">\n",
              "\n",
              "  <svg xmlns=\"http://www.w3.org/2000/svg\" height=\"24px\" viewBox=\"0 -960 960 960\">\n",
              "    <path d=\"M120-120v-720h720v720H120Zm60-500h600v-160H180v160Zm220 220h160v-160H400v160Zm0 220h160v-160H400v160ZM180-400h160v-160H180v160Zm440 0h160v-160H620v160ZM180-180h160v-160H180v160Zm440 0h160v-160H620v160Z\"/>\n",
              "  </svg>\n",
              "    </button>\n",
              "\n",
              "  <style>\n",
              "    .colab-df-container {\n",
              "      display:flex;\n",
              "      gap: 12px;\n",
              "    }\n",
              "\n",
              "    .colab-df-convert {\n",
              "      background-color: #E8F0FE;\n",
              "      border: none;\n",
              "      border-radius: 50%;\n",
              "      cursor: pointer;\n",
              "      display: none;\n",
              "      fill: #1967D2;\n",
              "      height: 32px;\n",
              "      padding: 0 0 0 0;\n",
              "      width: 32px;\n",
              "    }\n",
              "\n",
              "    .colab-df-convert:hover {\n",
              "      background-color: #E2EBFA;\n",
              "      box-shadow: 0px 1px 2px rgba(60, 64, 67, 0.3), 0px 1px 3px 1px rgba(60, 64, 67, 0.15);\n",
              "      fill: #174EA6;\n",
              "    }\n",
              "\n",
              "    .colab-df-buttons div {\n",
              "      margin-bottom: 4px;\n",
              "    }\n",
              "\n",
              "    [theme=dark] .colab-df-convert {\n",
              "      background-color: #3B4455;\n",
              "      fill: #D2E3FC;\n",
              "    }\n",
              "\n",
              "    [theme=dark] .colab-df-convert:hover {\n",
              "      background-color: #434B5C;\n",
              "      box-shadow: 0px 1px 3px 1px rgba(0, 0, 0, 0.15);\n",
              "      filter: drop-shadow(0px 1px 2px rgba(0, 0, 0, 0.3));\n",
              "      fill: #FFFFFF;\n",
              "    }\n",
              "  </style>\n",
              "\n",
              "    <script>\n",
              "      const buttonEl =\n",
              "        document.querySelector('#df-e8d6d681-e38b-486d-a12a-70bbabde0aff button.colab-df-convert');\n",
              "      buttonEl.style.display =\n",
              "        google.colab.kernel.accessAllowed ? 'block' : 'none';\n",
              "\n",
              "      async function convertToInteractive(key) {\n",
              "        const element = document.querySelector('#df-e8d6d681-e38b-486d-a12a-70bbabde0aff');\n",
              "        const dataTable =\n",
              "          await google.colab.kernel.invokeFunction('convertToInteractive',\n",
              "                                                    [key], {});\n",
              "        if (!dataTable) return;\n",
              "\n",
              "        const docLinkHtml = 'Like what you see? Visit the ' +\n",
              "          '<a target=\"_blank\" href=https://colab.research.google.com/notebooks/data_table.ipynb>data table notebook</a>'\n",
              "          + ' to learn more about interactive tables.';\n",
              "        element.innerHTML = '';\n",
              "        dataTable['output_type'] = 'display_data';\n",
              "        await google.colab.output.renderOutput(dataTable, element);\n",
              "        const docLink = document.createElement('div');\n",
              "        docLink.innerHTML = docLinkHtml;\n",
              "        element.appendChild(docLink);\n",
              "      }\n",
              "    </script>\n",
              "  </div>\n",
              "\n",
              "\n",
              "<div id=\"df-f35a74e3-921d-403d-8a55-945cb8dad5e9\">\n",
              "  <button class=\"colab-df-quickchart\" onclick=\"quickchart('df-f35a74e3-921d-403d-8a55-945cb8dad5e9')\"\n",
              "            title=\"Suggest charts\"\n",
              "            style=\"display:none;\">\n",
              "\n",
              "<svg xmlns=\"http://www.w3.org/2000/svg\" height=\"24px\"viewBox=\"0 0 24 24\"\n",
              "     width=\"24px\">\n",
              "    <g>\n",
              "        <path d=\"M19 3H5c-1.1 0-2 .9-2 2v14c0 1.1.9 2 2 2h14c1.1 0 2-.9 2-2V5c0-1.1-.9-2-2-2zM9 17H7v-7h2v7zm4 0h-2V7h2v10zm4 0h-2v-4h2v4z\"/>\n",
              "    </g>\n",
              "</svg>\n",
              "  </button>\n",
              "\n",
              "<style>\n",
              "  .colab-df-quickchart {\n",
              "      --bg-color: #E8F0FE;\n",
              "      --fill-color: #1967D2;\n",
              "      --hover-bg-color: #E2EBFA;\n",
              "      --hover-fill-color: #174EA6;\n",
              "      --disabled-fill-color: #AAA;\n",
              "      --disabled-bg-color: #DDD;\n",
              "  }\n",
              "\n",
              "  [theme=dark] .colab-df-quickchart {\n",
              "      --bg-color: #3B4455;\n",
              "      --fill-color: #D2E3FC;\n",
              "      --hover-bg-color: #434B5C;\n",
              "      --hover-fill-color: #FFFFFF;\n",
              "      --disabled-bg-color: #3B4455;\n",
              "      --disabled-fill-color: #666;\n",
              "  }\n",
              "\n",
              "  .colab-df-quickchart {\n",
              "    background-color: var(--bg-color);\n",
              "    border: none;\n",
              "    border-radius: 50%;\n",
              "    cursor: pointer;\n",
              "    display: none;\n",
              "    fill: var(--fill-color);\n",
              "    height: 32px;\n",
              "    padding: 0;\n",
              "    width: 32px;\n",
              "  }\n",
              "\n",
              "  .colab-df-quickchart:hover {\n",
              "    background-color: var(--hover-bg-color);\n",
              "    box-shadow: 0 1px 2px rgba(60, 64, 67, 0.3), 0 1px 3px 1px rgba(60, 64, 67, 0.15);\n",
              "    fill: var(--button-hover-fill-color);\n",
              "  }\n",
              "\n",
              "  .colab-df-quickchart-complete:disabled,\n",
              "  .colab-df-quickchart-complete:disabled:hover {\n",
              "    background-color: var(--disabled-bg-color);\n",
              "    fill: var(--disabled-fill-color);\n",
              "    box-shadow: none;\n",
              "  }\n",
              "\n",
              "  .colab-df-spinner {\n",
              "    border: 2px solid var(--fill-color);\n",
              "    border-color: transparent;\n",
              "    border-bottom-color: var(--fill-color);\n",
              "    animation:\n",
              "      spin 1s steps(1) infinite;\n",
              "  }\n",
              "\n",
              "  @keyframes spin {\n",
              "    0% {\n",
              "      border-color: transparent;\n",
              "      border-bottom-color: var(--fill-color);\n",
              "      border-left-color: var(--fill-color);\n",
              "    }\n",
              "    20% {\n",
              "      border-color: transparent;\n",
              "      border-left-color: var(--fill-color);\n",
              "      border-top-color: var(--fill-color);\n",
              "    }\n",
              "    30% {\n",
              "      border-color: transparent;\n",
              "      border-left-color: var(--fill-color);\n",
              "      border-top-color: var(--fill-color);\n",
              "      border-right-color: var(--fill-color);\n",
              "    }\n",
              "    40% {\n",
              "      border-color: transparent;\n",
              "      border-right-color: var(--fill-color);\n",
              "      border-top-color: var(--fill-color);\n",
              "    }\n",
              "    60% {\n",
              "      border-color: transparent;\n",
              "      border-right-color: var(--fill-color);\n",
              "    }\n",
              "    80% {\n",
              "      border-color: transparent;\n",
              "      border-right-color: var(--fill-color);\n",
              "      border-bottom-color: var(--fill-color);\n",
              "    }\n",
              "    90% {\n",
              "      border-color: transparent;\n",
              "      border-bottom-color: var(--fill-color);\n",
              "    }\n",
              "  }\n",
              "</style>\n",
              "\n",
              "  <script>\n",
              "    async function quickchart(key) {\n",
              "      const quickchartButtonEl =\n",
              "        document.querySelector('#' + key + ' button');\n",
              "      quickchartButtonEl.disabled = true;  // To prevent multiple clicks.\n",
              "      quickchartButtonEl.classList.add('colab-df-spinner');\n",
              "      try {\n",
              "        const charts = await google.colab.kernel.invokeFunction(\n",
              "            'suggestCharts', [key], {});\n",
              "      } catch (error) {\n",
              "        console.error('Error during call to suggestCharts:', error);\n",
              "      }\n",
              "      quickchartButtonEl.classList.remove('colab-df-spinner');\n",
              "      quickchartButtonEl.classList.add('colab-df-quickchart-complete');\n",
              "    }\n",
              "    (() => {\n",
              "      let quickchartButtonEl =\n",
              "        document.querySelector('#df-f35a74e3-921d-403d-8a55-945cb8dad5e9 button');\n",
              "      quickchartButtonEl.style.display =\n",
              "        google.colab.kernel.accessAllowed ? 'block' : 'none';\n",
              "    })();\n",
              "  </script>\n",
              "</div>\n",
              "\n",
              "    </div>\n",
              "  </div>\n"
            ]
          },
          "metadata": {},
          "execution_count": 8
        }
      ],
      "source": [
        "netflix.groupby(\"type\").mean() #Now itll take the mean for each individual group"
      ]
    },
    {
      "cell_type": "markdown",
      "id": "8e18ceb5-f597-473e-83cb-c6219182239e",
      "metadata": {
        "id": "8e18ceb5-f597-473e-83cb-c6219182239e"
      },
      "source": [
        "Since we were interested in just the IMDB user score, we can just select that one column using the indexing brackets `[]`, and we're done:"
      ]
    },
    {
      "cell_type": "code",
      "execution_count": null,
      "id": "59cbae8d-a6d6-44b8-94a1-a9f7b5893aa7",
      "metadata": {
        "id": "59cbae8d-a6d6-44b8-94a1-a9f7b5893aa7",
        "colab": {
          "base_uri": "https://localhost:8080/"
        },
        "outputId": "32280acd-c6f4-4bea-c83c-a9a0ac5d20a3"
      },
      "outputs": [
        {
          "output_type": "stream",
          "name": "stderr",
          "text": [
            "<ipython-input-9-3824c6951f9f>:1: FutureWarning: The default value of numeric_only in DataFrameGroupBy.mean is deprecated. In a future version, numeric_only will default to False. Either specify numeric_only or select only columns which should be valid for the function.\n",
            "  netflix.groupby(\"type\").mean()[\"imdb_score\"]\n"
          ]
        },
        {
          "output_type": "execute_result",
          "data": {
            "text/plain": [
              "type\n",
              "MOVIE    6.267793\n",
              "SHOW     7.017813\n",
              "Name: imdb_score, dtype: float64"
            ]
          },
          "metadata": {},
          "execution_count": 9
        }
      ],
      "source": [
        "netflix.groupby(\"type\").mean()[\"imdb_score\"]"
      ]
    },
    {
      "cell_type": "markdown",
      "id": "69ad1c0d-b0bd-42ac-92be-debbc74b3e7b",
      "metadata": {
        "id": "69ad1c0d-b0bd-42ac-92be-debbc74b3e7b"
      },
      "source": [
        "**Example.** As suggested above, let's calculate the average IMDB rating for movies, broken down by release year. So first, we'll narrow down the Netflix titles to movies only:"
      ]
    },
    {
      "cell_type": "code",
      "execution_count": null,
      "id": "837ad483-c044-4a97-92dc-10bdbeffc5dc",
      "metadata": {
        "id": "837ad483-c044-4a97-92dc-10bdbeffc5dc"
      },
      "outputs": [],
      "source": [
        "movies = netflix[ netflix[\"type\"] == \"MOVIE\" ]"
      ]
    },
    {
      "cell_type": "markdown",
      "id": "af7b8f94-7beb-4e1c-96c0-f21f54fffafb",
      "metadata": {
        "id": "af7b8f94-7beb-4e1c-96c0-f21f54fffafb"
      },
      "source": [
        "Then, we'll group by year released:\n",
        "\n",
        "> `movies.groupby(\"release_year\")`\n",
        "\n",
        "And then calculate the mean IMDB ratings:"
      ]
    },
    {
      "cell_type": "code",
      "execution_count": null,
      "id": "fb8f63bb-19f5-4803-a069-201a71cb47e2",
      "metadata": {
        "id": "fb8f63bb-19f5-4803-a069-201a71cb47e2",
        "colab": {
          "base_uri": "https://localhost:8080/"
        },
        "outputId": "0b641f9a-5ede-4a94-8a70-672ade6341f1"
      },
      "outputs": [
        {
          "output_type": "execute_result",
          "data": {
            "text/plain": [
              "release_year\n",
              "1953    6.800000\n",
              "1954    7.450000\n",
              "1956    6.700000\n",
              "1958    7.500000\n",
              "1959    6.700000\n",
              "          ...   \n",
              "2018    6.212108\n",
              "2019    6.237527\n",
              "2020    6.060741\n",
              "2021    6.031630\n",
              "2022    5.968889\n",
              "Name: imdb_score, Length: 66, dtype: float64"
            ]
          },
          "metadata": {},
          "execution_count": 12
        }
      ],
      "source": [
        "movies.groupby(\"release_year\")[\"imdb_score\"].mean()"
      ]
    },
    {
      "cell_type": "markdown",
      "id": "6ad37bad-804c-4019-abc7-03da02e12b0a",
      "metadata": {
        "id": "6ad37bad-804c-4019-abc7-03da02e12b0a"
      },
      "source": [
        "As a preview of next time, let's actually plot those to see if theres a trend in ratings over time:"
      ]
    },
    {
      "cell_type": "code",
      "execution_count": null,
      "id": "791ae4b1-b029-4192-a63c-87a2f64d62c8",
      "metadata": {
        "id": "791ae4b1-b029-4192-a63c-87a2f64d62c8",
        "colab": {
          "base_uri": "https://localhost:8080/",
          "height": 455
        },
        "outputId": "0aede394-c9f1-4b90-a901-8a3934cf665f"
      },
      "outputs": [
        {
          "output_type": "display_data",
          "data": {
            "text/plain": [
              "<Figure size 640x480 with 1 Axes>"
            ],
            "image/png": "[encoded data removed]"
          },
          "metadata": {}
        }
      ],
      "source": [
        "# Calculate ratings and put in a variable\n",
        "ratings = movies.groupby(\"release_year\")[\"imdb_score\"].mean()\n",
        "\n",
        "# Make a plot\n",
        "sns.scatterplot(x=ratings.index, y=ratings)\n",
        "\n",
        "plt.ylim(5, 8.5)\n",
        "plt.xlabel(\"Year\")\n",
        "plt.ylabel(\"Average IMDB User Rating\")\n",
        "\n",
        "plt.show()"
      ]
    },
    {
      "cell_type": "markdown",
      "id": "89a9f7cc-fe06-4545-b9ba-9e003a2a4fcc",
      "metadata": {
        "id": "89a9f7cc-fe06-4545-b9ba-9e003a2a4fcc"
      },
      "source": [
        "It looks like there's quite a bit of scatter before the year 1990, but there's a slow downward trend in the average user rating over time.\n",
        "\n",
        "This could be due to many reasons, which we cannot tell from the plot:\n",
        "* Netflix only purchases older movies if they're very good\n",
        "* The newest movies are all Netflix originals, which may not be as good as theatrical releases.\n",
        "* Movies are getting worse over time.\n",
        "* IMDB users love old movies."
      ]
    },
    {
      "cell_type": "markdown",
      "id": "a5f07057-e017-40e7-b6f9-5995f888518f",
      "metadata": {
        "id": "a5f07057-e017-40e7-b6f9-5995f888518f"
      },
      "source": [
        "## Modifying and Creating New Columns"
      ]
    },
    {
      "cell_type": "markdown",
      "id": "5b87dc63-d0f0-46c0-a1f6-96d62eca9c74",
      "metadata": {
        "id": "5b87dc63-d0f0-46c0-a1f6-96d62eca9c74"
      },
      "source": [
        "Rarely will a dataset have all of the information in it that we want already available. Looking at the Netflix dataset:\n",
        "\n",
        "* We have total runtime in minutes, but may want to break it down into hours and minutes.\n",
        "* Instead of IMDB and TMDB scores separately, we may want the average scores.\n",
        "* A column which indicates whether a movie was made this century, or if it is from the US or is \"foreign.\"\n",
        "* The production countries and genres are lists, while it would be much easier to have only a single value per column.\n",
        "* When we get further into text analysis, we'll want to tokenize the descriptions and titles, rather than leaving them as strings.\n",
        "\n",
        "Other issues we may see in other datasets may include:\n",
        "\n",
        "* Columns with dollar amounts will often be read in as strings (e.g. \"$4.25\") and need to be converted to floating-point numbers (4.25).\n",
        "* We may want to split full names into first and last names, or remove titles like \"Dr.\" or \"Mr.\" from them.\n",
        "\n",
        "Let's start by adding a new column telling us the runtime of a movie or show in hours. The following code does this:"
      ]
    },
    {
      "cell_type": "code",
      "execution_count": null,
      "id": "75ba6b13-5de8-4407-9354-315d00c8dcef",
      "metadata": {
        "id": "75ba6b13-5de8-4407-9354-315d00c8dcef"
      },
      "outputs": [],
      "source": [
        "netflix[\"runtime_hours\"] = netflix[\"runtime\"] // 60"
      ]
    },
    {
      "cell_type": "markdown",
      "id": "7c86fabb-8dc8-43d4-875f-6abaebfc4080",
      "metadata": {
        "id": "7c86fabb-8dc8-43d4-875f-6abaebfc4080"
      },
      "source": [
        "As you can see, adding a new column based on another one is simple: you just pretend that it already exists, and assign it a value. You can do standard mathematical operations (`+`, `-`, `*`, `/`, `//`, `%`), combining multiple columns as necessary. In this case, we used integer division `//` to divide the runtime in minutes by 60, and dropped any remainder.\n",
        "\n",
        "There is now a `runtime_hours` column in our DataFrame:"
      ]
    },
    {
      "cell_type": "code",
      "execution_count": null,
      "id": "1c8da5c7-6e46-4e7a-bcaf-aa93683e4d9a",
      "metadata": {
        "id": "1c8da5c7-6e46-4e7a-bcaf-aa93683e4d9a",
        "colab": {
          "base_uri": "https://localhost:8080/"
        },
        "outputId": "9a941506-7394-4aa0-9375-c92e0da594f3"
      },
      "outputs": [
        {
          "output_type": "execute_result",
          "data": {
            "text/plain": [
              "Index(['id', 'title', 'type', 'description', 'release_year',\n",
              "       'age_certification', 'runtime', 'genres', 'production_countries',\n",
              "       'seasons', 'imdb_id', 'imdb_score', 'imdb_votes', 'tmdb_popularity',\n",
              "       'tmdb_score', 'runtime_hours'],\n",
              "      dtype='object')"
            ]
          },
          "metadata": {},
          "execution_count": 17
        }
      ],
      "source": [
        "netflix.columns"
      ]
    },
    {
      "cell_type": "markdown",
      "id": "b7c7d713-a8e9-4d5a-99e7-73b8119d26e2",
      "metadata": {
        "id": "b7c7d713-a8e9-4d5a-99e7-73b8119d26e2"
      },
      "source": [
        "We can also add a `runtime_minutes` column, and make sure that everything is working as we expect."
      ]
    },
    {
      "cell_type": "code",
      "execution_count": null,
      "id": "b8864095-afa2-4675-be08-7c98c221f945",
      "metadata": {
        "id": "b8864095-afa2-4675-be08-7c98c221f945",
        "colab": {
          "base_uri": "https://localhost:8080/",
          "height": 363
        },
        "outputId": "14d93280-fd06-419a-e880-04dd75cf4afc"
      },
      "outputs": [
        {
          "output_type": "execute_result",
          "data": {
            "text/plain": [
              "   runtime  runtime_hours  runtime_minutes\n",
              "0       48              0               48\n",
              "1      113              1               53\n",
              "2       91              1               31\n",
              "3       94              1               34\n",
              "4      133              2               13\n",
              "5       30              0               30\n",
              "6      102              1               42\n",
              "7      170              2               50\n",
              "8      104              1               44\n",
              "9      110              1               50"
            ],
            "text/html": [
              "\n",
              "  <div id=\"df-9c867f6d-a50d-42dc-afde-987e2df629a1\" class=\"colab-df-container\">\n",
              "    <div>\n",
              "<style scoped>\n",
              "    .dataframe tbody tr th:only-of-type {\n",
              "        vertical-align: middle;\n",
              "    }\n",
              "\n",
              "    .dataframe tbody tr th {\n",
              "        vertical-align: top;\n",
              "    }\n",
              "\n",
              "    .dataframe thead th {\n",
              "        text-align: right;\n",
              "    }\n",
              "</style>\n",
              "<table border=\"1\" class=\"dataframe\">\n",
              "  <thead>\n",
              "    <tr style=\"text-align: right;\">\n",
              "      <th></th>\n",
              "      <th>runtime</th>\n",
              "      <th>runtime_hours</th>\n",
              "      <th>runtime_minutes</th>\n",
              "    </tr>\n",
              "  </thead>\n",
              "  <tbody>\n",
              "    <tr>\n",
              "      <th>0</th>\n",
              "      <td>48</td>\n",
              "      <td>0</td>\n",
              "      <td>48</td>\n",
              "    </tr>\n",
              "    <tr>\n",
              "      <th>1</th>\n",
              "      <td>113</td>\n",
              "      <td>1</td>\n",
              "      <td>53</td>\n",
              "    </tr>\n",
              "    <tr>\n",
              "      <th>2</th>\n",
              "      <td>91</td>\n",
              "      <td>1</td>\n",
              "      <td>31</td>\n",
              "    </tr>\n",
              "    <tr>\n",
              "      <th>3</th>\n",
              "      <td>94</td>\n",
              "      <td>1</td>\n",
              "      <td>34</td>\n",
              "    </tr>\n",
              "    <tr>\n",
              "      <th>4</th>\n",
              "      <td>133</td>\n",
              "      <td>2</td>\n",
              "      <td>13</td>\n",
              "    </tr>\n",
              "    <tr>\n",
              "      <th>5</th>\n",
              "      <td>30</td>\n",
              "      <td>0</td>\n",
              "      <td>30</td>\n",
              "    </tr>\n",
              "    <tr>\n",
              "      <th>6</th>\n",
              "      <td>102</td>\n",
              "      <td>1</td>\n",
              "      <td>42</td>\n",
              "    </tr>\n",
              "    <tr>\n",
              "      <th>7</th>\n",
              "      <td>170</td>\n",
              "      <td>2</td>\n",
              "      <td>50</td>\n",
              "    </tr>\n",
              "    <tr>\n",
              "      <th>8</th>\n",
              "      <td>104</td>\n",
              "      <td>1</td>\n",
              "      <td>44</td>\n",
              "    </tr>\n",
              "    <tr>\n",
              "      <th>9</th>\n",
              "      <td>110</td>\n",
              "      <td>1</td>\n",
              "      <td>50</td>\n",
              "    </tr>\n",
              "  </tbody>\n",
              "</table>\n",
              "</div>\n",
              "    <div class=\"colab-df-buttons\">\n",
              "\n",
              "  <div class=\"colab-df-container\">\n",
              "    <button class=\"colab-df-convert\" onclick=\"convertToInteractive('df-9c867f6d-a50d-42dc-afde-987e2df629a1')\"\n",
              "            title=\"Convert this dataframe to an interactive table.\"\n",
              "            style=\"display:none;\">\n",
              "\n",
              "  <svg xmlns=\"http://www.w3.org/2000/svg\" height=\"24px\" viewBox=\"0 -960 960 960\">\n",
              "    <path d=\"M120-120v-720h720v720H120Zm60-500h600v-160H180v160Zm220 220h160v-160H400v160Zm0 220h160v-160H400v160ZM180-400h160v-160H180v160Zm440 0h160v-160H620v160ZM180-180h160v-160H180v160Zm440 0h160v-160H620v160Z\"/>\n",
              "  </svg>\n",
              "    </button>\n",
              "\n",
              "  <style>\n",
              "    .colab-df-container {\n",
              "      display:flex;\n",
              "      gap: 12px;\n",
              "    }\n",
              "\n",
              "    .colab-df-convert {\n",
              "      background-color: #E8F0FE;\n",
              "      border: none;\n",
              "      border-radius: 50%;\n",
              "      cursor: pointer;\n",
              "      display: none;\n",
              "      fill: #1967D2;\n",
              "      height: 32px;\n",
              "      padding: 0 0 0 0;\n",
              "      width: 32px;\n",
              "    }\n",
              "\n",
              "    .colab-df-convert:hover {\n",
              "      background-color: #E2EBFA;\n",
              "      box-shadow: 0px 1px 2px rgba(60, 64, 67, 0.3), 0px 1px 3px 1px rgba(60, 64, 67, 0.15);\n",
              "      fill: #174EA6;\n",
              "    }\n",
              "\n",
              "    .colab-df-buttons div {\n",
              "      margin-bottom: 4px;\n",
              "    }\n",
              "\n",
              "    [theme=dark] .colab-df-convert {\n",
              "      background-color: #3B4455;\n",
              "      fill: #D2E3FC;\n",
              "    }\n",
              "\n",
              "    [theme=dark] .colab-df-convert:hover {\n",
              "      background-color: #434B5C;\n",
              "      box-shadow: 0px 1px 3px 1px rgba(0, 0, 0, 0.15);\n",
              "      filter: drop-shadow(0px 1px 2px rgba(0, 0, 0, 0.3));\n",
              "      fill: #FFFFFF;\n",
              "    }\n",
              "  </style>\n",
              "\n",
              "    <script>\n",
              "      const buttonEl =\n",
              "        document.querySelector('#df-9c867f6d-a50d-42dc-afde-987e2df629a1 button.colab-df-convert');\n",
              "      buttonEl.style.display =\n",
              "        google.colab.kernel.accessAllowed ? 'block' : 'none';\n",
              "\n",
              "      async function convertToInteractive(key) {\n",
              "        const element = document.querySelector('#df-9c867f6d-a50d-42dc-afde-987e2df629a1');\n",
              "        const dataTable =\n",
              "          await google.colab.kernel.invokeFunction('convertToInteractive',\n",
              "                                                    [key], {});\n",
              "        if (!dataTable) return;\n",
              "\n",
              "        const docLinkHtml = 'Like what you see? Visit the ' +\n",
              "          '<a target=\"_blank\" href=https://colab.research.google.com/notebooks/data_table.ipynb>data table notebook</a>'\n",
              "          + ' to learn more about interactive tables.';\n",
              "        element.innerHTML = '';\n",
              "        dataTable['output_type'] = 'display_data';\n",
              "        await google.colab.output.renderOutput(dataTable, element);\n",
              "        const docLink = document.createElement('div');\n",
              "        docLink.innerHTML = docLinkHtml;\n",
              "        element.appendChild(docLink);\n",
              "      }\n",
              "    </script>\n",
              "  </div>\n",
              "\n",
              "\n",
              "<div id=\"df-e7b0273a-77a3-425b-9f37-0405a5adbe67\">\n",
              "  <button class=\"colab-df-quickchart\" onclick=\"quickchart('df-e7b0273a-77a3-425b-9f37-0405a5adbe67')\"\n",
              "            title=\"Suggest charts\"\n",
              "            style=\"display:none;\">\n",
              "\n",
              "<svg xmlns=\"http://www.w3.org/2000/svg\" height=\"24px\"viewBox=\"0 0 24 24\"\n",
              "     width=\"24px\">\n",
              "    <g>\n",
              "        <path d=\"M19 3H5c-1.1 0-2 .9-2 2v14c0 1.1.9 2 2 2h14c1.1 0 2-.9 2-2V5c0-1.1-.9-2-2-2zM9 17H7v-7h2v7zm4 0h-2V7h2v10zm4 0h-2v-4h2v4z\"/>\n",
              "    </g>\n",
              "</svg>\n",
              "  </button>\n",
              "\n",
              "<style>\n",
              "  .colab-df-quickchart {\n",
              "      --bg-color: #E8F0FE;\n",
              "      --fill-color: #1967D2;\n",
              "      --hover-bg-color: #E2EBFA;\n",
              "      --hover-fill-color: #174EA6;\n",
              "      --disabled-fill-color: #AAA;\n",
              "      --disabled-bg-color: #DDD;\n",
              "  }\n",
              "\n",
              "  [theme=dark] .colab-df-quickchart {\n",
              "      --bg-color: #3B4455;\n",
              "      --fill-color: #D2E3FC;\n",
              "      --hover-bg-color: #434B5C;\n",
              "      --hover-fill-color: #FFFFFF;\n",
              "      --disabled-bg-color: #3B4455;\n",
              "      --disabled-fill-color: #666;\n",
              "  }\n",
              "\n",
              "  .colab-df-quickchart {\n",
              "    background-color: var(--bg-color);\n",
              "    border: none;\n",
              "    border-radius: 50%;\n",
              "    cursor: pointer;\n",
              "    display: none;\n",
              "    fill: var(--fill-color);\n",
              "    height: 32px;\n",
              "    padding: 0;\n",
              "    width: 32px;\n",
              "  }\n",
              "\n",
              "  .colab-df-quickchart:hover {\n",
              "    background-color: var(--hover-bg-color);\n",
              "    box-shadow: 0 1px 2px rgba(60, 64, 67, 0.3), 0 1px 3px 1px rgba(60, 64, 67, 0.15);\n",
              "    fill: var(--button-hover-fill-color);\n",
              "  }\n",
              "\n",
              "  .colab-df-quickchart-complete:disabled,\n",
              "  .colab-df-quickchart-complete:disabled:hover {\n",
              "    background-color: var(--disabled-bg-color);\n",
              "    fill: var(--disabled-fill-color);\n",
              "    box-shadow: none;\n",
              "  }\n",
              "\n",
              "  .colab-df-spinner {\n",
              "    border: 2px solid var(--fill-color);\n",
              "    border-color: transparent;\n",
              "    border-bottom-color: var(--fill-color);\n",
              "    animation:\n",
              "      spin 1s steps(1) infinite;\n",
              "  }\n",
              "\n",
              "  @keyframes spin {\n",
              "    0% {\n",
              "      border-color: transparent;\n",
              "      border-bottom-color: var(--fill-color);\n",
              "      border-left-color: var(--fill-color);\n",
              "    }\n",
              "    20% {\n",
              "      border-color: transparent;\n",
              "      border-left-color: var(--fill-color);\n",
              "      border-top-color: var(--fill-color);\n",
              "    }\n",
              "    30% {\n",
              "      border-color: transparent;\n",
              "      border-left-color: var(--fill-color);\n",
              "      border-top-color: var(--fill-color);\n",
              "      border-right-color: var(--fill-color);\n",
              "    }\n",
              "    40% {\n",
              "      border-color: transparent;\n",
              "      border-right-color: var(--fill-color);\n",
              "      border-top-color: var(--fill-color);\n",
              "    }\n",
              "    60% {\n",
              "      border-color: transparent;\n",
              "      border-right-color: var(--fill-color);\n",
              "    }\n",
              "    80% {\n",
              "      border-color: transparent;\n",
              "      border-right-color: var(--fill-color);\n",
              "      border-bottom-color: var(--fill-color);\n",
              "    }\n",
              "    90% {\n",
              "      border-color: transparent;\n",
              "      border-bottom-color: var(--fill-color);\n",
              "    }\n",
              "  }\n",
              "</style>\n",
              "\n",
              "  <script>\n",
              "    async function quickchart(key) {\n",
              "      const quickchartButtonEl =\n",
              "        document.querySelector('#' + key + ' button');\n",
              "      quickchartButtonEl.disabled = true;  // To prevent multiple clicks.\n",
              "      quickchartButtonEl.classList.add('colab-df-spinner');\n",
              "      try {\n",
              "        const charts = await google.colab.kernel.invokeFunction(\n",
              "            'suggestCharts', [key], {});\n",
              "      } catch (error) {\n",
              "        console.error('Error during call to suggestCharts:', error);\n",
              "      }\n",
              "      quickchartButtonEl.classList.remove('colab-df-spinner');\n",
              "      quickchartButtonEl.classList.add('colab-df-quickchart-complete');\n",
              "    }\n",
              "    (() => {\n",
              "      let quickchartButtonEl =\n",
              "        document.querySelector('#df-e7b0273a-77a3-425b-9f37-0405a5adbe67 button');\n",
              "      quickchartButtonEl.style.display =\n",
              "        google.colab.kernel.accessAllowed ? 'block' : 'none';\n",
              "    })();\n",
              "  </script>\n",
              "</div>\n",
              "\n",
              "    </div>\n",
              "  </div>\n"
            ]
          },
          "metadata": {},
          "execution_count": 18
        }
      ],
      "source": [
        "netflix[\"runtime_minutes\"] = netflix[\"runtime\"] % 60\n",
        "\n",
        "netflix[ [\"runtime\", \"runtime_hours\", \"runtime_minutes\"] ].head(10)"
      ]
    },
    {
      "cell_type": "markdown",
      "id": "06ddae10-303c-4415-a7f2-95f3996de453",
      "metadata": {
        "id": "06ddae10-303c-4415-a7f2-95f3996de453"
      },
      "source": [
        "**Example.** Let's add a column which is the average review score, rather than keeping both the IMDB and TMDB user scores."
      ]
    },
    {
      "cell_type": "code",
      "execution_count": null,
      "id": "4ed9e278-7f38-4bf0-9519-21e65c91b0ec",
      "metadata": {
        "id": "4ed9e278-7f38-4bf0-9519-21e65c91b0ec"
      },
      "outputs": [],
      "source": [
        "netflix[\"score\"] = ( netflix[\"imdb_score\"] + netflix[\"tmdb_score\"] ) / 2\n",
        "\n",
        "netflix[ [\"imdb_score\", \"tmdb_score\", \"score\"] ].head(6)"
      ]
    },
    {
      "cell_type": "markdown",
      "id": "d81c87ec-361c-4aa2-a03f-8a518e1ecbff",
      "metadata": {
        "id": "d81c87ec-361c-4aa2-a03f-8a518e1ecbff"
      },
      "source": [
        "**Example.** Let's add an **indicator column** about the length of titles on Netflix which tells us which ones are \"long.\" For our purposes, we'll consider a movie is \"long\" if it is over 2 hours in length.\n",
        "\n",
        "Indicator columns can be added by writing any logical expression about another column, using `>`, `<`, `==`, `!=`, `>=`, `<=` and so on."
      ]
    },
    {
      "cell_type": "code",
      "execution_count": null,
      "id": "bfc4a2d7-06da-4dbf-9c3d-7e383bf790da",
      "metadata": {
        "id": "bfc4a2d7-06da-4dbf-9c3d-7e383bf790da"
      },
      "outputs": [],
      "source": [
        "netflix[\"is_long\"] = netflix[\"runtime_hours\"] >= 2"
      ]
    },
    {
      "cell_type": "code",
      "execution_count": null,
      "id": "d1f939d8-e557-4419-982f-574df612a900",
      "metadata": {
        "id": "d1f939d8-e557-4419-982f-574df612a900"
      },
      "outputs": [],
      "source": [
        "netflix[ [\"runtime\", \"is_long\"] ].head(6)"
      ]
    },
    {
      "cell_type": "markdown",
      "id": "daf4243e-c6bf-401c-a394-2c79a9a23ae1",
      "metadata": {
        "id": "daf4243e-c6bf-401c-a394-2c79a9a23ae1"
      },
      "source": [
        "This indicator column is useful because we can now see if longer movies have different ratings from shorter movies:"
      ]
    },
    {
      "cell_type": "code",
      "execution_count": null,
      "id": "057aeb26-0015-41d0-a3cb-c322756a61df",
      "metadata": {
        "id": "057aeb26-0015-41d0-a3cb-c322756a61df"
      },
      "outputs": [],
      "source": [
        "movies = netflix.loc[ netflix[\"type\"] == \"MOVIE\" ]\n",
        "movies.groupby(\"is_long\").describe()[\"score\"]"
      ]
    },
    {
      "cell_type": "markdown",
      "id": "289fd016-214d-49a5-8eae-1a706208ad5d",
      "metadata": {
        "id": "289fd016-214d-49a5-8eae-1a706208ad5d"
      },
      "source": [
        "It looks like they're quite similar."
      ]
    },
    {
      "cell_type": "markdown",
      "id": "e61f8fb8-6be4-4975-bb9c-30b34ff9dc13",
      "metadata": {
        "id": "e61f8fb8-6be4-4975-bb9c-30b34ff9dc13"
      },
      "source": [
        "**Example.** Let's add an indicator column telling us whether a title is highly rated. Looking at the statistics for movies, it appears that 75% of all titles have a rating of 7.40 or lower, so we'll use that as the cut-off between regular movies and \"highly-rated\" ones."
      ]
    },
    {
      "cell_type": "code",
      "execution_count": null,
      "id": "deb31e5f-605f-4bd8-9969-4af1136be27c",
      "metadata": {
        "id": "deb31e5f-605f-4bd8-9969-4af1136be27c"
      },
      "outputs": [],
      "source": [
        "netflix.describe()[\"score\"]"
      ]
    },
    {
      "cell_type": "code",
      "execution_count": null,
      "id": "d8af6d1a-5068-44bc-9f30-9ccd91d415ef",
      "metadata": {
        "id": "d8af6d1a-5068-44bc-9f30-9ccd91d415ef"
      },
      "outputs": [],
      "source": [
        "netflix[\"highly_rated\"] = netflix[\"score\"] > 7.4"
      ]
    },
    {
      "cell_type": "code",
      "execution_count": null,
      "id": "7552afa4-a34f-40f6-8526-0d0c6cff3fc6",
      "metadata": {
        "id": "7552afa4-a34f-40f6-8526-0d0c6cff3fc6"
      },
      "outputs": [],
      "source": [
        "netflix[ [\"score\", \"highly_rated\"] ].head(8)"
      ]
    },
    {
      "cell_type": "markdown",
      "id": "4a6088e2-b350-48c9-8baf-b4e305ccd50d",
      "metadata": {
        "id": "4a6088e2-b350-48c9-8baf-b4e305ccd50d"
      },
      "source": [
        "## Built-In DataFrame Functions"
      ]
    },
    {
      "cell_type": "markdown",
      "id": "188eba06-d691-4b6f-8b31-08e886a294f0",
      "metadata": {
        "id": "188eba06-d691-4b6f-8b31-08e886a294f0"
      },
      "source": [
        "The above section applies if you're using Python's built-in mathematical operators (`+`, `-`, and so on) and logical operators (`<`, `>`, &c.). But most of the functions for string manipulation we've used and will be using *will not work*. The reason is simple, but not obvious if you're not very familiar with Python: these functions are designed to work on a single string, float, or whatever, but not for a list or Series of them.\n",
        "\n",
        "Consider the following, which works:"
      ]
    },
    {
      "cell_type": "code",
      "execution_count": null,
      "id": "6cc1857f-9d72-4bb3-a467-90f916b9e9ec",
      "metadata": {
        "id": "6cc1857f-9d72-4bb3-a467-90f916b9e9ec"
      },
      "outputs": [],
      "source": [
        "str.lower(\"HELLO\")"
      ]
    },
    {
      "cell_type": "markdown",
      "id": "4ad14f33-3aa3-4932-a14c-29e05adc4a1c",
      "metadata": {
        "id": "4ad14f33-3aa3-4932-a14c-29e05adc4a1c"
      },
      "source": [
        "And this, which does not:"
      ]
    },
    {
      "cell_type": "code",
      "execution_count": null,
      "id": "bffc37a8-8234-43c3-8d45-c7b6f65bbdaa",
      "metadata": {
        "id": "bffc37a8-8234-43c3-8d45-c7b6f65bbdaa"
      },
      "outputs": [],
      "source": [
        "str.lower([\"HELLO\", \"HOW\", \"ARE\", \"YOU\"])"
      ]
    },
    {
      "cell_type": "markdown",
      "id": "fbc39866-0517-45fd-b77f-245bf6146336",
      "metadata": {
        "id": "fbc39866-0517-45fd-b77f-245bf6146336"
      },
      "source": [
        "Similarly, this also produces an error because, like *lists*, a Pandas *Series* object is a collection of values:"
      ]
    },
    {
      "cell_type": "code",
      "execution_count": null,
      "id": "22664496-2e08-44c3-93c7-143f3b4a89a9",
      "metadata": {
        "id": "22664496-2e08-44c3-93c7-143f3b4a89a9"
      },
      "outputs": [],
      "source": [
        "str.lower(netflix[\"title\"])"
      ]
    },
    {
      "cell_type": "markdown",
      "id": "3a80ae02-c021-4c11-9d61-26c5deb43e1d",
      "metadata": {
        "id": "3a80ae02-c021-4c11-9d61-26c5deb43e1d"
      },
      "source": [
        "There are two solutions to this problem:\n",
        "* Pandas has many built-in functions which duplicate string functions we've already seen. A complete list can be found [in the documentation](https://pandas.pydata.org/docs/reference/api/pandas.Series.str.lower.html)\n",
        "* Use the `Series.apply()` method, which is much more flexible, allowing for arbitrary kinds of data manipulation, but is also more complicated.\n",
        "\n",
        "Let's look over a few useful built-in string functions in Pandas.\n",
        "\n",
        "First, the solution to the above example is to use `Series.str.lower()`:"
      ]
    },
    {
      "cell_type": "code",
      "execution_count": null,
      "id": "b0f58c1d-65bd-4f57-a6b1-9a81a481da1f",
      "metadata": {
        "id": "b0f58c1d-65bd-4f57-a6b1-9a81a481da1f"
      },
      "outputs": [],
      "source": [
        "netflix[\"title\"].str.lower()"
      ]
    },
    {
      "cell_type": "markdown",
      "id": "2903ad33-50c4-4dbb-bf99-a64c2bd5fcba",
      "metadata": {
        "id": "2903ad33-50c4-4dbb-bf99-a64c2bd5fcba"
      },
      "source": [
        "**Example.** How long are titles of shows on Netflix?\n",
        "\n",
        "This is a straightforward application of the `Series.str.len()` function. Let's start by calculating lengths"
      ]
    },
    {
      "cell_type": "code",
      "execution_count": null,
      "id": "baf00ab5-96f4-4446-96e2-69de88a8d16e",
      "metadata": {
        "id": "baf00ab5-96f4-4446-96e2-69de88a8d16e"
      },
      "outputs": [],
      "source": [
        "netflix[\"title\"].str.len()"
      ]
    },
    {
      "cell_type": "markdown",
      "id": "624d809b-77e3-45a6-a68c-e7a7ab46931f",
      "metadata": {
        "id": "624d809b-77e3-45a6-a68c-e7a7ab46931f"
      },
      "source": [
        "Now that we have this, we can simply use `.describe()` to calculate typical values:"
      ]
    },
    {
      "cell_type": "code",
      "execution_count": null,
      "id": "f4bc7502-7849-439f-9794-66813988f09b",
      "metadata": {
        "id": "f4bc7502-7849-439f-9794-66813988f09b"
      },
      "outputs": [],
      "source": [
        "netflix[\"title\"].str.len().describe()"
      ]
    },
    {
      "cell_type": "markdown",
      "id": "de3b3cf6-7aea-4501-a240-651ee73a52ab",
      "metadata": {
        "id": "de3b3cf6-7aea-4501-a240-651ee73a52ab"
      },
      "source": [
        "The mean length is 18 characters. The longest title is 104 characters, while the shortest is 1 character long. What are these? To do this, we use `.loc[]`."
      ]
    },
    {
      "cell_type": "code",
      "execution_count": null,
      "id": "9d9f0bca-1804-42eb-aedc-8d6cd9439cfd",
      "metadata": {
        "id": "9d9f0bca-1804-42eb-aedc-8d6cd9439cfd"
      },
      "outputs": [],
      "source": [
        "netflix[\"title\"].loc[ netflix[\"title\"].str.len() == 1 ]"
      ]
    },
    {
      "cell_type": "code",
      "execution_count": null,
      "id": "67acd11f-968b-477f-96a9-046e7e2d5dd2",
      "metadata": {
        "id": "67acd11f-968b-477f-96a9-046e7e2d5dd2"
      },
      "outputs": [],
      "source": [
        "netflix[\"title\"].loc[ netflix[\"title\"].str.len() == 104 ]"
      ]
    },
    {
      "cell_type": "markdown",
      "id": "7bf53330-c10d-42eb-89f2-1c2d6597e79b",
      "metadata": {
        "id": "7bf53330-c10d-42eb-89f2-1c2d6597e79b"
      },
      "source": [
        "**Example.** How many dramas and comedies are on Netflix?\n",
        "\n",
        "The `Series.str.contains()` function will indicate whether a string contains text, similar to `.find()`. We can use this on the *genres* columns to convert them to indicators."
      ]
    },
    {
      "cell_type": "code",
      "source": [
        "netflix[\"genres\"]"
      ],
      "metadata": {
        "id": "pMj3rOR6YhYf"
      },
      "id": "pMj3rOR6YhYf",
      "execution_count": null,
      "outputs": []
    },
    {
      "cell_type": "code",
      "execution_count": null,
      "id": "bacdeb29-36b7-44f1-98d6-6c4e8bec5667",
      "metadata": {
        "id": "bacdeb29-36b7-44f1-98d6-6c4e8bec5667"
      },
      "outputs": [],
      "source": [
        "netflix[\"is_comedy\"] = netflix[\"genres\"].str.contains(\"comedy\")\n",
        "netflix[\"is_drama\"]  = netflix[\"genres\"].str.contains(\"drama\")"
      ]
    },
    {
      "cell_type": "code",
      "execution_count": null,
      "id": "98eff635-4979-4768-84d8-bea3713c2432",
      "metadata": {
        "id": "98eff635-4979-4768-84d8-bea3713c2432"
      },
      "outputs": [],
      "source": [
        "netflix[ [\"genres\", \"is_comedy\", \"is_drama\"] ].head(5)"
      ]
    },
    {
      "cell_type": "markdown",
      "id": "9a4d0332-824d-4cca-abbd-27818a900e62",
      "metadata": {
        "id": "9a4d0332-824d-4cca-abbd-27818a900e62"
      },
      "source": [
        "And then count them. It looks like over 900 of the titles are *both* comedy and drama!"
      ]
    },
    {
      "cell_type": "code",
      "execution_count": null,
      "id": "5ca014a5-eb39-40ac-82f3-dea70e11330e",
      "metadata": {
        "id": "5ca014a5-eb39-40ac-82f3-dea70e11330e"
      },
      "outputs": [],
      "source": [
        "netflix.value_counts([\"is_comedy\", \"is_drama\"])"
      ]
    },
    {
      "cell_type": "markdown",
      "source": [
        "### Using `Series.apply()`\n",
        "\n",
        "`apply` allows you to apply any function to a column in your dataframe. For example, we could use `str.lower` to make a column entirely lowercase.\n",
        "\n",
        "*Note:* when using `apply`, don't include the parentheses on the function you're applying. This tells Python you want to tell the `apply` method to *use* your function, rather evaluate the function. `max` is a function, while `max(3,4)` *is* the integer `3`."
      ],
      "metadata": {
        "id": "J6zrA_RWaSLh"
      },
      "id": "J6zrA_RWaSLh"
    },
    {
      "cell_type": "code",
      "source": [
        "netflix[\"title\"].apply(str.lower)"
      ],
      "metadata": {
        "id": "-x1JRlna_2tJ"
      },
      "id": "-x1JRlna_2tJ",
      "execution_count": null,
      "outputs": []
    },
    {
      "cell_type": "markdown",
      "source": [
        "Why would we do this when this function already exists in Pandas? Well, you wouldn't. `apply` is useful when no such function already exists. For example, here's a simple function that adds an exclamation point to the end of a string, and also makes it all caps:"
      ],
      "metadata": {
        "id": "aTDn7Y74AYvq"
      },
      "id": "aTDn7Y74AYvq"
    },
    {
      "cell_type": "code",
      "source": [
        "def make_exclamation(text):\n",
        "    return str.upper(text) + \"!\""
      ],
      "metadata": {
        "id": "bnb-7_i7A1JL"
      },
      "id": "bnb-7_i7A1JL",
      "execution_count": null,
      "outputs": []
    },
    {
      "cell_type": "code",
      "source": [
        "make_exclamation(\"hello there\")"
      ],
      "metadata": {
        "id": "CYj4B-xRA56-"
      },
      "id": "CYj4B-xRA56-",
      "execution_count": null,
      "outputs": []
    },
    {
      "cell_type": "markdown",
      "source": [
        "We can apply this function to the titles in our dataset:"
      ],
      "metadata": {
        "id": "CgNnZOnvBFRi"
      },
      "id": "CgNnZOnvBFRi"
    },
    {
      "cell_type": "code",
      "source": [
        "netflix[\"title\"].apply(make_exclamation)"
      ],
      "metadata": {
        "id": "DzdqKCMwBLXo"
      },
      "id": "DzdqKCMwBLXo",
      "execution_count": null,
      "outputs": []
    }
  ],
  "metadata": {
    "kernelspec": {
      "display_name": "Python 3 (ipykernel)",
      "language": "python",
      "name": "python3"
    },
    "language_info": {
      "codemirror_mode": {
        "name": "ipython",
        "version": 3
      },
      "file_extension": ".py",
      "mimetype": "text/x-python",
      "name": "python",
      "nbconvert_exporter": "python",
      "pygments_lexer": "ipython3",
      "version": "3.9.12"
    },
    "colab": {
      "provenance": []
    }
  },
  "nbformat": 4,
  "nbformat_minor": 5
}