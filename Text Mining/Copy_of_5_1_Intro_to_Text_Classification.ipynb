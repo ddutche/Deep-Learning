{
  "cells": [
    {
      "cell_type": "markdown",
      "id": "f6998c28-16cd-4e89-9c27-77ce4e1b3734",
      "metadata": {
        "id": "f6998c28-16cd-4e89-9c27-77ce4e1b3734"
      },
      "source": [
        "# Intro to Text Classification"
      ]
    },
    {
      "cell_type": "markdown",
      "id": "c9824193-d758-4c83-91e0-4cd5036792a2",
      "metadata": {
        "id": "c9824193-d758-4c83-91e0-4cd5036792a2"
      },
      "source": [
        "## Skills\n",
        "\n",
        "1. **Understand the basic vocabulary of machine learning.**\n",
        "2. **Explain the importance of training and testing data.**\n",
        "3. **Train and evaluate a Support Vector Machine**\n",
        "4. Build a classification pipeline.\n",
        "6. Use a multilabel classifier.\n",
        "7. Train and evaluate a transformer classifier."
      ]
    },
    {
      "cell_type": "markdown",
      "id": "e1590031-d1db-4d12-9f2c-4157cd770ca4",
      "metadata": {
        "id": "e1590031-d1db-4d12-9f2c-4157cd770ca4"
      },
      "source": [
        "## Vocabulary List\n",
        "\n",
        "* **hyperparameter.** An option in a model that is not fit by training, but chosen by the user.\n",
        "* **model.** A mathematical/computational that takes in some data, outputs some other data, and has parameters that can be fit. A line ($y=mx+b$) is a very simple model to get you from $x$ to $y$.\n",
        "* **parameter.** Variables in a model that are fit during training.\n",
        "* **Support Vector Machine.** A simple model that attempts to put a line between two classes of observations.\n",
        "* **Transformer Architecture.** A deep-learning model which takes into account word meanings and order.\n",
        "* **x variables.** The inputs to a model.\n",
        "* **y variable.** The output to a model, the thing we are trying to predict.\n",
        "* **training set.** The data used to train a model.\n",
        "* **validation set.** Data used to evaluate a model and find the best hyperparameters.\n",
        "* **testing set.** Data used in a final evaluation of a model."
      ]
    },
    {
      "cell_type": "markdown",
      "id": "9dba2cef-85ae-4aab-a015-33cd5599ff48",
      "metadata": {
        "id": "9dba2cef-85ae-4aab-a015-33cd5599ff48"
      },
      "source": [
        "## Additional Resources\n",
        "\n",
        "1. [Scikit-Learn SVM Page](https://scikit-learn.org/stable/modules/svm.html)\n",
        "2. [Working with Text Data in Scikit-Learn](https://scikit-learn.org/stable/tutorial/text_analytics/working_with_text_data.html)\n",
        "3. [Working with Text Documents](https://scikit-learn.org/stable/auto_examples/text/plot_document_classification_20newsgroups.html)"
      ]
    },
    {
      "cell_type": "code",
      "execution_count": null,
      "id": "503a1608-d9a3-4afc-92d4-f3c44e6e5d3c",
      "metadata": {
        "id": "503a1608-d9a3-4afc-92d4-f3c44e6e5d3c"
      },
      "outputs": [],
      "source": [
        "from sklearn.feature_extraction.text import *\n",
        "from sklearn.model_selection import train_test_split\n",
        "from sklearn.linear_model import SGDClassifier\n",
        "from sklearn import metrics\n",
        "\n",
        "from sklearn.naive_bayes import MultinomialNB\n",
        "\n",
        "import pandas as pd"
      ]
    },
    {
      "cell_type": "markdown",
      "id": "ff738882-4dbe-4931-bae4-107e5f342b74",
      "metadata": {
        "id": "ff738882-4dbe-4931-bae4-107e5f342b74"
      },
      "source": [
        "## Motivation\n",
        "\n",
        "Consider the following questions that we may want to answer using text analysis:\n",
        "\n",
        "1. Can we automatically determine if a tweet about a product is positive or negative?\n",
        "2. From an article's text, can we determine whether it is sports, politics, entertainment, ...?\n",
        "3. Can we determine if an email or online comment is from a real user or a spam bot?\n",
        "4. Based on word choice, who is the unknown author of this text?\n",
        "\n",
        "We've looked at relative frequency and TF-IDF analysis, both of which give you an idea if certain words are more frequent or more related to certain kinds of text. So we could look at every word in a tweet and see if each one is more likely to be from a positive or negative tweet. But we want to decide *overall* whether that particular tweet is positive or negative, which is a different, but related task. That's where classification comes in.\n",
        "\n",
        "## Machine Learning\n",
        "\n",
        "How does this work? An analogy to linear regression may be helpful here. You've likely seen this before (perhaps in Excel) where you make a scatterplot and fit a line to the data:"
      ]
    },
    {
      "cell_type": "markdown",
      "id": "a207cfc9-549b-4d33-8137-56f186bb8096",
      "metadata": {
        "id": "a207cfc9-549b-4d33-8137-56f186bb8096"
      },
      "source": [
        "<div style=\"text-align:center;\"><img src=\"https://imgur.com/CdQ3Kdb.png\"></div>"
      ]
    },
    {
      "cell_type": "markdown",
      "id": "e5bb8d61-5df6-4c15-985f-89a69e08d9fe",
      "metadata": {
        "id": "e5bb8d61-5df6-4c15-985f-89a69e08d9fe"
      },
      "source": [
        "Here what we have is an $x$ variable which we want to use to predict a $y$ variable, using a model (the line; $y = mx + b$) which has parameters ($m$ and $b$, the slope and intercept). But in order to figure out the best-fitting line, we first need a bunch of data where we know both the $x$ and the $y$ values, called the training dataset. Once we've done that, we can take new $x$ observations and predict what their value of $y$ is.\n",
        "\n",
        "For us, each of those things are:\n",
        "\n",
        "* **The $x$ Variable.** The text to classify.\n",
        "* **The $y$ Variable.** The category that the text belongs to: spam/not spam, positive/negative, &c.\n",
        "* **The Model.** We'll be using two different models: the Support Vector Machine (SVM), and a Transformer architecture.\n",
        "\n",
        "Let's take a look at the SVM:"
      ]
    },
    {
      "cell_type": "markdown",
      "source": [
        "## Support Vector Machines (SVMs)\n",
        "\n",
        "At its core, the SVM algorithm tries to find a line which does the best job of separating your data. Take a look at the plot below, which is a plot of two variables, $A$, and $B$, in a dataset. The colors and shapes of the points (the blue crosses and red circles) are the classes. The line plotted shown is the line which best splits the blue and red points.\n",
        "\n",
        "There are variations on the SVM algorithm that add \"kernels\"—which are effectively ways of making the boundary line not a line. They are useful for lots of classification tasks, but generally not recommended for very high-dimensional work like text classification.\n",
        "\n",
        "<div style=\"text-align:center;\"><img src=\"https://imgur.com/iqtFyZy.png\"></div>"
      ],
      "metadata": {
        "id": "LF9QSpgX0xAS"
      },
      "id": "LF9QSpgX0xAS"
    },
    {
      "cell_type": "markdown",
      "id": "778ab0ed-92fa-487f-b2b2-a437aa08e926",
      "metadata": {
        "id": "778ab0ed-92fa-487f-b2b2-a437aa08e926"
      },
      "source": [
        "## Worked Example\n",
        "\n",
        "The code below does the following steps, which are quite generic for many types of supervised machine learning. You'll see this workflow again if you do any machine learning (DIDA 325, DIDA 340, ...).\n",
        "\n",
        "1. Split into training and testing sets\n",
        "2. Perform Data Transforms\n",
        "2. Fit a Model\n",
        "3. Evaluate the Model"
      ]
    },
    {
      "cell_type": "code",
      "source": [
        "reviews = pd.read_csv(\"https://raw.githubusercontent.com/Greg-Hallenbeck/class-datasets/main/datasets/tripadvisor_hotel_reviews.csv\")\n",
        "\n",
        "reviews.head(5)"
      ],
      "metadata": {
        "colab": {
          "base_uri": "https://localhost:8080/",
          "height": 206
        },
        "id": "aghQJnkzuSMo",
        "outputId": "f5dda5dc-109e-4dd6-9330-f0ec34eb5182"
      },
      "id": "aghQJnkzuSMo",
      "execution_count": null,
      "outputs": [
        {
          "output_type": "execute_result",
          "data": {
            "text/plain": [
              "                                              Review  Rating\n",
              "0  nice hotel expensive parking got good deal sta...       4\n",
              "1  ok nothing special charge diamond member hilto...       2\n",
              "2  nice rooms not 4* experience hotel monaco seat...       3\n",
              "3  unique, great stay, wonderful time hotel monac...       5\n",
              "4  great stay great stay, went seahawk game aweso...       5"
            ],
            "text/html": [
              "\n",
              "  <div id=\"df-7e13f6cc-8b85-45dc-b11e-24193e25aed7\" class=\"colab-df-container\">\n",
              "    <div>\n",
              "<style scoped>\n",
              "    .dataframe tbody tr th:only-of-type {\n",
              "        vertical-align: middle;\n",
              "    }\n",
              "\n",
              "    .dataframe tbody tr th {\n",
              "        vertical-align: top;\n",
              "    }\n",
              "\n",
              "    .dataframe thead th {\n",
              "        text-align: right;\n",
              "    }\n",
              "</style>\n",
              "<table border=\"1\" class=\"dataframe\">\n",
              "  <thead>\n",
              "    <tr style=\"text-align: right;\">\n",
              "      <th></th>\n",
              "      <th>Review</th>\n",
              "      <th>Rating</th>\n",
              "    </tr>\n",
              "  </thead>\n",
              "  <tbody>\n",
              "    <tr>\n",
              "      <th>0</th>\n",
              "      <td>nice hotel expensive parking got good deal sta...</td>\n",
              "      <td>4</td>\n",
              "    </tr>\n",
              "    <tr>\n",
              "      <th>1</th>\n",
              "      <td>ok nothing special charge diamond member hilto...</td>\n",
              "      <td>2</td>\n",
              "    </tr>\n",
              "    <tr>\n",
              "      <th>2</th>\n",
              "      <td>nice rooms not 4* experience hotel monaco seat...</td>\n",
              "      <td>3</td>\n",
              "    </tr>\n",
              "    <tr>\n",
              "      <th>3</th>\n",
              "      <td>unique, great stay, wonderful time hotel monac...</td>\n",
              "      <td>5</td>\n",
              "    </tr>\n",
              "    <tr>\n",
              "      <th>4</th>\n",
              "      <td>great stay great stay, went seahawk game aweso...</td>\n",
              "      <td>5</td>\n",
              "    </tr>\n",
              "  </tbody>\n",
              "</table>\n",
              "</div>\n",
              "    <div class=\"colab-df-buttons\">\n",
              "\n",
              "  <div class=\"colab-df-container\">\n",
              "    <button class=\"colab-df-convert\" onclick=\"convertToInteractive('df-7e13f6cc-8b85-45dc-b11e-24193e25aed7')\"\n",
              "            title=\"Convert this dataframe to an interactive table.\"\n",
              "            style=\"display:none;\">\n",
              "\n",
              "  <svg xmlns=\"http://www.w3.org/2000/svg\" height=\"24px\" viewBox=\"0 -960 960 960\">\n",
              "    <path d=\"M120-120v-720h720v720H120Zm60-500h600v-160H180v160Zm220 220h160v-160H400v160Zm0 220h160v-160H400v160ZM180-400h160v-160H180v160Zm440 0h160v-160H620v160ZM180-180h160v-160H180v160Zm440 0h160v-160H620v160Z\"/>\n",
              "  </svg>\n",
              "    </button>\n",
              "\n",
              "  <style>\n",
              "    .colab-df-container {\n",
              "      display:flex;\n",
              "      gap: 12px;\n",
              "    }\n",
              "\n",
              "    .colab-df-convert {\n",
              "      background-color: #E8F0FE;\n",
              "      border: none;\n",
              "      border-radius: 50%;\n",
              "      cursor: pointer;\n",
              "      display: none;\n",
              "      fill: #1967D2;\n",
              "      height: 32px;\n",
              "      padding: 0 0 0 0;\n",
              "      width: 32px;\n",
              "    }\n",
              "\n",
              "    .colab-df-convert:hover {\n",
              "      background-color: #E2EBFA;\n",
              "      box-shadow: 0px 1px 2px rgba(60, 64, 67, 0.3), 0px 1px 3px 1px rgba(60, 64, 67, 0.15);\n",
              "      fill: #174EA6;\n",
              "    }\n",
              "\n",
              "    .colab-df-buttons div {\n",
              "      margin-bottom: 4px;\n",
              "    }\n",
              "\n",
              "    [theme=dark] .colab-df-convert {\n",
              "      background-color: #3B4455;\n",
              "      fill: #D2E3FC;\n",
              "    }\n",
              "\n",
              "    [theme=dark] .colab-df-convert:hover {\n",
              "      background-color: #434B5C;\n",
              "      box-shadow: 0px 1px 3px 1px rgba(0, 0, 0, 0.15);\n",
              "      filter: drop-shadow(0px 1px 2px rgba(0, 0, 0, 0.3));\n",
              "      fill: #FFFFFF;\n",
              "    }\n",
              "  </style>\n",
              "\n",
              "    <script>\n",
              "      const buttonEl =\n",
              "        document.querySelector('#df-7e13f6cc-8b85-45dc-b11e-24193e25aed7 button.colab-df-convert');\n",
              "      buttonEl.style.display =\n",
              "        google.colab.kernel.accessAllowed ? 'block' : 'none';\n",
              "\n",
              "      async function convertToInteractive(key) {\n",
              "        const element = document.querySelector('#df-7e13f6cc-8b85-45dc-b11e-24193e25aed7');\n",
              "        const dataTable =\n",
              "          await google.colab.kernel.invokeFunction('convertToInteractive',\n",
              "                                                    [key], {});\n",
              "        if (!dataTable) return;\n",
              "\n",
              "        const docLinkHtml = 'Like what you see? Visit the ' +\n",
              "          '<a target=\"_blank\" href=https://colab.research.google.com/notebooks/data_table.ipynb>data table notebook</a>'\n",
              "          + ' to learn more about interactive tables.';\n",
              "        element.innerHTML = '';\n",
              "        dataTable['output_type'] = 'display_data';\n",
              "        await google.colab.output.renderOutput(dataTable, element);\n",
              "        const docLink = document.createElement('div');\n",
              "        docLink.innerHTML = docLinkHtml;\n",
              "        element.appendChild(docLink);\n",
              "      }\n",
              "    </script>\n",
              "  </div>\n",
              "\n",
              "\n",
              "<div id=\"df-8d0a504a-e7bf-44c4-ba09-56aea5a12f12\">\n",
              "  <button class=\"colab-df-quickchart\" onclick=\"quickchart('df-8d0a504a-e7bf-44c4-ba09-56aea5a12f12')\"\n",
              "            title=\"Suggest charts\"\n",
              "            style=\"display:none;\">\n",
              "\n",
              "<svg xmlns=\"http://www.w3.org/2000/svg\" height=\"24px\"viewBox=\"0 0 24 24\"\n",
              "     width=\"24px\">\n",
              "    <g>\n",
              "        <path d=\"M19 3H5c-1.1 0-2 .9-2 2v14c0 1.1.9 2 2 2h14c1.1 0 2-.9 2-2V5c0-1.1-.9-2-2-2zM9 17H7v-7h2v7zm4 0h-2V7h2v10zm4 0h-2v-4h2v4z\"/>\n",
              "    </g>\n",
              "</svg>\n",
              "  </button>\n",
              "\n",
              "<style>\n",
              "  .colab-df-quickchart {\n",
              "      --bg-color: #E8F0FE;\n",
              "      --fill-color: #1967D2;\n",
              "      --hover-bg-color: #E2EBFA;\n",
              "      --hover-fill-color: #174EA6;\n",
              "      --disabled-fill-color: #AAA;\n",
              "      --disabled-bg-color: #DDD;\n",
              "  }\n",
              "\n",
              "  [theme=dark] .colab-df-quickchart {\n",
              "      --bg-color: #3B4455;\n",
              "      --fill-color: #D2E3FC;\n",
              "      --hover-bg-color: #434B5C;\n",
              "      --hover-fill-color: #FFFFFF;\n",
              "      --disabled-bg-color: #3B4455;\n",
              "      --disabled-fill-color: #666;\n",
              "  }\n",
              "\n",
              "  .colab-df-quickchart {\n",
              "    background-color: var(--bg-color);\n",
              "    border: none;\n",
              "    border-radius: 50%;\n",
              "    cursor: pointer;\n",
              "    display: none;\n",
              "    fill: var(--fill-color);\n",
              "    height: 32px;\n",
              "    padding: 0;\n",
              "    width: 32px;\n",
              "  }\n",
              "\n",
              "  .colab-df-quickchart:hover {\n",
              "    background-color: var(--hover-bg-color);\n",
              "    box-shadow: 0 1px 2px rgba(60, 64, 67, 0.3), 0 1px 3px 1px rgba(60, 64, 67, 0.15);\n",
              "    fill: var(--button-hover-fill-color);\n",
              "  }\n",
              "\n",
              "  .colab-df-quickchart-complete:disabled,\n",
              "  .colab-df-quickchart-complete:disabled:hover {\n",
              "    background-color: var(--disabled-bg-color);\n",
              "    fill: var(--disabled-fill-color);\n",
              "    box-shadow: none;\n",
              "  }\n",
              "\n",
              "  .colab-df-spinner {\n",
              "    border: 2px solid var(--fill-color);\n",
              "    border-color: transparent;\n",
              "    border-bottom-color: var(--fill-color);\n",
              "    animation:\n",
              "      spin 1s steps(1) infinite;\n",
              "  }\n",
              "\n",
              "  @keyframes spin {\n",
              "    0% {\n",
              "      border-color: transparent;\n",
              "      border-bottom-color: var(--fill-color);\n",
              "      border-left-color: var(--fill-color);\n",
              "    }\n",
              "    20% {\n",
              "      border-color: transparent;\n",
              "      border-left-color: var(--fill-color);\n",
              "      border-top-color: var(--fill-color);\n",
              "    }\n",
              "    30% {\n",
              "      border-color: transparent;\n",
              "      border-left-color: var(--fill-color);\n",
              "      border-top-color: var(--fill-color);\n",
              "      border-right-color: var(--fill-color);\n",
              "    }\n",
              "    40% {\n",
              "      border-color: transparent;\n",
              "      border-right-color: var(--fill-color);\n",
              "      border-top-color: var(--fill-color);\n",
              "    }\n",
              "    60% {\n",
              "      border-color: transparent;\n",
              "      border-right-color: var(--fill-color);\n",
              "    }\n",
              "    80% {\n",
              "      border-color: transparent;\n",
              "      border-right-color: var(--fill-color);\n",
              "      border-bottom-color: var(--fill-color);\n",
              "    }\n",
              "    90% {\n",
              "      border-color: transparent;\n",
              "      border-bottom-color: var(--fill-color);\n",
              "    }\n",
              "  }\n",
              "</style>\n",
              "\n",
              "  <script>\n",
              "    async function quickchart(key) {\n",
              "      const quickchartButtonEl =\n",
              "        document.querySelector('#' + key + ' button');\n",
              "      quickchartButtonEl.disabled = true;  // To prevent multiple clicks.\n",
              "      quickchartButtonEl.classList.add('colab-df-spinner');\n",
              "      try {\n",
              "        const charts = await google.colab.kernel.invokeFunction(\n",
              "            'suggestCharts', [key], {});\n",
              "      } catch (error) {\n",
              "        console.error('Error during call to suggestCharts:', error);\n",
              "      }\n",
              "      quickchartButtonEl.classList.remove('colab-df-spinner');\n",
              "      quickchartButtonEl.classList.add('colab-df-quickchart-complete');\n",
              "    }\n",
              "    (() => {\n",
              "      let quickchartButtonEl =\n",
              "        document.querySelector('#df-8d0a504a-e7bf-44c4-ba09-56aea5a12f12 button');\n",
              "      quickchartButtonEl.style.display =\n",
              "        google.colab.kernel.accessAllowed ? 'block' : 'none';\n",
              "    })();\n",
              "  </script>\n",
              "</div>\n",
              "\n",
              "    </div>\n",
              "  </div>\n"
            ],
            "application/vnd.google.colaboratory.intrinsic+json": {
              "type": "dataframe",
              "variable_name": "reviews",
              "summary": "{\n  \"name\": \"reviews\",\n  \"rows\": 20491,\n  \"fields\": [\n    {\n      \"column\": \"Review\",\n      \"properties\": {\n        \"dtype\": \"string\",\n        \"num_unique_values\": 20491,\n        \"samples\": [\n          \"not recommend hotel did reviewers actually stay hotel did, good thing hotel location really close leidseplein, shared facilities filthy got, did not look toilet floor cleaned month, facilities not cleaned 3 days got, disgusting, staff rude complained left night early refused refund night, not recommend hotel,  \",\n          \"barcelona rocks, stayed hotel jazz girlfriend 3 nights end august.the hotel excellent location carrer pelai, close placa catalunya ramblas appreciate buzz city removed respite mayhem crowds, caught airport bus barcelona costs 7 euros person return trip, hotel located 2 mins walk maximum placa universitat stop 2nd route, hotel modern clean, air conditioning room superb balcony looking street outside, room good size, bathroom fine scrimp bit toiletries, bring shower gels unless consider washing unnecessary luxury travels.the downside hotel possibly strengths depending viewpoint, hotel superbly situated 2 different metro stations extremely handy need city sights, downside feel rumbling trains hotel 3rd floor located, worse incessant sound taxi horns hotel mela times square nyc ca n't say disturbed consideration light sleepers irritation, couple shops hotel useful snacks drinks want avoid minibar prices, pool roof tiny n't recommend booking pretty nice place kill time particularly check day just wanted sit chill, n't expect able sit night, shuts fairly early.the hotel excellent 3 star property suggest prices pretty 4 star level, aside hotel tourist bus stopped directly opposite room recommend good way getting overview timer city want possible different areas, think used barcelona tours continuous loop alternative bus turistic 3 different loops involves changing bus round different areas.see gaudi, no fan architecture means, parc guell worth visit nice day n't mind walking uphill, sagrada familia outstanding, couple boat tours port harbour, personally bit underwhelming, save time money things.the nou camp tour worth visit no fan football, stadium amazing history club fascinating, plans redevelopment spectacle completed.ignore negative websites sprung make barcelona akin early days wild west, n't, just sensible major city, read ludicrous claims mark target muggers/pickpockets wore shorts/looked map/did n't speak spanish, rubbish, area ramblas felt safe, couple areas lower end raval little seedy late night just n't stupid fine, worst crime encountered charged 10 euros 2 heinekens irish bar just ramblas heard no-one eats restaurants 9 suffer lack atmosphere did, did n't appear strictly true concede 3 nights, tell restaurants open 8-8.30pm worth getting avoid queues, saturday night arrived restaurant 8.30 offered seat terrace opting window seat overlooking ramblas, 9 turning people away, 9.45 taken pick tables, burst activity 9 n't bad.enjoy,  \",\n          \"ok hotel good location stayed night way beijing rawa island, hotel service room ok. location great shopping restaurants, probably stay, opinion nice 3 star hotel,  \"\n        ],\n        \"semantic_type\": \"\",\n        \"description\": \"\"\n      }\n    },\n    {\n      \"column\": \"Rating\",\n      \"properties\": {\n        \"dtype\": \"number\",\n        \"std\": 1,\n        \"min\": 1,\n        \"max\": 5,\n        \"num_unique_values\": 5,\n        \"samples\": [\n          2,\n          1,\n          3\n        ],\n        \"semantic_type\": \"\",\n        \"description\": \"\"\n      }\n    }\n  ]\n}"
            }
          },
          "metadata": {},
          "execution_count": 3
        }
      ]
    },
    {
      "cell_type": "code",
      "execution_count": null,
      "id": "b055805f-1515-4501-9870-f529b246b60c",
      "metadata": {
        "id": "b055805f-1515-4501-9870-f529b246b60c"
      },
      "outputs": [],
      "source": [
        "#netflix = pd.read_csv(\"https://raw.githubusercontent.com/Greg-Hallenbeck/HARP-210-NLP/main/pandas/netflix.csv\")\n",
        "\n",
        "#netflix.head(2)"
      ]
    },
    {
      "cell_type": "code",
      "execution_count": null,
      "id": "d6cd341f-69b1-4735-8e40-bc9e46032e8a",
      "metadata": {
        "id": "d6cd341f-69b1-4735-8e40-bc9e46032e8a"
      },
      "outputs": [],
      "source": [
        "# Sample pre-processing on the netflix dataset\n",
        "\n",
        "\"\"\"# Pre-processing to get a columns to get a *ton* of categories\n",
        "netflix.loc[netflix[\"genres\"].str.contains(\"drama\"), \"genre\"] = \"drama\"\n",
        "netflix.loc[netflix[\"genres\"].str.contains(\"comedy\"),\"genre\"] = \"comedy\"\n",
        "netflix.loc[netflix[\"genres\"].str.contains(\"documentation\"),\"genre\"] = \"documentary\"\n",
        "netflix.loc[netflix[\"genres\"].str.contains(\"thriller\"),\"genre\"] = \"thriller\"\n",
        "netflix.loc[netflix[\"genres\"].str.contains(\"action\"),\"genre\"] = \"action\"\n",
        "netflix.loc[netflix[\"genres\"].str.contains(\"scifi\"),\"genre\"] = \"scifi\"\n",
        "netflix.loc[netflix[\"genres\"].str.contains(\"romance\"),\"genre\"] = \"romance\"\n",
        "netflix.loc[netflix[\"genres\"].str.contains(\"crime\"),\"genre\"] = \"crime\"\n",
        "netflix.loc[netflix[\"genres\"].str.contains(\"reality\"),\"genre\"] = \"reality\"\n",
        "netflix.loc[netflix[\"genres\"].str.contains(\"fantasy\"),\"genre\"] = \"fantasy\"\n",
        "\n",
        "netflix = netflix.loc[~netflix[\"genre\"].isna()]\"\"\""
      ]
    },
    {
      "cell_type": "markdown",
      "id": "cfa8c068-8806-43f8-badd-eef8f2d6e5cf",
      "metadata": {
        "id": "cfa8c068-8806-43f8-badd-eef8f2d6e5cf"
      },
      "source": [
        "#### Split into Training/Testing Data"
      ]
    },
    {
      "cell_type": "code",
      "execution_count": null,
      "id": "e7cf8255-0e05-44f4-834a-949f651f07f4",
      "metadata": {
        "id": "e7cf8255-0e05-44f4-834a-949f651f07f4"
      },
      "outputs": [],
      "source": [
        "# First, we split the data into a training (~80% of the data) and a testing set (20%).\n",
        "\n",
        "# It's very easy for text models to overfit by \"memorizing\" the correct answers,\n",
        "# so after we train the model, we test it on a second dataset that it hasn't seen.\n",
        "\n",
        "X = reviews[\"Review\"]\n",
        "y = reviews[\"Rating\"]\n",
        "\n",
        "X_train, X_test, y_train, y_test = train_test_split(X, y, test_size=0.2, random_state=0)"
      ]
    },
    {
      "cell_type": "markdown",
      "id": "204019c8-152a-4cfa-bd2e-ac43765d873b",
      "metadata": {
        "id": "204019c8-152a-4cfa-bd2e-ac43765d873b"
      },
      "source": [
        "#### Transform the Data"
      ]
    },
    {
      "cell_type": "code",
      "execution_count": null,
      "id": "2bf0db21-ae55-4a46-b0ce-a80e809461d0",
      "metadata": {
        "id": "2bf0db21-ae55-4a46-b0ce-a80e809461d0"
      },
      "outputs": [],
      "source": [
        "# Instead of using the text as the input directly, we'll use\n",
        "# the TF-IDF of each word. We do that with some scikit-learn functions\n",
        "\n",
        "# This is set up to have a maximum vocabulary size, and remove stop words.\n",
        "# These need to be defined on the training set, as the testing set will have\n",
        "# new words not in the training set\n",
        "cv    = CountVectorizer(max_features=1000, stop_words='english')\n",
        "X_train = cv.fit_transform(X_train)\n",
        "\n",
        "tfidf = TfidfTransformer(use_idf=True)\n",
        "X_train = tfidf.fit_transform(X_train)"
      ]
    },
    {
      "cell_type": "code",
      "execution_count": null,
      "id": "5f5f0cf9-86e2-4550-951a-a697460de507",
      "metadata": {
        "id": "5f5f0cf9-86e2-4550-951a-a697460de507"
      },
      "outputs": [],
      "source": [
        "# Also, transform the testing data as well\n",
        "# Note that we're using .transform(), not .fit_transform()\n",
        "X_test = cv.transform(X_test)\n",
        "X_test = tfidf.transform(X_test)"
      ]
    },
    {
      "cell_type": "markdown",
      "id": "8d649deb-7669-4814-86cc-481f73e3d38a",
      "metadata": {
        "id": "8d649deb-7669-4814-86cc-481f73e3d38a"
      },
      "source": [
        "#### Fit the Model"
      ]
    },
    {
      "cell_type": "code",
      "execution_count": null,
      "id": "4646277a-98e1-4743-8ebc-e4baa9465abc",
      "metadata": {
        "id": "4646277a-98e1-4743-8ebc-e4baa9465abc"
      },
      "outputs": [],
      "source": [
        "# Create a classifier model\n",
        "classifier = SGDClassifier()\n",
        "\n",
        "# Then train the model using the training sets\n",
        "classifier = classifier.fit(X_train, y_train)"
      ]
    },
    {
      "cell_type": "markdown",
      "id": "fc4ba493-e50e-4372-b3b2-45001e5f7043",
      "metadata": {
        "id": "fc4ba493-e50e-4372-b3b2-45001e5f7043"
      },
      "source": [
        "#### Evaluate the Model"
      ]
    },
    {
      "cell_type": "code",
      "execution_count": null,
      "id": "e77cbf3c-40b0-440f-b30b-17f366b39d00",
      "metadata": {
        "id": "e77cbf3c-40b0-440f-b30b-17f366b39d00",
        "colab": {
          "base_uri": "https://localhost:8080/",
          "height": 176
        },
        "outputId": "e56af6ea-ae1b-437a-98f2-3995ee386c4d"
      },
      "outputs": [
        {
          "output_type": "error",
          "ename": "NameError",
          "evalue": "name 'y_train' is not defined",
          "traceback": [
            "\u001b[0;31m---------------------------------------------------------------------------\u001b[0m",
            "\u001b[0;31mNameError\u001b[0m                                 Traceback (most recent call last)",
            "\u001b[0;32m<ipython-input-2-a7c1ddaf2241>\u001b[0m in \u001b[0;36m<cell line: 3>\u001b[0;34m()\u001b[0m\n\u001b[1;32m      1\u001b[0m \u001b[0;31m# First, what's the worst the model could do?\u001b[0m\u001b[0;34m\u001b[0m\u001b[0;34m\u001b[0m\u001b[0m\n\u001b[1;32m      2\u001b[0m \u001b[0;31m# If you just guessed the same thing for every datapoint, you'd get...44.3% accuracy.\u001b[0m\u001b[0;34m\u001b[0m\u001b[0;34m\u001b[0m\u001b[0m\n\u001b[0;32m----> 3\u001b[0;31m \u001b[0my_train\u001b[0m\u001b[0;34m.\u001b[0m\u001b[0mvalue_counts\u001b[0m\u001b[0;34m(\u001b[0m\u001b[0mnormalize\u001b[0m\u001b[0;34m=\u001b[0m\u001b[0;32mTrue\u001b[0m\u001b[0;34m)\u001b[0m\u001b[0;34m\u001b[0m\u001b[0;34m\u001b[0m\u001b[0m\n\u001b[0m",
            "\u001b[0;31mNameError\u001b[0m: name 'y_train' is not defined"
          ]
        }
      ],
      "source": [
        "# First, what's the worst the model could do?\n",
        "# If you just guessed the same thing for every datapoint, you'd get...44.3% accuracy.\n",
        "y_train.value_counts(normalize=True)"
      ]
    },
    {
      "cell_type": "code",
      "execution_count": null,
      "id": "b49b1cac-6959-401f-9d1c-329ee69dfbd8",
      "metadata": {
        "id": "b49b1cac-6959-401f-9d1c-329ee69dfbd8",
        "colab": {
          "base_uri": "https://localhost:8080/"
        },
        "outputId": "025dd418-efad-44bc-8440-f0cdcfe67222"
      },
      "outputs": [
        {
          "output_type": "execute_result",
          "data": {
            "text/plain": [
              "0.6634943875061006"
            ]
          },
          "metadata": {},
          "execution_count": 27
        }
      ],
      "source": [
        "# How well did the model do on the training data?\n",
        "# Hopefully very well.\n",
        "\n",
        "# Compare the predictions with the\n",
        "y_pred_train = classifier.predict(X_train)\n",
        "metrics.accuracy_score(y_train, y_pred_train)"
      ]
    },
    {
      "cell_type": "code",
      "execution_count": null,
      "id": "30afdce4-3c02-4b24-8215-f2198fd5864d",
      "metadata": {
        "id": "30afdce4-3c02-4b24-8215-f2198fd5864d",
        "colab": {
          "base_uri": "https://localhost:8080/"
        },
        "outputId": "bef060bd-0c4f-479d-b6d8-3b6261d61f1d"
      },
      "outputs": [
        {
          "output_type": "execute_result",
          "data": {
            "text/plain": [
              "0.595023176384484"
            ]
          },
          "metadata": {},
          "execution_count": 28
        }
      ],
      "source": [
        "# Now, determine how well it did on the testing set\n",
        "# It will be lower, but hopefully not too much.\n",
        "# If it's anywhere near random guessing, we've got a bad fit.\n",
        "\n",
        "y_pred_test = classifier.predict(X_test)\n",
        "metrics.accuracy_score(y_test, y_pred_test)"
      ]
    },
    {
      "cell_type": "code",
      "execution_count": null,
      "id": "d5082835-a5dc-4a64-9005-171faae75264",
      "metadata": {
        "id": "d5082835-a5dc-4a64-9005-171faae75264",
        "colab": {
          "base_uri": "https://localhost:8080/",
          "height": 176
        },
        "outputId": "00018ac2-46d3-4e16-8ecb-5b406405269a"
      },
      "outputs": [
        {
          "output_type": "error",
          "ename": "NameError",
          "evalue": "name 'metrics' is not defined",
          "traceback": [
            "\u001b[0;31m---------------------------------------------------------------------------\u001b[0m",
            "\u001b[0;31mNameError\u001b[0m                                 Traceback (most recent call last)",
            "\u001b[0;32m<ipython-input-4-21d435f33a43>\u001b[0m in \u001b[0;36m<cell line: 4>\u001b[0;34m()\u001b[0m\n\u001b[1;32m      2\u001b[0m \u001b[0;31m# precision of X = If I predict something is X, what % of the time am I right?\u001b[0m\u001b[0;34m\u001b[0m\u001b[0;34m\u001b[0m\u001b[0m\n\u001b[1;32m      3\u001b[0m \u001b[0;31m# recall of X = what % of X do I find?\u001b[0m\u001b[0;34m\u001b[0m\u001b[0;34m\u001b[0m\u001b[0m\n\u001b[0;32m----> 4\u001b[0;31m \u001b[0mprint\u001b[0m\u001b[0;34m(\u001b[0m\u001b[0mmetrics\u001b[0m\u001b[0;34m.\u001b[0m\u001b[0mclassification_report\u001b[0m\u001b[0;34m(\u001b[0m\u001b[0my_test\u001b[0m\u001b[0;34m,\u001b[0m \u001b[0my_pred_test\u001b[0m\u001b[0;34m,\u001b[0m \u001b[0mzero_division\u001b[0m\u001b[0;34m=\u001b[0m\u001b[0;36m0\u001b[0m\u001b[0;34m)\u001b[0m\u001b[0;34m)\u001b[0m\u001b[0;34m\u001b[0m\u001b[0;34m\u001b[0m\u001b[0m\n\u001b[0m",
            "\u001b[0;31mNameError\u001b[0m: name 'metrics' is not defined"
          ]
        }
      ],
      "source": [
        "# Print out a report of how well the classifier does\n",
        "# precision of X = If I predict something is X, what % of the time am I right?\n",
        "# recall of X = what % of X do I find?\n",
        "print(metrics.classification_report(y_test, y_pred_test, zero_division=0))"
      ]
    },
    {
      "cell_type": "code",
      "execution_count": null,
      "id": "5f37a479-8927-4a3f-9085-327785946648",
      "metadata": {
        "id": "5f37a479-8927-4a3f-9085-327785946648",
        "colab": {
          "base_uri": "https://localhost:8080/",
          "height": 211
        },
        "outputId": "aed62f10-5a9f-4942-b1a9-1d6a5eb804d3"
      },
      "outputs": [
        {
          "output_type": "error",
          "ename": "NameError",
          "evalue": "name 'cv' is not defined",
          "traceback": [
            "\u001b[0;31m---------------------------------------------------------------------------\u001b[0m",
            "\u001b[0;31mNameError\u001b[0m                                 Traceback (most recent call last)",
            "\u001b[0;32m<ipython-input-1-99790769d66b>\u001b[0m in \u001b[0;36m<cell line: 4>\u001b[0;34m()\u001b[0m\n\u001b[1;32m      2\u001b[0m \u001b[0mnew_obs\u001b[0m \u001b[0;34m=\u001b[0m \u001b[0;34m[\u001b[0m\u001b[0;34m\"I loved this place. Will come back.\"\u001b[0m\u001b[0;34m]\u001b[0m\u001b[0;34m\u001b[0m\u001b[0;34m\u001b[0m\u001b[0m\n\u001b[1;32m      3\u001b[0m \u001b[0;34m\u001b[0m\u001b[0m\n\u001b[0;32m----> 4\u001b[0;31m \u001b[0mnew_obs\u001b[0m \u001b[0;34m=\u001b[0m \u001b[0mcv\u001b[0m\u001b[0;34m.\u001b[0m\u001b[0mtransform\u001b[0m\u001b[0;34m(\u001b[0m\u001b[0mnew_obs\u001b[0m\u001b[0;34m)\u001b[0m\u001b[0;34m\u001b[0m\u001b[0;34m\u001b[0m\u001b[0m\n\u001b[0m\u001b[1;32m      5\u001b[0m \u001b[0mnew_obs\u001b[0m \u001b[0;34m=\u001b[0m \u001b[0mtfidf\u001b[0m\u001b[0;34m.\u001b[0m\u001b[0mtransform\u001b[0m\u001b[0;34m(\u001b[0m\u001b[0mnew_obs\u001b[0m\u001b[0;34m)\u001b[0m\u001b[0;34m\u001b[0m\u001b[0;34m\u001b[0m\u001b[0m\n\u001b[1;32m      6\u001b[0m \u001b[0mclassifier\u001b[0m\u001b[0;34m.\u001b[0m\u001b[0mpredict\u001b[0m\u001b[0;34m(\u001b[0m\u001b[0mnew_obs\u001b[0m\u001b[0;34m)\u001b[0m\u001b[0;34m\u001b[0m\u001b[0;34m\u001b[0m\u001b[0m\n",
            "\u001b[0;31mNameError\u001b[0m: name 'cv' is not defined"
          ]
        }
      ],
      "source": [
        "# We can also test it on new data that we don't have the information for.\n",
        "new_obs = [\"I loved this place. Will come back.\"]\n",
        "\n",
        "new_obs = cv.transform(new_obs)\n",
        "new_obs = tfidf.transform(new_obs)\n",
        "classifier.predict(new_obs)"
      ]
    },
    {
      "cell_type": "markdown",
      "source": [
        "### Alternate Classifiers in Scikit-Learn\n",
        "\n",
        "The scikit-learn library contains many different classification models, and it can be useful to train several and compare them. To do so, just import a different classifier from scikit-learn, then change the line `classifier = SGDClassifier()` to use the new classifier. And you're done.\n",
        "\n",
        "At the top of the notebook, the `MultinomialNB()` classifier has already been imported for you, so give that a try. [Comparisons of several classifiers](https://scikit-learn.org/stable/auto_examples/classification/plot_classifier_comparison.html) can be found on the library's website.\n",
        "\n",
        "This is generally how the Scikit-Learn package works: you use a different classification (or regression) model, whose implementation has been taken care of for you. Its your goal primarily to choose a model, and do any pre-processing to get data in a usable format.\n",
        "\n",
        "This process will be simplified even more when we use pipelines in the next notebook."
      ],
      "metadata": {
        "id": "tWqwJegoJYhe"
      },
      "id": "tWqwJegoJYhe"
    },
    {
      "cell_type": "markdown",
      "source": [
        "### Standard Classification Tasks in Natural Language Processing\n",
        "\n",
        "Historically, these have been given specific names, but ultimately they are all classifiers, and can use the same\n",
        "\n",
        "* **Sentiment Analysis.** Do people like the thing? Hate the thing? This has a lot of usage in business: there are a hundred thousand social media posts and I don't have time to read them all. The example classifier above is a sentiment classifier.\n",
        "\n",
        "* **Part-of-Speech Tagging.** Is this word in a given sentence a noun, an adjective, &c.? This is used\n",
        "\n",
        "* **Proper Noun Detection.** Which words in this sentence are proper nouns? This is useful for identifying people and places in documents (e.g. letters, newspaper articles) when you don't have a complete list beforehand.\n",
        "\n",
        "For each of these classification tasks, what would the training data (X and y) need to look like?"
      ],
      "metadata": {
        "id": "OR0OIpvmu9mm"
      },
      "id": "OR0OIpvmu9mm"
    },
    {
      "cell_type": "code",
      "source": [],
      "metadata": {
        "id": "0ULVHMzLvBMT"
      },
      "id": "0ULVHMzLvBMT",
      "execution_count": null,
      "outputs": []
    }
  ],
  "metadata": {
    "kernelspec": {
      "display_name": "Python 3 (ipykernel)",
      "language": "python",
      "name": "python3"
    },
    "language_info": {
      "codemirror_mode": {
        "name": "ipython",
        "version": 3
      },
      "file_extension": ".py",
      "mimetype": "text/x-python",
      "name": "python",
      "nbconvert_exporter": "python",
      "pygments_lexer": "ipython3",
      "version": "3.9.12"
    },
    "colab": {
      "provenance": []
    }
  },
  "nbformat": 4,
  "nbformat_minor": 5
}