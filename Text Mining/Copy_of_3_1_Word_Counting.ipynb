{
  "cells": [
    {
      "cell_type": "markdown",
      "id": "cacd6a7f-0789-4c44-9c3f-c6fbf9791ad0",
      "metadata": {
        "id": "cacd6a7f-0789-4c44-9c3f-c6fbf9791ad0"
      },
      "source": [
        "# Word Counting\n",
        "\n",
        "## Skills\n",
        "\n",
        "1. **Tokenize data using the tidytext module.**\n",
        "2. **Cleanse text data.**\n",
        "2. **Analyze a document using its most frequent words.**\n",
        "3. **Visualize a text using word clouds.**\n",
        "4. Compare paired documents using relative frequencies.\n",
        "5. Use TF-IDF to examine word frequencies in groups of documents.\n",
        "6. Use TF-IDF to define context-dependent stop words."
      ]
    },
    {
      "cell_type": "markdown",
      "id": "2e706a3c-20ef-4fca-8996-fbb69d8cc401",
      "metadata": {
        "id": "2e706a3c-20ef-4fca-8996-fbb69d8cc401"
      },
      "source": [
        "## Vocabulary List\n",
        "\n",
        "**data pipeline.** A series of steps taken from the point data are recorded to its final, processed stage, which may include visualizations or other summary statistics. Data pipelines are common not only for NLP but more generally in data science.\n",
        "\n",
        "**lemma.** The \"basic\" form of a word, without conjugation, pluralization, &c. What this means is language-dependent, and can be context-dependent as well.\n",
        "\n",
        "**logarithm.** A way to transform data that allows you to compare numbers across very different scales easily. The number 1 has a logarithm of 0, which is extremely useful for \"zeroing out\" common words in TF-IDF analysis. Additionally, $\\log(1/2) = -\\log(2)$, which is useful for looking at relative frequencies.\n",
        "\n",
        "**stop words.** Extremely common words which don't give insight into a document, from a word-level analysis.\n",
        "\n",
        "**TF-IDF.** Text-frequency inverse document-frequency. A way of picking out the most common words in a text that are unique to that text."
      ]
    },
    {
      "cell_type": "markdown",
      "source": [
        "## Loading Libraries"
      ],
      "metadata": {
        "id": "YME4axhaQSyh"
      },
      "id": "YME4axhaQSyh"
    },
    {
      "cell_type": "code",
      "execution_count": null,
      "id": "738f210a-bb44-4245-8f8f-f2e128f0830e",
      "metadata": {
        "id": "738f210a-bb44-4245-8f8f-f2e128f0830e",
        "colab": {
          "base_uri": "https://localhost:8080/"
        },
        "outputId": "dbd0f44b-3bf4-4df1-8050-960dc058ee8c"
      },
      "outputs": [
        {
          "output_type": "stream",
          "name": "stdout",
          "text": [
            "Collecting tidytext\n",
            "  Downloading tidytext-0.0.1.tar.gz (4.3 kB)\n",
            "  Preparing metadata (setup.py) ... \u001b[?25l\u001b[?25hdone\n",
            "Collecting siuba (from tidytext)\n",
            "  Downloading siuba-0.4.4-py3-none-any.whl (208 kB)\n",
            "\u001b[2K     \u001b[90m━━━━━━━━━━━━━━━━━━━━━━━━━━━━━━━━━━━━━━━━\u001b[0m \u001b[32m208.6/208.6 kB\u001b[0m \u001b[31m3.5 MB/s\u001b[0m eta \u001b[36m0:00:00\u001b[0m\n",
            "\u001b[?25hRequirement already satisfied: pandas<2.1.0,>=0.24.0 in /usr/local/lib/python3.10/dist-packages (from siuba->tidytext) (1.5.3)\n",
            "Requirement already satisfied: numpy>=1.12.0 in /usr/local/lib/python3.10/dist-packages (from siuba->tidytext) (1.25.2)\n",
            "Requirement already satisfied: SQLAlchemy>=1.2.19 in /usr/local/lib/python3.10/dist-packages (from siuba->tidytext) (2.0.27)\n",
            "Requirement already satisfied: PyYAML>=3.0.0 in /usr/local/lib/python3.10/dist-packages (from siuba->tidytext) (6.0.1)\n",
            "Requirement already satisfied: python-dateutil>=2.8.1 in /usr/local/lib/python3.10/dist-packages (from pandas<2.1.0,>=0.24.0->siuba->tidytext) (2.8.2)\n",
            "Requirement already satisfied: pytz>=2020.1 in /usr/local/lib/python3.10/dist-packages (from pandas<2.1.0,>=0.24.0->siuba->tidytext) (2023.4)\n",
            "Requirement already satisfied: typing-extensions>=4.6.0 in /usr/local/lib/python3.10/dist-packages (from SQLAlchemy>=1.2.19->siuba->tidytext) (4.9.0)\n",
            "Requirement already satisfied: greenlet!=0.4.17 in /usr/local/lib/python3.10/dist-packages (from SQLAlchemy>=1.2.19->siuba->tidytext) (3.0.3)\n",
            "Requirement already satisfied: six>=1.5 in /usr/local/lib/python3.10/dist-packages (from python-dateutil>=2.8.1->pandas<2.1.0,>=0.24.0->siuba->tidytext) (1.16.0)\n",
            "Building wheels for collected packages: tidytext\n",
            "  Building wheel for tidytext (setup.py) ... \u001b[?25l\u001b[?25hdone\n",
            "  Created wheel for tidytext: filename=tidytext-0.0.1-py3-none-any.whl size=3870 sha256=5e71f5744dac3c72f4ecdc58569231517f655b8b72d4cba306d7089b4664ee43\n",
            "  Stored in directory: /root/.cache/pip/wheels/88/40/40/04f8d22d7729547afa13c2cbffb494737351dd4465f2f26288\n",
            "Successfully built tidytext\n",
            "Installing collected packages: siuba, tidytext\n",
            "Successfully installed siuba-0.4.4 tidytext-0.0.1\n"
          ]
        },
        {
          "output_type": "stream",
          "name": "stderr",
          "text": [
            "[nltk_data] Downloading package punkt to /root/nltk_data...\n",
            "[nltk_data]   Unzipping tokenizers/punkt.zip.\n"
          ]
        }
      ],
      "source": [
        "# Standard packages that we'll always be using\n",
        "import pandas as pd\n",
        "import seaborn as sns\n",
        "import matplotlib.pyplot as plt\n",
        "\n",
        "# The tidytext package isn't in Google Colaboratory's default list of packages, so we install it first\n",
        "!pip install tidytext\n",
        "import tidytext\n",
        "# This library is used by tidytext for tokenization\n",
        "import nltk\n",
        "nltk.download('punkt')\n",
        "\n",
        "# For making word clouds (unsurprisingly)\n",
        "from wordcloud import WordCloud, STOPWORDS"
      ]
    },
    {
      "cell_type": "markdown",
      "id": "f245570c-a05d-4262-ab48-afb319af15f6",
      "metadata": {
        "id": "f245570c-a05d-4262-ab48-afb319af15f6"
      },
      "source": [
        "## Processing and Word Counting\n",
        "\n",
        "<div style=\"text-align:center;\"><img src=\"https://images-na.ssl-images-amazon.com/images/I/91QclGg4BjL.jpg\" height=\"250\" width=\"155\">&nbsp;&nbsp;&nbsp;&nbsp;<img src=\"https://upload.wikimedia.org/wikipedia/commons/thumb/a/a9/210120-D-WD757-2714_%2850861221216%29.jpg/320px-210120-D-WD757-2714_%2850861221216%29.jpg\"></div>\n",
        "\n",
        "Below is the poem \"The Hill We Climb\" by Amanda Gorman, youth poet laureate of the U.S. from 2017-2018."
      ]
    },
    {
      "cell_type": "code",
      "execution_count": null,
      "id": "f39620ab-90ca-4165-a72e-91a7500cd788",
      "metadata": {
        "id": "f39620ab-90ca-4165-a72e-91a7500cd788"
      },
      "outputs": [],
      "source": [
        "text = \"\"\"When day comes, we ask ourselves, where can we find light in this never-ending shade?\n",
        "The loss we carry. A sea we must wade.\n",
        "We braved the belly of the beast.\n",
        "We’ve learned that quiet isn’t always peace, and the norms and notions of what “just” is isn’t always justice.\n",
        "And yet the dawn is ours before we knew it.\n",
        "Somehow we do it.\n",
        "Somehow we weathered and witnessed a nation that isn’t broken, but simply unfinished.\n",
        "We, the successors of a country and a time where a skinny Black girl descended from slaves and raised by a single mother can dream of becoming president, only to find herself reciting for one.\n",
        "And, yes, we are far from polished, far from pristine, but that doesn’t mean we are striving to form a union that is perfect.\n",
        "We are striving to forge our union with purpose.\n",
        "To compose a country committed to all cultures, colors, characters and conditions of man.\n",
        "And so we lift our gaze, not to what stands between us, but what stands before us.\n",
        "We close the divide because we know to put our future first, we must first put our differences aside.\n",
        "We lay down our arms so we can reach out our arms to one another.\n",
        "We seek harm to none and harmony for all.\n",
        "Let the globe, if nothing else, say this is true.\n",
        "That even as we grieved, we grew.\n",
        "That even as we hurt, we hoped.\n",
        "That even as we tired, we tried.\n",
        "That we’ll forever be tied together, victorious.\n",
        "Not because we will never again know defeat, but because we will never again sow division.\n",
        "Scripture tells us to envision that everyone shall sit under their own vine and fig tree, and no one shall make them afraid.\n",
        "If we’re to live up to our own time, then victory won’t lie in the blade, but in all the bridges we’ve made.\n",
        "That is the promise to glade, the hill we climb, if only we dare.\n",
        "It’s because being American is more than a pride we inherit.\n",
        "It’s the past we step into and how we repair it.\n",
        "We’ve seen a force that would shatter our nation, rather than share it.\n",
        "Would destroy our country if it meant delaying democracy.\n",
        "And this effort very nearly succeeded.\n",
        "But while democracy can be periodically delayed, it can never be permanently defeated.\n",
        "In this truth, in this faith we trust, for while we have our eyes on the future, history has its eyes on us.\n",
        "This is the era of just redemption.\n",
        "We feared at its inception.\n",
        "We did not feel prepared to be the heirs of such a terrifying hour.\n",
        "But within it we found the power to author a new chapter, to offer hope and laughter to ourselves.\n",
        "So, while once we asked, how could we possibly prevail over catastrophe, now we assert, how could catastrophe possibly prevail over us?\n",
        "We will not march back to what was, but move to what shall be: a country that is bruised but whole, benevolent but bold, fierce and free.\n",
        "We will not be turned around or interrupted by intimidation because we know our inaction and inertia will be the inheritance of the next generation, become the future.\n",
        "Our blunders become their burdens.\n",
        "But one thing is certain.\n",
        "If we merge mercy with might, and might with right, then love becomes our legacy and change our children’s birthright.\n",
        "So let us leave behind a country better than the one we were left.\n",
        "Every breath from my bronze-pounded chest, we will raise this wounded world into a wondrous one.\n",
        "We will rise from the golden hills of the West.\n",
        "We will rise from the windswept Northeast where our forefathers first realized revolution.\n",
        "We will rise from the lake-rimmed cities of the Midwestern states.\n",
        "We will rise from the sun-baked South.\n",
        "We will rebuild, reconcile, and recover.\n",
        "And every known nook of our nation and every corner called our country, our people diverse and beautiful, will emerge battered and beautiful.\n",
        "When day comes, we step out of the shade of flame and unafraid.\n",
        "The new dawn balloons as we free it.\n",
        "For there is always light, if only we’re brave enough to see it.\n",
        "If only we’re brave enough to be it.\"\"\""
      ]
    },
    {
      "cell_type": "markdown",
      "id": "75dc178b-562a-4a64-9e94-7b81fdc9ee0c",
      "metadata": {
        "id": "75dc178b-562a-4a64-9e94-7b81fdc9ee0c"
      },
      "source": [
        "We can take this text and put it into a dataframe.\n",
        "\n",
        "This is sort of an awkward way to do it, since it's just a single entry. Creating a DataFrame directly requires that you give it a list (or list of lists) and a list of the column names.\n",
        "\n",
        "Soon enough we'll be working with more text in CSV files again, and won't have to worry about this so much."
      ]
    },
    {
      "cell_type": "code",
      "execution_count": null,
      "id": "1c882097-4262-4a9c-ba5f-f87d2b98ff35",
      "metadata": {
        "id": "1c882097-4262-4a9c-ba5f-f87d2b98ff35"
      },
      "outputs": [],
      "source": [
        "df = pd.DataFrame([text], columns=[\"text\"])"
      ]
    },
    {
      "cell_type": "markdown",
      "source": [
        "We can use the tidytext package's `unnest_tokens()` function to tokenize the text's dataframe into one word per row in the dataframe. The three arguments to the functions are:\n",
        "* The DataFrame with the text to tokenize\n",
        "* The name of the column that words will go in\n",
        "* The name of the column that contains the text to tokenize"
      ],
      "metadata": {
        "id": "a5PC6MZDLWKj"
      },
      "id": "a5PC6MZDLWKj"
    },
    {
      "cell_type": "code",
      "source": [
        "word_df = tidytext.unnest_tokens(df, \"word\", \"text\")\n",
        "word_df.head()"
      ],
      "metadata": {
        "id": "AtUuS668NZCr",
        "colab": {
          "base_uri": "https://localhost:8080/",
          "height": 206
        },
        "outputId": "c9ea12b7-73b0-44f9-cfb1-3d1a29191417"
      },
      "id": "AtUuS668NZCr",
      "execution_count": null,
      "outputs": [
        {
          "output_type": "execute_result",
          "data": {
            "text/plain": [
              "    word\n",
              "0   when\n",
              "0    day\n",
              "0  comes\n",
              "0     we\n",
              "0    ask"
            ],
            "text/html": [
              "\n",
              "\n",
              "  <div id=\"df-66f3f9b0-067e-4991-9d1c-89df5c324f5c\">\n",
              "    <div class=\"colab-df-container\">\n",
              "      <div>\n",
              "<style scoped>\n",
              "    .dataframe tbody tr th:only-of-type {\n",
              "        vertical-align: middle;\n",
              "    }\n",
              "\n",
              "    .dataframe tbody tr th {\n",
              "        vertical-align: top;\n",
              "    }\n",
              "\n",
              "    .dataframe thead th {\n",
              "        text-align: right;\n",
              "    }\n",
              "</style>\n",
              "<table border=\"1\" class=\"dataframe\">\n",
              "  <thead>\n",
              "    <tr style=\"text-align: right;\">\n",
              "      <th></th>\n",
              "      <th>word</th>\n",
              "    </tr>\n",
              "  </thead>\n",
              "  <tbody>\n",
              "    <tr>\n",
              "      <th>0</th>\n",
              "      <td>when</td>\n",
              "    </tr>\n",
              "    <tr>\n",
              "      <th>0</th>\n",
              "      <td>day</td>\n",
              "    </tr>\n",
              "    <tr>\n",
              "      <th>0</th>\n",
              "      <td>comes</td>\n",
              "    </tr>\n",
              "    <tr>\n",
              "      <th>0</th>\n",
              "      <td>we</td>\n",
              "    </tr>\n",
              "    <tr>\n",
              "      <th>0</th>\n",
              "      <td>ask</td>\n",
              "    </tr>\n",
              "  </tbody>\n",
              "</table>\n",
              "</div>\n",
              "      <button class=\"colab-df-convert\" onclick=\"convertToInteractive('df-66f3f9b0-067e-4991-9d1c-89df5c324f5c')\"\n",
              "              title=\"Convert this dataframe to an interactive table.\"\n",
              "              style=\"display:none;\">\n",
              "\n",
              "  <svg xmlns=\"http://www.w3.org/2000/svg\" height=\"24px\"viewBox=\"0 0 24 24\"\n",
              "       width=\"24px\">\n",
              "    <path d=\"M0 0h24v24H0V0z\" fill=\"none\"/>\n",
              "    <path d=\"M18.56 5.44l.94 2.06.94-2.06 2.06-.94-2.06-.94-.94-2.06-.94 2.06-2.06.94zm-11 1L8.5 8.5l.94-2.06 2.06-.94-2.06-.94L8.5 2.5l-.94 2.06-2.06.94zm10 10l.94 2.06.94-2.06 2.06-.94-2.06-.94-.94-2.06-.94 2.06-2.06.94z\"/><path d=\"M17.41 7.96l-1.37-1.37c-.4-.4-.92-.59-1.43-.59-.52 0-1.04.2-1.43.59L10.3 9.45l-7.72 7.72c-.78.78-.78 2.05 0 2.83L4 21.41c.39.39.9.59 1.41.59.51 0 1.02-.2 1.41-.59l7.78-7.78 2.81-2.81c.8-.78.8-2.07 0-2.86zM5.41 20L4 18.59l7.72-7.72 1.47 1.35L5.41 20z\"/>\n",
              "  </svg>\n",
              "      </button>\n",
              "\n",
              "\n",
              "\n",
              "    <div id=\"df-3afcd82b-b467-4d09-bd47-8871af8852a3\">\n",
              "      <button class=\"colab-df-quickchart\" onclick=\"quickchart('df-3afcd82b-b467-4d09-bd47-8871af8852a3')\"\n",
              "              title=\"Suggest charts.\"\n",
              "              style=\"display:none;\">\n",
              "\n",
              "<svg xmlns=\"http://www.w3.org/2000/svg\" height=\"24px\"viewBox=\"0 0 24 24\"\n",
              "     width=\"24px\">\n",
              "    <g>\n",
              "        <path d=\"M19 3H5c-1.1 0-2 .9-2 2v14c0 1.1.9 2 2 2h14c1.1 0 2-.9 2-2V5c0-1.1-.9-2-2-2zM9 17H7v-7h2v7zm4 0h-2V7h2v10zm4 0h-2v-4h2v4z\"/>\n",
              "    </g>\n",
              "</svg>\n",
              "      </button>\n",
              "    </div>\n",
              "\n",
              "<style>\n",
              "  .colab-df-quickchart {\n",
              "    background-color: #E8F0FE;\n",
              "    border: none;\n",
              "    border-radius: 50%;\n",
              "    cursor: pointer;\n",
              "    display: none;\n",
              "    fill: #1967D2;\n",
              "    height: 32px;\n",
              "    padding: 0 0 0 0;\n",
              "    width: 32px;\n",
              "  }\n",
              "\n",
              "  .colab-df-quickchart:hover {\n",
              "    background-color: #E2EBFA;\n",
              "    box-shadow: 0px 1px 2px rgba(60, 64, 67, 0.3), 0px 1px 3px 1px rgba(60, 64, 67, 0.15);\n",
              "    fill: #174EA6;\n",
              "  }\n",
              "\n",
              "  [theme=dark] .colab-df-quickchart {\n",
              "    background-color: #3B4455;\n",
              "    fill: #D2E3FC;\n",
              "  }\n",
              "\n",
              "  [theme=dark] .colab-df-quickchart:hover {\n",
              "    background-color: #434B5C;\n",
              "    box-shadow: 0px 1px 3px 1px rgba(0, 0, 0, 0.15);\n",
              "    filter: drop-shadow(0px 1px 2px rgba(0, 0, 0, 0.3));\n",
              "    fill: #FFFFFF;\n",
              "  }\n",
              "</style>\n",
              "\n",
              "    <script>\n",
              "      async function quickchart(key) {\n",
              "        const containerElement = document.querySelector('#' + key);\n",
              "        const charts = await google.colab.kernel.invokeFunction(\n",
              "            'suggestCharts', [key], {});\n",
              "      }\n",
              "    </script>\n",
              "\n",
              "      <script>\n",
              "\n",
              "function displayQuickchartButton(domScope) {\n",
              "  let quickchartButtonEl =\n",
              "    domScope.querySelector('#df-3afcd82b-b467-4d09-bd47-8871af8852a3 button.colab-df-quickchart');\n",
              "  quickchartButtonEl.style.display =\n",
              "    google.colab.kernel.accessAllowed ? 'block' : 'none';\n",
              "}\n",
              "\n",
              "        displayQuickchartButton(document);\n",
              "      </script>\n",
              "      <style>\n",
              "    .colab-df-container {\n",
              "      display:flex;\n",
              "      flex-wrap:wrap;\n",
              "      gap: 12px;\n",
              "    }\n",
              "\n",
              "    .colab-df-convert {\n",
              "      background-color: #E8F0FE;\n",
              "      border: none;\n",
              "      border-radius: 50%;\n",
              "      cursor: pointer;\n",
              "      display: none;\n",
              "      fill: #1967D2;\n",
              "      height: 32px;\n",
              "      padding: 0 0 0 0;\n",
              "      width: 32px;\n",
              "    }\n",
              "\n",
              "    .colab-df-convert:hover {\n",
              "      background-color: #E2EBFA;\n",
              "      box-shadow: 0px 1px 2px rgba(60, 64, 67, 0.3), 0px 1px 3px 1px rgba(60, 64, 67, 0.15);\n",
              "      fill: #174EA6;\n",
              "    }\n",
              "\n",
              "    [theme=dark] .colab-df-convert {\n",
              "      background-color: #3B4455;\n",
              "      fill: #D2E3FC;\n",
              "    }\n",
              "\n",
              "    [theme=dark] .colab-df-convert:hover {\n",
              "      background-color: #434B5C;\n",
              "      box-shadow: 0px 1px 3px 1px rgba(0, 0, 0, 0.15);\n",
              "      filter: drop-shadow(0px 1px 2px rgba(0, 0, 0, 0.3));\n",
              "      fill: #FFFFFF;\n",
              "    }\n",
              "  </style>\n",
              "\n",
              "      <script>\n",
              "        const buttonEl =\n",
              "          document.querySelector('#df-66f3f9b0-067e-4991-9d1c-89df5c324f5c button.colab-df-convert');\n",
              "        buttonEl.style.display =\n",
              "          google.colab.kernel.accessAllowed ? 'block' : 'none';\n",
              "\n",
              "        async function convertToInteractive(key) {\n",
              "          const element = document.querySelector('#df-66f3f9b0-067e-4991-9d1c-89df5c324f5c');\n",
              "          const dataTable =\n",
              "            await google.colab.kernel.invokeFunction('convertToInteractive',\n",
              "                                                     [key], {});\n",
              "          if (!dataTable) return;\n",
              "\n",
              "          const docLinkHtml = 'Like what you see? Visit the ' +\n",
              "            '<a target=\"_blank\" href=https://colab.research.google.com/notebooks/data_table.ipynb>data table notebook</a>'\n",
              "            + ' to learn more about interactive tables.';\n",
              "          element.innerHTML = '';\n",
              "          dataTable['output_type'] = 'display_data';\n",
              "          await google.colab.output.renderOutput(dataTable, element);\n",
              "          const docLink = document.createElement('div');\n",
              "          docLink.innerHTML = docLinkHtml;\n",
              "          element.appendChild(docLink);\n",
              "        }\n",
              "      </script>\n",
              "    </div>\n",
              "  </div>\n"
            ]
          },
          "metadata": {},
          "execution_count": 5
        }
      ]
    },
    {
      "cell_type": "markdown",
      "id": "1eab4708-f3d3-4bd9-b31a-c304ac1cb7aa",
      "metadata": {
        "id": "1eab4708-f3d3-4bd9-b31a-c304ac1cb7aa"
      },
      "source": [
        "From here, we can count the words and visualize the most common ones. Let's do that together."
      ]
    },
    {
      "cell_type": "code",
      "execution_count": null,
      "id": "a33386af-47cd-4b83-9e51-2fd180e1f5f8",
      "metadata": {
        "id": "a33386af-47cd-4b83-9e51-2fd180e1f5f8",
        "colab": {
          "base_uri": "https://localhost:8080/"
        },
        "outputId": "ac57947c-bc24-48eb-9a50-6ff1e604b5c2"
      },
      "outputs": [
        {
          "output_type": "execute_result",
          "data": {
            "text/plain": [
              "we          60\n",
              "the         29\n",
              "and         25\n",
              "to          21\n",
              "our         18\n",
              "            ..\n",
              "tells        1\n",
              "envision     1\n",
              "everyone     1\n",
              "sit          1\n",
              "see          1\n",
              "Name: word, Length: 340, dtype: int64"
            ]
          },
          "metadata": {},
          "execution_count": 6
        }
      ],
      "source": [
        "word_df[\"word\"].value_counts()"
      ]
    },
    {
      "cell_type": "markdown",
      "id": "f6c45021-8123-4014-b608-127c1ce1ebe3",
      "metadata": {
        "id": "f6c45021-8123-4014-b608-127c1ce1ebe3"
      },
      "source": [
        "Notice anything unusual? How can we fix this?"
      ]
    },
    {
      "cell_type": "code",
      "source": [
        "word_df = word_df.loc[ ~word_df[\"word\"].isin(STOPWORDS) ]\n",
        "# Or with query\n",
        "# word_df = word_df.query(\"word not in @STOPWORDS\")"
      ],
      "metadata": {
        "id": "KYLqa2wW4l0e"
      },
      "id": "KYLqa2wW4l0e",
      "execution_count": null,
      "outputs": []
    },
    {
      "cell_type": "code",
      "source": [
        "word_df[\"word\"].value_counts()[0:10]"
      ],
      "metadata": {
        "id": "l5fw5Be3btfs",
        "colab": {
          "base_uri": "https://localhost:8080/"
        },
        "outputId": "e67f6ee7-029b-4649-a51d-06dc8d8d05a6"
      },
      "id": "l5fw5Be3btfs",
      "execution_count": null,
      "outputs": [
        {
          "output_type": "execute_result",
          "data": {
            "text/plain": [
              "’          15\n",
              "will       12\n",
              "one         6\n",
              "country     6\n",
              "us          6\n",
              "t           5\n",
              "rise        4\n",
              "isn         3\n",
              "even        3\n",
              "always      3\n",
              "Name: word, dtype: int64"
            ]
          },
          "metadata": {},
          "execution_count": 8
        }
      ]
    },
    {
      "cell_type": "markdown",
      "id": "12c96248-748f-4df5-a9f6-4e9ce09fa6ab",
      "metadata": {
        "id": "12c96248-748f-4df5-a9f6-4e9ce09fa6ab"
      },
      "source": [
        "## Word Clouds\n",
        "\n",
        "Word clouds are a fun way to visualize the most common words in a dataset. The [WordCloud package](https://amueller.github.io/word_cloud/) provides a number of functions for making pretty images, with lots of customization.\n",
        "\n",
        "Here's a basic word cloud. Note that the package requires a String as an input, not a DataFrame, so we first convert our cleaned and tokenized DataFrame back into a String."
      ]
    },
    {
      "cell_type": "code",
      "execution_count": null,
      "id": "bfe2098c-5e85-4b59-82de-202a4147ed5a",
      "metadata": {
        "id": "bfe2098c-5e85-4b59-82de-202a4147ed5a"
      },
      "outputs": [],
      "source": [
        "newtext = \" \".join(word_df[\"word\"])\n",
        "\n",
        "# I copied all of this from the WordCloud documentation.\n",
        "# See the link above for options about shape, color, number of words, and so on.\n",
        "cloud = WordCloud().generate(newtext)\n",
        "plt.figure()\n",
        "plt.imshow(cloud, interpolation=\"bilinear\")\n",
        "plt.axis(\"off\")\n",
        "plt.show()"
      ]
    }
  ],
  "metadata": {
    "kernelspec": {
      "display_name": "Python 3 (ipykernel)",
      "language": "python",
      "name": "python3"
    },
    "language_info": {
      "codemirror_mode": {
        "name": "ipython",
        "version": 3
      },
      "file_extension": ".py",
      "mimetype": "text/x-python",
      "name": "python",
      "nbconvert_exporter": "python",
      "pygments_lexer": "ipython3",
      "version": "3.9.12"
    },
    "colab": {
      "provenance": []
    }
  },
  "nbformat": 4,
  "nbformat_minor": 5
}