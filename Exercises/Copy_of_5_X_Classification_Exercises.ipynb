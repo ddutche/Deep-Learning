{
  "cells": [
    {
      "cell_type": "markdown",
      "id": "803e9434-c66e-4b54-8128-850f9b164a93",
      "metadata": {
        "id": "803e9434-c66e-4b54-8128-850f9b164a93"
      },
      "source": [
        "# Exercises for Machine Learning\n",
        "\n",
        "## Load Libraries"
      ]
    },
    {
      "cell_type": "code",
      "execution_count": null,
      "id": "3af31d5f-56bf-4615-ad5d-ebf5e60a7181",
      "metadata": {
        "id": "3af31d5f-56bf-4615-ad5d-ebf5e60a7181"
      },
      "outputs": [],
      "source": [
        "from sklearn.feature_extraction.text import *\n",
        "from sklearn.model_selection import train_test_split\n",
        "from sklearn.linear_model import SGDClassifier\n",
        "from sklearn import metrics\n",
        "\n",
        "from sklearn.naive_bayes import MultinomialNB\n",
        "\n",
        "import pandas as pd\n",
        "\n",
        "from sklearn.feature_extraction.text import *\n",
        "from sklearn.model_selection import train_test_split\n",
        "from sklearn.linear_model import SGDClassifier\n",
        "from sklearn.preprocessing import MultiLabelBinarizer\n",
        "from sklearn.multioutput import MultiOutputClassifier\n",
        "from sklearn.pipeline import Pipeline\n",
        "from sklearn import metrics\n",
        "\n",
        "import pandas as pd"
      ]
    },
    {
      "cell_type": "markdown",
      "id": "f390846c-3d5c-43be-b9c1-8c3f98dc26eb",
      "metadata": {
        "id": "f390846c-3d5c-43be-b9c1-8c3f98dc26eb"
      },
      "source": [
        "## 5.1. Intro to Classification\n",
        "\n",
        "### \"Spam\" or \"Ham\"\n",
        "\n",
        "Some of the earliest spam filters were simply Naïve Bayes Classifiers. Let's build one. This dataset contains text messages labeled as either \"spam\" (messages that are unwanted) or \"ham\" (wanted messages). Build either an SVM or an NBC and evaluate its effectiveness.\n",
        "\n",
        "Be sure to:\n",
        "1. Evaluate how well it finds spam and does not filter out good messages.\n",
        "2. Does it do significantly better than random guessing?\n",
        "2. Determine whether it performs significantly worse on testing data than training data.\n",
        "3. Try writing a few sample ham/spam messages and seeing if it filters them properly."
      ]
    },
    {
      "cell_type": "code",
      "execution_count": null,
      "id": "7bab86e4-85de-4093-8728-6d5d5b5d3c8f",
      "metadata": {
        "id": "7bab86e4-85de-4093-8728-6d5d5b5d3c8f"
      },
      "outputs": [],
      "source": [
        "spam = pd.read_csv(\"https://raw.githubusercontent.com/Greg-Hallenbeck/HARP-210-NLP/main/datasets/SMSSpamCollection.tsv\", sep=\"\\t\")"
      ]
    },
    {
      "cell_type": "code",
      "execution_count": null,
      "id": "e8fdc82c-2d7a-4b44-adb8-dba20d2a2f2b",
      "metadata": {
        "id": "e8fdc82c-2d7a-4b44-adb8-dba20d2a2f2b"
      },
      "outputs": [],
      "source": [
        "X = spam[\"text\"]\n",
        "y = spam [\"class\"]\n",
        "\n",
        "X_train, X_test, y_train, y_test  = train_test_split(X,y,test_size = 0.2, random_state = 0)"
      ]
    },
    {
      "cell_type": "markdown",
      "id": "e6efc7ee-63a5-47cb-9248-c9114215bfb7",
      "metadata": {
        "id": "e6efc7ee-63a5-47cb-9248-c9114215bfb7"
      },
      "source": [
        "### Sentiment Analysis\n",
        "\n",
        "Sentiment Analysis is a specific type of text classification meant to determine whether text is positive or negatively describing some person, product, film, and so on.\n",
        "\n",
        "This dataset is movie reviews, with categories of either 1 (positive) or 0 (negative). Build an SVM to sort them out and evaluate its effectiveness.\n",
        "\n",
        "Note: this dataset is 50 MB. It takes a while to download."
      ]
    },
    {
      "cell_type": "code",
      "execution_count": null,
      "id": "b8fb4d65-814c-4266-b7a0-4e6b54747306",
      "metadata": {
        "id": "b8fb4d65-814c-4266-b7a0-4e6b54747306"
      },
      "outputs": [],
      "source": [
        "reviews = pd.read_csv(\"https://drive.google.com/u/0/uc?id=16eZ9zC4m6KodcoFnz1yMicxPnwn3aRIo&export=download\")"
      ]
    },
    {
      "cell_type": "code",
      "execution_count": null,
      "id": "fcdd205b-af55-43a2-8603-310a0b1c44a1",
      "metadata": {
        "id": "fcdd205b-af55-43a2-8603-310a0b1c44a1"
      },
      "outputs": [],
      "source": [
        "cv    = CountVectorizer(max_features=1000, stop_words='english') #CountVectorizer does a value counts(in pandas) for each x entry, then applies stop words and says \"only keep top 1000 words\"\n",
        "X_train = cv.fit_transform(X_train) #fit applies what weve established before (the now known top 1000 words and the stop words), transform applies it\n",
        "\n",
        "tfidf = TfidfTransformer(use_idf=True)\n",
        "X_train = tfidf.fit_transform(X_train)"
      ]
    },
    {
      "cell_type": "markdown",
      "id": "4832b422-6990-40fe-acbd-0dfb6d76ab0b",
      "metadata": {
        "id": "4832b422-6990-40fe-acbd-0dfb6d76ab0b"
      },
      "source": [
        "What words are most associated with positive reviews? Negative reviews?"
      ]
    },
    {
      "cell_type": "code",
      "execution_count": null,
      "id": "c61f6376-ef48-403b-b02b-ea8a548a7c54",
      "metadata": {
        "id": "c61f6376-ef48-403b-b02b-ea8a548a7c54"
      },
      "outputs": [],
      "source": [
        "X_test = cv.transform(X_test)\n",
        "X_test = tfidf.transform(X_test)"
      ]
    },
    {
      "cell_type": "code",
      "source": [
        "classifier = SGDClassifier() #can be whatever classifier we want to use\n",
        "classifier = classifier.fit(X_train, y_train) #figures out the line that seperates the xs and os"
      ],
      "metadata": {
        "id": "xFH3vybWYrB2"
      },
      "id": "xFH3vybWYrB2",
      "execution_count": null,
      "outputs": []
    },
    {
      "cell_type": "code",
      "source": [
        "y_train.value_counts(normalize=True) #null accuracy is 87%, whihc means if our model isnt atleast 87% accurate then it's not predicting anything. Has to beat this\n",
        "#accuracy to be meaningful"
      ],
      "metadata": {
        "colab": {
          "base_uri": "https://localhost:8080/"
        },
        "id": "hb2acncNZC3z",
        "outputId": "4b799b3b-e58d-452e-cad0-0e99c562f3fc"
      },
      "id": "hb2acncNZC3z",
      "execution_count": null,
      "outputs": [
        {
          "output_type": "execute_result",
          "data": {
            "text/plain": [
              "ham     0.868297\n",
              "spam    0.131703\n",
              "Name: class, dtype: float64"
            ]
          },
          "metadata": {},
          "execution_count": 11
        }
      ]
    },
    {
      "cell_type": "code",
      "source": [
        "#Train acuracy: 99.3%\n",
        "\n",
        "y_pred_train = classifier.predict(X_train)\n",
        "metrics.accuracy_score(y_train, y_pred_train)"
      ],
      "metadata": {
        "colab": {
          "base_uri": "https://localhost:8080/"
        },
        "id": "rDTxvZE8Z_KC",
        "outputId": "fc741962-727c-4c0b-af9d-c7c11e4b8b07"
      },
      "id": "rDTxvZE8Z_KC",
      "execution_count": null,
      "outputs": [
        {
          "output_type": "execute_result",
          "data": {
            "text/plain": [
              "0.9934933811981154"
            ]
          },
          "metadata": {},
          "execution_count": 12
        }
      ]
    },
    {
      "cell_type": "code",
      "source": [
        "#TEST accuracy: 98.7%\n",
        "\n",
        "y_pred_test = classifier.predict(X_test)\n",
        "metrics.accuracy_score(y_test, y_pred_test)\n",
        "\n",
        "#We want test accuracy to be bigger than null accuracy, or else the model does nothing\n",
        "#We like the test accuracy to be SIMILAR to train accuracy, or the model is overfit (the line is too wiggly)\n",
        "\n",
        "#If overfit:\n",
        "  #- the model may have some nonrealness to it... it doesn't represent the data as well as it might\n",
        "  #- It may be possible to reduce overfitting and increase test accuracy"
      ],
      "metadata": {
        "colab": {
          "base_uri": "https://localhost:8080/"
        },
        "id": "56JQVRkGaEQm",
        "outputId": "f07ab188-a34c-4ae1-9a29-b5c38ed1d78c"
      },
      "id": "56JQVRkGaEQm",
      "execution_count": null,
      "outputs": [
        {
          "output_type": "execute_result",
          "data": {
            "text/plain": [
              "0.9865470852017937"
            ]
          },
          "metadata": {},
          "execution_count": 13
        }
      ]
    },
    {
      "cell_type": "code",
      "source": [
        "print(metrics.classification_report(y_test, y_pred_test, zero_division=0))\n",
        "\n",
        "#If these were emails, based on precision..\n",
        "\n",
        "#99% of the emails in your inbox are actually good emails\n",
        "\n",
        "#98% of the spam emails in your spam box are spam\n",
        "\n"
      ],
      "metadata": {
        "colab": {
          "base_uri": "https://localhost:8080/"
        },
        "id": "2bg3Z7RFbZDY",
        "outputId": "cb5b5cc3-0125-407c-b2b2-d1bdd0a89c0a"
      },
      "id": "2bg3Z7RFbZDY",
      "execution_count": null,
      "outputs": [
        {
          "output_type": "stream",
          "name": "stdout",
          "text": [
            "              precision    recall  f1-score   support\n",
            "\n",
            "         ham       0.99      1.00      0.99       955\n",
            "        spam       0.98      0.93      0.95       160\n",
            "\n",
            "    accuracy                           0.99      1115\n",
            "   macro avg       0.98      0.96      0.97      1115\n",
            "weighted avg       0.99      0.99      0.99      1115\n",
            "\n"
          ]
        }
      ]
    },
    {
      "cell_type": "markdown",
      "id": "f505e674-3a1c-4f27-bc12-7d39955428d9",
      "metadata": {
        "id": "f505e674-3a1c-4f27-bc12-7d39955428d9"
      },
      "source": [
        "### News Source\n",
        "\n",
        "Build an SVM to classify the Netflix dataset into genres (you can see some code that cleans up the genre column in the notes), or country."
      ]
    },
    {
      "cell_type": "code",
      "execution_count": null,
      "id": "13f9e21f-7a36-4a6a-9447-038b144a7b95",
      "metadata": {
        "id": "13f9e21f-7a36-4a6a-9447-038b144a7b95"
      },
      "outputs": [],
      "source": [
        "news = pd.read_csv(\"https://raw.githubusercontent.com/Greg-Hallenbeck/class-datasets/main/datasets/netflix.csv\")"
      ]
    },
    {
      "cell_type": "code",
      "execution_count": null,
      "id": "11ff5581-3f40-4721-b537-acf61191feb9",
      "metadata": {
        "id": "11ff5581-3f40-4721-b537-acf61191feb9"
      },
      "outputs": [],
      "source": []
    },
    {
      "cell_type": "markdown",
      "id": "af207812-713d-4320-b9be-063bca0f538b",
      "metadata": {
        "id": "af207812-713d-4320-b9be-063bca0f538b"
      },
      "source": [
        "## 5.2. Pipelines and Multiple Outputs\n",
        "\n",
        "Modify your code from Part 1 to use Pipelines instead. You can modify your code in-place above, or re-write it below."
      ]
    },
    {
      "cell_type": "code",
      "source": [
        "X = spam[\"text\"]\n",
        "y = spam[\"class\"]\n",
        "\n",
        "X_train, X_test, y_train, y_test = train_test_split(X, y, test_size=0.2, random_state=314159)\n"
      ],
      "metadata": {
        "id": "8k54BZjAMN3e"
      },
      "id": "8k54BZjAMN3e",
      "execution_count": null,
      "outputs": []
    },
    {
      "cell_type": "code",
      "source": [
        "text_pipeline = Pipeline([\n",
        "     ('tokenize', CountVectorizer(max_features=10000, stop_words=\"english\")),\n",
        "     ('tfidf', TfidfTransformer(use_idf=True)),\n",
        "     ('classifier', SGDClassifier())\n",
        "    ])"
      ],
      "metadata": {
        "id": "jhMpx9aPhutJ"
      },
      "id": "jhMpx9aPhutJ",
      "execution_count": null,
      "outputs": []
    },
    {
      "cell_type": "code",
      "source": [
        "text_pipeline.fit(X_train, y_train)"
      ],
      "metadata": {
        "colab": {
          "base_uri": "https://localhost:8080/",
          "height": 159
        },
        "id": "i_4N3yiwh6MO",
        "outputId": "865b152b-89a8-43cc-bd99-b6a8012143b1"
      },
      "id": "i_4N3yiwh6MO",
      "execution_count": null,
      "outputs": [
        {
          "output_type": "execute_result",
          "data": {
            "text/plain": [
              "Pipeline(steps=[('tokenize',\n",
              "                 CountVectorizer(max_features=10000, stop_words='english')),\n",
              "                ('tfidf', TfidfTransformer()),\n",
              "                ('classifier', SGDClassifier())])"
            ],
            "text/html": [
              "<style>#sk-container-id-2 {color: black;background-color: white;}#sk-container-id-2 pre{padding: 0;}#sk-container-id-2 div.sk-toggleable {background-color: white;}#sk-container-id-2 label.sk-toggleable__label {cursor: pointer;display: block;width: 100%;margin-bottom: 0;padding: 0.3em;box-sizing: border-box;text-align: center;}#sk-container-id-2 label.sk-toggleable__label-arrow:before {content: \"▸\";float: left;margin-right: 0.25em;color: #696969;}#sk-container-id-2 label.sk-toggleable__label-arrow:hover:before {color: black;}#sk-container-id-2 div.sk-estimator:hover label.sk-toggleable__label-arrow:before {color: black;}#sk-container-id-2 div.sk-toggleable__content {max-height: 0;max-width: 0;overflow: hidden;text-align: left;background-color: #f0f8ff;}#sk-container-id-2 div.sk-toggleable__content pre {margin: 0.2em;color: black;border-radius: 0.25em;background-color: #f0f8ff;}#sk-container-id-2 input.sk-toggleable__control:checked~div.sk-toggleable__content {max-height: 200px;max-width: 100%;overflow: auto;}#sk-container-id-2 input.sk-toggleable__control:checked~label.sk-toggleable__label-arrow:before {content: \"▾\";}#sk-container-id-2 div.sk-estimator input.sk-toggleable__control:checked~label.sk-toggleable__label {background-color: #d4ebff;}#sk-container-id-2 div.sk-label input.sk-toggleable__control:checked~label.sk-toggleable__label {background-color: #d4ebff;}#sk-container-id-2 input.sk-hidden--visually {border: 0;clip: rect(1px 1px 1px 1px);clip: rect(1px, 1px, 1px, 1px);height: 1px;margin: -1px;overflow: hidden;padding: 0;position: absolute;width: 1px;}#sk-container-id-2 div.sk-estimator {font-family: monospace;background-color: #f0f8ff;border: 1px dotted black;border-radius: 0.25em;box-sizing: border-box;margin-bottom: 0.5em;}#sk-container-id-2 div.sk-estimator:hover {background-color: #d4ebff;}#sk-container-id-2 div.sk-parallel-item::after {content: \"\";width: 100%;border-bottom: 1px solid gray;flex-grow: 1;}#sk-container-id-2 div.sk-label:hover label.sk-toggleable__label {background-color: #d4ebff;}#sk-container-id-2 div.sk-serial::before {content: \"\";position: absolute;border-left: 1px solid gray;box-sizing: border-box;top: 0;bottom: 0;left: 50%;z-index: 0;}#sk-container-id-2 div.sk-serial {display: flex;flex-direction: column;align-items: center;background-color: white;padding-right: 0.2em;padding-left: 0.2em;position: relative;}#sk-container-id-2 div.sk-item {position: relative;z-index: 1;}#sk-container-id-2 div.sk-parallel {display: flex;align-items: stretch;justify-content: center;background-color: white;position: relative;}#sk-container-id-2 div.sk-item::before, #sk-container-id-2 div.sk-parallel-item::before {content: \"\";position: absolute;border-left: 1px solid gray;box-sizing: border-box;top: 0;bottom: 0;left: 50%;z-index: -1;}#sk-container-id-2 div.sk-parallel-item {display: flex;flex-direction: column;z-index: 1;position: relative;background-color: white;}#sk-container-id-2 div.sk-parallel-item:first-child::after {align-self: flex-end;width: 50%;}#sk-container-id-2 div.sk-parallel-item:last-child::after {align-self: flex-start;width: 50%;}#sk-container-id-2 div.sk-parallel-item:only-child::after {width: 0;}#sk-container-id-2 div.sk-dashed-wrapped {border: 1px dashed gray;margin: 0 0.4em 0.5em 0.4em;box-sizing: border-box;padding-bottom: 0.4em;background-color: white;}#sk-container-id-2 div.sk-label label {font-family: monospace;font-weight: bold;display: inline-block;line-height: 1.2em;}#sk-container-id-2 div.sk-label-container {text-align: center;}#sk-container-id-2 div.sk-container {/* jupyter's `normalize.less` sets `[hidden] { display: none; }` but bootstrap.min.css set `[hidden] { display: none !important; }` so we also need the `!important` here to be able to override the default hidden behavior on the sphinx rendered scikit-learn.org. See: https://github.com/scikit-learn/scikit-learn/issues/21755 */display: inline-block !important;position: relative;}#sk-container-id-2 div.sk-text-repr-fallback {display: none;}</style><div id=\"sk-container-id-2\" class=\"sk-top-container\"><div class=\"sk-text-repr-fallback\"><pre>Pipeline(steps=[(&#x27;tokenize&#x27;,\n",
              "                 CountVectorizer(max_features=10000, stop_words=&#x27;english&#x27;)),\n",
              "                (&#x27;tfidf&#x27;, TfidfTransformer()),\n",
              "                (&#x27;classifier&#x27;, SGDClassifier())])</pre><b>In a Jupyter environment, please rerun this cell to show the HTML representation or trust the notebook. <br />On GitHub, the HTML representation is unable to render, please try loading this page with nbviewer.org.</b></div><div class=\"sk-container\" hidden><div class=\"sk-item sk-dashed-wrapped\"><div class=\"sk-label-container\"><div class=\"sk-label sk-toggleable\"><input class=\"sk-toggleable__control sk-hidden--visually\" id=\"sk-estimator-id-5\" type=\"checkbox\" ><label for=\"sk-estimator-id-5\" class=\"sk-toggleable__label sk-toggleable__label-arrow\">Pipeline</label><div class=\"sk-toggleable__content\"><pre>Pipeline(steps=[(&#x27;tokenize&#x27;,\n",
              "                 CountVectorizer(max_features=10000, stop_words=&#x27;english&#x27;)),\n",
              "                (&#x27;tfidf&#x27;, TfidfTransformer()),\n",
              "                (&#x27;classifier&#x27;, SGDClassifier())])</pre></div></div></div><div class=\"sk-serial\"><div class=\"sk-item\"><div class=\"sk-estimator sk-toggleable\"><input class=\"sk-toggleable__control sk-hidden--visually\" id=\"sk-estimator-id-6\" type=\"checkbox\" ><label for=\"sk-estimator-id-6\" class=\"sk-toggleable__label sk-toggleable__label-arrow\">CountVectorizer</label><div class=\"sk-toggleable__content\"><pre>CountVectorizer(max_features=10000, stop_words=&#x27;english&#x27;)</pre></div></div></div><div class=\"sk-item\"><div class=\"sk-estimator sk-toggleable\"><input class=\"sk-toggleable__control sk-hidden--visually\" id=\"sk-estimator-id-7\" type=\"checkbox\" ><label for=\"sk-estimator-id-7\" class=\"sk-toggleable__label sk-toggleable__label-arrow\">TfidfTransformer</label><div class=\"sk-toggleable__content\"><pre>TfidfTransformer()</pre></div></div></div><div class=\"sk-item\"><div class=\"sk-estimator sk-toggleable\"><input class=\"sk-toggleable__control sk-hidden--visually\" id=\"sk-estimator-id-8\" type=\"checkbox\" ><label for=\"sk-estimator-id-8\" class=\"sk-toggleable__label sk-toggleable__label-arrow\">SGDClassifier</label><div class=\"sk-toggleable__content\"><pre>SGDClassifier()</pre></div></div></div></div></div></div></div>"
            ]
          },
          "metadata": {},
          "execution_count": 20
        }
      ]
    },
    {
      "cell_type": "code",
      "source": [
        "y_pred_test = text_pipeline.predict(X_test)\n",
        "y_pred_train = text_pipeline.predict(X_train)"
      ],
      "metadata": {
        "id": "yD9i6reWiDnW"
      },
      "id": "yD9i6reWiDnW",
      "execution_count": null,
      "outputs": []
    },
    {
      "cell_type": "code",
      "source": [
        "metrics.accuracy_score(y_train, y_pred_train)"
      ],
      "metadata": {
        "id": "Ftpoa3YDiGQx",
        "outputId": "6df8e88a-d642-421b-df6e-9d689f878f6e",
        "colab": {
          "base_uri": "https://localhost:8080/"
        }
      },
      "id": "Ftpoa3YDiGQx",
      "execution_count": null,
      "outputs": [
        {
          "output_type": "execute_result",
          "data": {
            "text/plain": [
              "0.9993269015032533"
            ]
          },
          "metadata": {},
          "execution_count": 22
        }
      ]
    },
    {
      "cell_type": "code",
      "source": [
        "metrics.accuracy_score(y_test, y_pred_test)"
      ],
      "metadata": {
        "id": "fPXi6lusiIpM",
        "outputId": "0790dfb7-3548-48df-aa2c-c72048387bcc",
        "colab": {
          "base_uri": "https://localhost:8080/"
        }
      },
      "id": "fPXi6lusiIpM",
      "execution_count": null,
      "outputs": [
        {
          "output_type": "execute_result",
          "data": {
            "text/plain": [
              "0.9766816143497757"
            ]
          },
          "metadata": {},
          "execution_count": 23
        }
      ]
    },
    {
      "cell_type": "code",
      "source": [
        "print(metrics.classification_report(y_test, y_pred_test, zero_division=0))"
      ],
      "metadata": {
        "id": "r2WjpKoJiLK_",
        "outputId": "c89b74f5-ae1a-4380-93e5-aeec53ea9106",
        "colab": {
          "base_uri": "https://localhost:8080/"
        }
      },
      "id": "r2WjpKoJiLK_",
      "execution_count": null,
      "outputs": [
        {
          "output_type": "stream",
          "name": "stdout",
          "text": [
            "              precision    recall  f1-score   support\n",
            "\n",
            "         ham       0.98      1.00      0.99       956\n",
            "        spam       0.98      0.86      0.91       159\n",
            "\n",
            "    accuracy                           0.98      1115\n",
            "   macro avg       0.98      0.93      0.95      1115\n",
            "weighted avg       0.98      0.98      0.98      1115\n",
            "\n"
          ]
        }
      ]
    },
    {
      "cell_type": "markdown",
      "source": [
        "Modify the analysis in the lecture to predict the country a movie or show was produced in, rather than its genre."
      ],
      "metadata": {
        "id": "rA1bkAs6MeQi"
      },
      "id": "rA1bkAs6MeQi"
    },
    {
      "cell_type": "markdown",
      "source": [],
      "metadata": {
        "id": "yCMzyHJNh3M8"
      },
      "id": "yCMzyHJNh3M8"
    },
    {
      "cell_type": "code",
      "source": [],
      "metadata": {
        "id": "_KdMySSkMqzs",
        "colab": {
          "base_uri": "https://localhost:8080/",
          "height": 182
        },
        "outputId": "e6569bad-db27-4821-98ab-28297f1d5af1"
      },
      "id": "_KdMySSkMqzs",
      "execution_count": null,
      "outputs": [
        {
          "output_type": "execute_result",
          "data": {
            "text/plain": [
              "Pipeline(steps=[('tokenize',\n",
              "                 CountVectorizer(max_features=10000, stop_words='english')),\n",
              "                ('tfidf', TfidfTransformer()),\n",
              "                ('classifier', SGDClassifier())])"
            ],
            "text/html": [
              "<style>#sk-container-id-1 {color: black;background-color: white;}#sk-container-id-1 pre{padding: 0;}#sk-container-id-1 div.sk-toggleable {background-color: white;}#sk-container-id-1 label.sk-toggleable__label {cursor: pointer;display: block;width: 100%;margin-bottom: 0;padding: 0.3em;box-sizing: border-box;text-align: center;}#sk-container-id-1 label.sk-toggleable__label-arrow:before {content: \"▸\";float: left;margin-right: 0.25em;color: #696969;}#sk-container-id-1 label.sk-toggleable__label-arrow:hover:before {color: black;}#sk-container-id-1 div.sk-estimator:hover label.sk-toggleable__label-arrow:before {color: black;}#sk-container-id-1 div.sk-toggleable__content {max-height: 0;max-width: 0;overflow: hidden;text-align: left;background-color: #f0f8ff;}#sk-container-id-1 div.sk-toggleable__content pre {margin: 0.2em;color: black;border-radius: 0.25em;background-color: #f0f8ff;}#sk-container-id-1 input.sk-toggleable__control:checked~div.sk-toggleable__content {max-height: 200px;max-width: 100%;overflow: auto;}#sk-container-id-1 input.sk-toggleable__control:checked~label.sk-toggleable__label-arrow:before {content: \"▾\";}#sk-container-id-1 div.sk-estimator input.sk-toggleable__control:checked~label.sk-toggleable__label {background-color: #d4ebff;}#sk-container-id-1 div.sk-label input.sk-toggleable__control:checked~label.sk-toggleable__label {background-color: #d4ebff;}#sk-container-id-1 input.sk-hidden--visually {border: 0;clip: rect(1px 1px 1px 1px);clip: rect(1px, 1px, 1px, 1px);height: 1px;margin: -1px;overflow: hidden;padding: 0;position: absolute;width: 1px;}#sk-container-id-1 div.sk-estimator {font-family: monospace;background-color: #f0f8ff;border: 1px dotted black;border-radius: 0.25em;box-sizing: border-box;margin-bottom: 0.5em;}#sk-container-id-1 div.sk-estimator:hover {background-color: #d4ebff;}#sk-container-id-1 div.sk-parallel-item::after {content: \"\";width: 100%;border-bottom: 1px solid gray;flex-grow: 1;}#sk-container-id-1 div.sk-label:hover label.sk-toggleable__label {background-color: #d4ebff;}#sk-container-id-1 div.sk-serial::before {content: \"\";position: absolute;border-left: 1px solid gray;box-sizing: border-box;top: 0;bottom: 0;left: 50%;z-index: 0;}#sk-container-id-1 div.sk-serial {display: flex;flex-direction: column;align-items: center;background-color: white;padding-right: 0.2em;padding-left: 0.2em;position: relative;}#sk-container-id-1 div.sk-item {position: relative;z-index: 1;}#sk-container-id-1 div.sk-parallel {display: flex;align-items: stretch;justify-content: center;background-color: white;position: relative;}#sk-container-id-1 div.sk-item::before, #sk-container-id-1 div.sk-parallel-item::before {content: \"\";position: absolute;border-left: 1px solid gray;box-sizing: border-box;top: 0;bottom: 0;left: 50%;z-index: -1;}#sk-container-id-1 div.sk-parallel-item {display: flex;flex-direction: column;z-index: 1;position: relative;background-color: white;}#sk-container-id-1 div.sk-parallel-item:first-child::after {align-self: flex-end;width: 50%;}#sk-container-id-1 div.sk-parallel-item:last-child::after {align-self: flex-start;width: 50%;}#sk-container-id-1 div.sk-parallel-item:only-child::after {width: 0;}#sk-container-id-1 div.sk-dashed-wrapped {border: 1px dashed gray;margin: 0 0.4em 0.5em 0.4em;box-sizing: border-box;padding-bottom: 0.4em;background-color: white;}#sk-container-id-1 div.sk-label label {font-family: monospace;font-weight: bold;display: inline-block;line-height: 1.2em;}#sk-container-id-1 div.sk-label-container {text-align: center;}#sk-container-id-1 div.sk-container {/* jupyter's `normalize.less` sets `[hidden] { display: none; }` but bootstrap.min.css set `[hidden] { display: none !important; }` so we also need the `!important` here to be able to override the default hidden behavior on the sphinx rendered scikit-learn.org. See: https://github.com/scikit-learn/scikit-learn/issues/21755 */display: inline-block !important;position: relative;}#sk-container-id-1 div.sk-text-repr-fallback {display: none;}</style><div id=\"sk-container-id-1\" class=\"sk-top-container\"><div class=\"sk-text-repr-fallback\"><pre>Pipeline(steps=[(&#x27;tokenize&#x27;,\n",
              "                 CountVectorizer(max_features=10000, stop_words=&#x27;english&#x27;)),\n",
              "                (&#x27;tfidf&#x27;, TfidfTransformer()),\n",
              "                (&#x27;classifier&#x27;, SGDClassifier())])</pre><b>In a Jupyter environment, please rerun this cell to show the HTML representation or trust the notebook. <br />On GitHub, the HTML representation is unable to render, please try loading this page with nbviewer.org.</b></div><div class=\"sk-container\" hidden><div class=\"sk-item sk-dashed-wrapped\"><div class=\"sk-label-container\"><div class=\"sk-label sk-toggleable\"><input class=\"sk-toggleable__control sk-hidden--visually\" id=\"sk-estimator-id-1\" type=\"checkbox\" ><label for=\"sk-estimator-id-1\" class=\"sk-toggleable__label sk-toggleable__label-arrow\">Pipeline</label><div class=\"sk-toggleable__content\"><pre>Pipeline(steps=[(&#x27;tokenize&#x27;,\n",
              "                 CountVectorizer(max_features=10000, stop_words=&#x27;english&#x27;)),\n",
              "                (&#x27;tfidf&#x27;, TfidfTransformer()),\n",
              "                (&#x27;classifier&#x27;, SGDClassifier())])</pre></div></div></div><div class=\"sk-serial\"><div class=\"sk-item\"><div class=\"sk-estimator sk-toggleable\"><input class=\"sk-toggleable__control sk-hidden--visually\" id=\"sk-estimator-id-2\" type=\"checkbox\" ><label for=\"sk-estimator-id-2\" class=\"sk-toggleable__label sk-toggleable__label-arrow\">CountVectorizer</label><div class=\"sk-toggleable__content\"><pre>CountVectorizer(max_features=10000, stop_words=&#x27;english&#x27;)</pre></div></div></div><div class=\"sk-item\"><div class=\"sk-estimator sk-toggleable\"><input class=\"sk-toggleable__control sk-hidden--visually\" id=\"sk-estimator-id-3\" type=\"checkbox\" ><label for=\"sk-estimator-id-3\" class=\"sk-toggleable__label sk-toggleable__label-arrow\">TfidfTransformer</label><div class=\"sk-toggleable__content\"><pre>TfidfTransformer()</pre></div></div></div><div class=\"sk-item\"><div class=\"sk-estimator sk-toggleable\"><input class=\"sk-toggleable__control sk-hidden--visually\" id=\"sk-estimator-id-4\" type=\"checkbox\" ><label for=\"sk-estimator-id-4\" class=\"sk-toggleable__label sk-toggleable__label-arrow\">SGDClassifier</label><div class=\"sk-toggleable__content\"><pre>SGDClassifier()</pre></div></div></div></div></div></div></div>"
            ]
          },
          "metadata": {},
          "execution_count": 19
        }
      ]
    },
    {
      "cell_type": "markdown",
      "source": [
        "For the datasets in Part 1, would any of them be improved by using a Multioutput classifier?"
      ],
      "metadata": {
        "id": "ukgSwYTsM1RU"
      },
      "id": "ukgSwYTsM1RU"
    },
    {
      "cell_type": "code",
      "source": [],
      "metadata": {
        "id": "3aUQ6wA7PJOM"
      },
      "id": "3aUQ6wA7PJOM",
      "execution_count": null,
      "outputs": []
    },
    {
      "cell_type": "markdown",
      "source": [
        "## 5.3. Transformer Architecture\n",
        "\n",
        "These questions are in a separate notebook, 5.X2"
      ],
      "metadata": {
        "id": "vve99QlnM3qH"
      },
      "id": "vve99QlnM3qH"
    }
  ],
  "metadata": {
    "kernelspec": {
      "display_name": "Python 3 (ipykernel)",
      "language": "python",
      "name": "python3"
    },
    "language_info": {
      "codemirror_mode": {
        "name": "ipython",
        "version": 3
      },
      "file_extension": ".py",
      "mimetype": "text/x-python",
      "name": "python",
      "nbconvert_exporter": "python",
      "pygments_lexer": "ipython3",
      "version": "3.9.12"
    },
    "colab": {
      "provenance": []
    }
  },
  "nbformat": 4,
  "nbformat_minor": 5
}