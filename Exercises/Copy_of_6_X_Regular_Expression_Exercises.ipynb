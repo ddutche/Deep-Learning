{
  "cells": [
    {
      "cell_type": "markdown",
      "id": "6836db94-16a8-43c5-aa47-0df817b818d0",
      "metadata": {
        "id": "6836db94-16a8-43c5-aa47-0df817b818d0"
      },
      "source": [
        "# Exercises for Regular Expressions\n",
        "\n",
        "### Load Libraries"
      ]
    },
    {
      "cell_type": "code",
      "execution_count": null,
      "id": "a0ba5c0f-c94f-4298-9533-a30c8c3147a2",
      "metadata": {
        "id": "a0ba5c0f-c94f-4298-9533-a30c8c3147a2"
      },
      "outputs": [],
      "source": [
        "import pandas as pd\n",
        "import re"
      ]
    },
    {
      "cell_type": "markdown",
      "id": "bbe55787-b9aa-4850-b49f-3a760954f26b",
      "metadata": {
        "id": "bbe55787-b9aa-4850-b49f-3a760954f26b"
      },
      "source": [
        "Here's the match function, which uses `re.search()` to let you know if a regular expression matches some string."
      ]
    },
    {
      "cell_type": "code",
      "execution_count": null,
      "id": "66ff55c2-924a-437a-b294-1e23159c8d89",
      "metadata": {
        "id": "66ff55c2-924a-437a-b294-1e23159c8d89"
      },
      "outputs": [],
      "source": [
        "def match(regex, string):\n",
        "    print(string + \": \" + str(re.search(regex, string) != None))"
      ]
    },
    {
      "cell_type": "markdown",
      "id": "43f45c3b-37b6-4a28-bfbd-cdcc9071f7c2",
      "metadata": {
        "id": "43f45c3b-37b6-4a28-bfbd-cdcc9071f7c2"
      },
      "source": [
        "___\n",
        "## 6.1: Intro to Regular Expressions\n",
        "\n",
        "### Basics\n",
        "All of these questions can be answered only using:\n",
        "* Standard alphanumeric characters,\n",
        "* The `.` wildcard,\n",
        "* The `|` pipe, and\n",
        "* Bracket `[]` matching."
      ]
    },
    {
      "cell_type": "markdown",
      "id": "53e8230d-03e5-44e1-9293-f168329aa404",
      "metadata": {
        "id": "53e8230d-03e5-44e1-9293-f168329aa404"
      },
      "source": [
        "For each of the segments below, write a regular expression that will match each of the strings *except* the ones indicated. See if you can verbally describe what needs to be matched.\n",
        "\n",
        "##### Part A."
      ]
    },
    {
      "cell_type": "code",
      "execution_count": null,
      "id": "46dfd2cb-df3c-41f3-9fa2-452ff565afc5",
      "metadata": {
        "id": "46dfd2cb-df3c-41f3-9fa2-452ff565afc5"
      },
      "outputs": [],
      "source": [
        "# Change this code to include the correct regex.\n",
        "regex = r\"abc\""
      ]
    },
    {
      "cell_type": "code",
      "execution_count": null,
      "id": "b1562549-3703-481d-86f4-7cb3c2c03354",
      "metadata": {
        "id": "b1562549-3703-481d-86f4-7cb3c2c03354",
        "colab": {
          "base_uri": "https://localhost:8080/"
        },
        "outputId": "65a4a92d-4e71-4f43-bf56-ccbf86a2cabb"
      },
      "outputs": [
        {
          "output_type": "stream",
          "name": "stdout",
          "text": [
            "regex = r\"abc\"\n",
            "abc: True\n",
            "abcdef: True\n",
            "abcdefghi: True\n",
            "   defghi: False\n"
          ]
        }
      ],
      "source": [
        "# Don't change the code in these cells!\n",
        "print('regex = r\"' + regex + '\"')\n",
        "match(regex, \"abc\")\n",
        "match(regex, \"abcdef\")\n",
        "match(regex, \"abcdefghi\")\n",
        "match(regex, \"   defghi\") # Don't match this one!"
      ]
    },
    {
      "cell_type": "markdown",
      "id": "8b7ded0f-ba5a-4b7f-9ef7-b3f7de61caae",
      "metadata": {
        "id": "8b7ded0f-ba5a-4b7f-9ef7-b3f7de61caae"
      },
      "source": [
        "Predict: will your regex match the text below?"
      ]
    },
    {
      "cell_type": "code",
      "execution_count": null,
      "id": "23c3a58c-8633-43e4-9705-f6551880c620",
      "metadata": {
        "id": "23c3a58c-8633-43e4-9705-f6551880c620",
        "colab": {
          "base_uri": "https://localhost:8080/"
        },
        "outputId": "ff7e3d83-d166-4c4d-bf12-e566798c374c"
      },
      "outputs": [
        {
          "output_type": "stream",
          "name": "stdout",
          "text": [
            "abracadabra: False\n"
          ]
        }
      ],
      "source": [
        "match(regex, \"abracadabra\") #It wont"
      ]
    },
    {
      "cell_type": "markdown",
      "id": "27f08186-dff2-4c44-b99a-6f6d3dbe9897",
      "metadata": {
        "id": "27f08186-dff2-4c44-b99a-6f6d3dbe9897"
      },
      "source": [
        "##### Part B."
      ]
    },
    {
      "cell_type": "code",
      "execution_count": null,
      "id": "bbbf98bd-9226-489c-8ec6-b848bb74dbf5",
      "metadata": {
        "id": "bbbf98bd-9226-489c-8ec6-b848bb74dbf5"
      },
      "outputs": [],
      "source": [
        "regex = r\"apple\""
      ]
    },
    {
      "cell_type": "code",
      "execution_count": null,
      "id": "eca02cb2-3ca8-4373-a389-2e8856d6d0d7",
      "metadata": {
        "id": "eca02cb2-3ca8-4373-a389-2e8856d6d0d7",
        "colab": {
          "base_uri": "https://localhost:8080/"
        },
        "outputId": "a61e9b40-162d-4469-9a0f-80196d5da198"
      },
      "outputs": [
        {
          "output_type": "stream",
          "name": "stdout",
          "text": [
            "regex = r\"apple\"\n",
            "applesauce: True\n",
            "apple juice: True\n",
            "pineapple: True\n",
            "apfelstrudel: False\n"
          ]
        }
      ],
      "source": [
        "print('regex = r\"' + regex + '\"')\n",
        "match(regex, \"applesauce\")\n",
        "match(regex, \"apple juice\")\n",
        "match(regex, \"pineapple\")\n",
        "match(regex, \"apfelstrudel\") # Don't match this one!"
      ]
    },
    {
      "cell_type": "markdown",
      "id": "2aac2d30-4af4-4533-856f-95a56d48232b",
      "metadata": {
        "id": "2aac2d30-4af4-4533-856f-95a56d48232b"
      },
      "source": [
        "Predict: will your regex match the text below?"
      ]
    },
    {
      "cell_type": "code",
      "execution_count": null,
      "id": "38ac519a-1337-4bae-b2b3-dda6799a43b6",
      "metadata": {
        "id": "38ac519a-1337-4bae-b2b3-dda6799a43b6"
      },
      "outputs": [],
      "source": [
        "match(regex, \"snapple\") #YES"
      ]
    },
    {
      "cell_type": "markdown",
      "id": "e914ebef-5124-4650-83cb-c98873040ea4",
      "metadata": {
        "id": "e914ebef-5124-4650-83cb-c98873040ea4"
      },
      "source": [
        "##### Part C.\n",
        "\n",
        "Here, I want to match the letters \"nt\" with at least one letter before them."
      ]
    },
    {
      "cell_type": "code",
      "execution_count": null,
      "id": "30e8228b-99f9-4e79-bc34-6b04ead95568",
      "metadata": {
        "id": "30e8228b-99f9-4e79-bc34-6b04ead95568"
      },
      "outputs": [],
      "source": [
        "regex = r\".nt\""
      ]
    },
    {
      "cell_type": "code",
      "execution_count": null,
      "id": "48fd48f9-718e-48e2-bcd7-df3caf73647b",
      "metadata": {
        "id": "48fd48f9-718e-48e2-bcd7-df3caf73647b",
        "colab": {
          "base_uri": "https://localhost:8080/"
        },
        "outputId": "73ef4b40-6389-4966-965d-7c808889208b"
      },
      "outputs": [
        {
          "output_type": "stream",
          "name": "stdout",
          "text": [
            "regex = r\".nt\"\n",
            "ant: True\n",
            "ent: True\n",
            "runt: True\n",
            "nt: False\n",
            "t: False\n"
          ]
        }
      ],
      "source": [
        "print('regex = r\"' + regex + '\"')\n",
        "match(regex, \"ant\")\n",
        "match(regex, \"ent\")\n",
        "match(regex, \"runt\")\n",
        "match(regex, \"nt\") # Don't match this one!\n",
        "match(regex, \"t\") # Don't match this one!"
      ]
    },
    {
      "cell_type": "markdown",
      "id": "02e1b891-51ad-455c-9776-8baa7045125d",
      "metadata": {
        "id": "02e1b891-51ad-455c-9776-8baa7045125d"
      },
      "source": [
        "Predict: will your regex match the text below?"
      ]
    },
    {
      "cell_type": "code",
      "execution_count": null,
      "id": "94707d15-0c35-495c-9e94-6954c61bcec6",
      "metadata": {
        "id": "94707d15-0c35-495c-9e94-6954c61bcec6",
        "colab": {
          "base_uri": "https://localhost:8080/"
        },
        "outputId": "65942c69-5eb3-4d94-b4de-c389e1215341"
      },
      "outputs": [
        {
          "output_type": "stream",
          "name": "stdout",
          "text": [
            "I can't even.: False\n"
          ]
        }
      ],
      "source": [
        "match(regex, \"I can't even.\") #no"
      ]
    },
    {
      "cell_type": "markdown",
      "id": "6eb5c653-1690-4f05-9e39-19c69c50bc5b",
      "metadata": {
        "id": "6eb5c653-1690-4f05-9e39-19c69c50bc5b"
      },
      "source": [
        "##### Part D."
      ]
    },
    {
      "cell_type": "code",
      "execution_count": null,
      "id": "de220867-3af6-4dce-8c69-b08d29233a61",
      "metadata": {
        "id": "de220867-3af6-4dce-8c69-b08d29233a61"
      },
      "outputs": [],
      "source": [
        "regex = r\"f..r\""
      ]
    },
    {
      "cell_type": "code",
      "execution_count": null,
      "id": "0a9491e2-7796-4b36-856a-79389905fb8c",
      "metadata": {
        "id": "0a9491e2-7796-4b36-856a-79389905fb8c",
        "colab": {
          "base_uri": "https://localhost:8080/"
        },
        "outputId": "4640f77c-60c0-4fd3-8620-f00d68052c3a"
      },
      "outputs": [
        {
          "output_type": "stream",
          "name": "stdout",
          "text": [
            "regex = r\"f..r\"\n",
            "four: True\n",
            "fair: True\n",
            "fairy: True\n",
            "flower: False\n",
            "flour: False\n"
          ]
        }
      ],
      "source": [
        "print('regex = r\"' + regex + '\"')\n",
        "match(regex, \"four\")\n",
        "match(regex, \"fair\")\n",
        "match(regex, \"fairy\")\n",
        "match(regex, \"flower\") # Don't match this one!\n",
        "match(regex, \"flour\") # Don't match this one!"
      ]
    },
    {
      "cell_type": "markdown",
      "id": "77f7d3a5-789a-45fc-9692-acfbedf01feb",
      "metadata": {
        "id": "77f7d3a5-789a-45fc-9692-acfbedf01feb"
      },
      "source": [
        "Predict: will your regex match the text below?"
      ]
    },
    {
      "cell_type": "code",
      "execution_count": null,
      "id": "2820b5f2-756a-4ed4-95f9-74760a01415b",
      "metadata": {
        "id": "2820b5f2-756a-4ed4-95f9-74760a01415b",
        "colab": {
          "base_uri": "https://localhost:8080/"
        },
        "outputId": "f002c4f0-592e-4e7d-c127-e2f4c82ed114"
      },
      "outputs": [
        {
          "output_type": "stream",
          "name": "stdout",
          "text": [
            "affair: True\n"
          ]
        }
      ],
      "source": [
        "match(regex, \"affair\")"
      ]
    },
    {
      "cell_type": "markdown",
      "id": "0b69128d-298f-4473-abd5-52d236f201cd",
      "metadata": {
        "id": "0b69128d-298f-4473-abd5-52d236f201cd"
      },
      "source": [
        "##### Part E.\n",
        "\n",
        "Here, we're filtering out words with fewer than 3 letters."
      ]
    },
    {
      "cell_type": "code",
      "execution_count": null,
      "id": "89ec3b2f-bc4b-40a3-88ca-77889f9e7b3a",
      "metadata": {
        "id": "89ec3b2f-bc4b-40a3-88ca-77889f9e7b3a"
      },
      "outputs": [],
      "source": [
        "regex = r\"...\""
      ]
    },
    {
      "cell_type": "code",
      "execution_count": null,
      "id": "32f8af41-220a-4b57-8b46-e46602fe7ea3",
      "metadata": {
        "id": "32f8af41-220a-4b57-8b46-e46602fe7ea3",
        "colab": {
          "base_uri": "https://localhost:8080/"
        },
        "outputId": "029c5567-6c1c-47f7-c0d2-7f12d4a9f923"
      },
      "outputs": [
        {
          "output_type": "stream",
          "name": "stdout",
          "text": [
            "regex = r\"...\"\n",
            "This: True\n",
            "is: False\n",
            "an: False\n",
            "adorable: True\n",
            "cat: True\n"
          ]
        }
      ],
      "source": [
        "print('regex = r\"' + regex + '\"')\n",
        "match(regex, \"This\")\n",
        "match(regex, \"is\") # Don't match this one!\n",
        "match(regex, \"an\") # Don't match this one!\n",
        "match(regex, \"adorable\")\n",
        "match(regex, \"cat\")"
      ]
    },
    {
      "cell_type": "markdown",
      "id": "bab2b1c1-de48-40ef-8de4-d4a0ec66aad4",
      "metadata": {
        "id": "bab2b1c1-de48-40ef-8de4-d4a0ec66aad4"
      },
      "source": [
        "Predict: will your regex match the text below?"
      ]
    },
    {
      "cell_type": "code",
      "execution_count": null,
      "id": "2334fba8-7d9c-480f-a255-24545504e243",
      "metadata": {
        "id": "2334fba8-7d9c-480f-a255-24545504e243",
        "colab": {
          "base_uri": "https://localhost:8080/"
        },
        "outputId": "482f2d57-15ac-46fd-dbb4-f71c5a080336"
      },
      "outputs": [
        {
          "output_type": "stream",
          "name": "stdout",
          "text": [
            "8 7: True\n"
          ]
        }
      ],
      "source": [
        "match(regex, \"8 7\")#yes"
      ]
    },
    {
      "cell_type": "markdown",
      "id": "3284e5b1-dd77-43cc-a547-b1a4a940d92d",
      "metadata": {
        "id": "3284e5b1-dd77-43cc-a547-b1a4a940d92d"
      },
      "source": [
        "##### Part F."
      ]
    },
    {
      "cell_type": "code",
      "execution_count": null,
      "id": "3a0ca355-2832-4bf4-8c42-c6ac099ba4cc",
      "metadata": {
        "id": "3a0ca355-2832-4bf4-8c42-c6ac099ba4cc"
      },
      "outputs": [],
      "source": [
        "regex = r\"abc|xyz\""
      ]
    },
    {
      "cell_type": "code",
      "execution_count": null,
      "id": "a2239c49-6ec7-4d24-972b-131fef0e569d",
      "metadata": {
        "id": "a2239c49-6ec7-4d24-972b-131fef0e569d",
        "colab": {
          "base_uri": "https://localhost:8080/"
        },
        "outputId": "401d5217-5012-4de9-d551-d6f69643e9d4"
      },
      "outputs": [
        {
          "output_type": "stream",
          "name": "stdout",
          "text": [
            "regex = r\"abc|xyz\"\n",
            "abc: True\n",
            "abcdef: True\n",
            "xyz: True\n",
            "uvwxyz: True\n",
            "defuvw: False\n"
          ]
        }
      ],
      "source": [
        "print('regex = r\"' + regex + '\"')\n",
        "match(regex, \"abc\")\n",
        "match(regex, \"abcdef\")\n",
        "match(regex, \"xyz\")\n",
        "match(regex, \"uvwxyz\")\n",
        "match(regex, \"defuvw\") # Don't match this one!"
      ]
    },
    {
      "cell_type": "markdown",
      "id": "6f93bde6-fcd5-46d1-abdd-3e41d28a31ce",
      "metadata": {
        "id": "6f93bde6-fcd5-46d1-abdd-3e41d28a31ce"
      },
      "source": [
        "##### Part G."
      ]
    },
    {
      "cell_type": "code",
      "execution_count": null,
      "id": "897d4917-01dd-43b0-adc9-b5dc95a80afa",
      "metadata": {
        "id": "897d4917-01dd-43b0-adc9-b5dc95a80afa"
      },
      "outputs": [],
      "source": [
        "regex = r\"c.t|b.g\""
      ]
    },
    {
      "cell_type": "code",
      "execution_count": null,
      "id": "b8a8a4ed-ca39-49ec-8b80-1ba9d2e82266",
      "metadata": {
        "id": "b8a8a4ed-ca39-49ec-8b80-1ba9d2e82266",
        "colab": {
          "base_uri": "https://localhost:8080/"
        },
        "outputId": "3dac3f27-1c61-4414-dcb8-ea11b58499dd"
      },
      "outputs": [
        {
          "output_type": "stream",
          "name": "stdout",
          "text": [
            "regex = r\"c.t|b.g\"\n",
            "cat: True\n",
            "cot: True\n",
            "cut: True\n",
            "big: True\n",
            "bug: True\n",
            "bags: True\n",
            "court: False\n",
            "bungie: False\n"
          ]
        }
      ],
      "source": [
        "print('regex = r\"' + regex + '\"')\n",
        "match(regex, \"cat\")\n",
        "match(regex, \"cot\")\n",
        "match(regex, \"cut\")\n",
        "match(regex, \"big\")\n",
        "match(regex, \"bug\")\n",
        "match(regex, \"bags\")\n",
        "match(regex, \"court\") # Don't match this one!\n",
        "match(regex, \"bungie\") # Don't match this one!"
      ]
    },
    {
      "cell_type": "markdown",
      "id": "32bcdb15-fb88-47ef-85e2-d38a2f4f41d7",
      "metadata": {
        "id": "32bcdb15-fb88-47ef-85e2-d38a2f4f41d7"
      },
      "source": [
        "Predict: will your regex match the text below?"
      ]
    },
    {
      "cell_type": "code",
      "execution_count": null,
      "id": "d08450c3-1777-40b7-983a-d1e5466892cc",
      "metadata": {
        "id": "d08450c3-1777-40b7-983a-d1e5466892cc",
        "colab": {
          "base_uri": "https://localhost:8080/"
        },
        "outputId": "1375d817-ba04-4126-fe19-a708536f563a"
      },
      "outputs": [
        {
          "output_type": "stream",
          "name": "stdout",
          "text": [
            "cbtg: True\n"
          ]
        }
      ],
      "source": [
        "match(regex, \"cbtg\")"
      ]
    },
    {
      "cell_type": "markdown",
      "id": "a751a0d9-718a-4c34-ba14-29a2796edc9b",
      "metadata": {
        "id": "a751a0d9-718a-4c34-ba14-29a2796edc9b"
      },
      "source": [
        "##### Part H."
      ]
    },
    {
      "cell_type": "code",
      "execution_count": null,
      "id": "dc3e7696-9247-435a-b3a1-91f85e0fe45d",
      "metadata": {
        "id": "dc3e7696-9247-435a-b3a1-91f85e0fe45d"
      },
      "outputs": [],
      "source": [
        "regex = r\"[aou]\""
      ]
    },
    {
      "cell_type": "code",
      "execution_count": null,
      "id": "c0649dc5-1a38-4d11-b334-322a39cb6b0e",
      "metadata": {
        "id": "c0649dc5-1a38-4d11-b334-322a39cb6b0e",
        "colab": {
          "base_uri": "https://localhost:8080/"
        },
        "outputId": "de81e752-7918-4f61-cf08-fb2af33083e2"
      },
      "outputs": [
        {
          "output_type": "stream",
          "name": "stdout",
          "text": [
            "regex = r\"[aou]\"\n",
            "cat: True\n",
            "cet: False\n",
            "cit: False\n",
            "cot: True\n",
            "cut: True\n"
          ]
        }
      ],
      "source": [
        "print('regex = r\"' + regex + '\"')\n",
        "match(regex, \"cat\")\n",
        "match(regex, \"cet\") # Don't match this one!\n",
        "match(regex, \"cit\") # Don't match this one!\n",
        "match(regex, \"cot\")\n",
        "match(regex, \"cut\")"
      ]
    },
    {
      "cell_type": "markdown",
      "id": "fd34ac26-4ede-45ff-9e70-1710f0f8de93",
      "metadata": {
        "id": "fd34ac26-4ede-45ff-9e70-1710f0f8de93"
      },
      "source": [
        "##### Part I.\n",
        "\n",
        "These match any sentence that has at least one punctuation mark in it."
      ]
    },
    {
      "cell_type": "code",
      "execution_count": null,
      "id": "2b357072-4a70-489a-a262-2c68336ba563",
      "metadata": {
        "id": "2b357072-4a70-489a-a262-2c68336ba563"
      },
      "outputs": [],
      "source": [
        "regex = r\"[\\.\\?\\[\\]\\(\\)]\""
      ]
    },
    {
      "cell_type": "code",
      "execution_count": null,
      "id": "8c8211ad-13b4-4a41-a1e6-cfceddec25f3",
      "metadata": {
        "id": "8c8211ad-13b4-4a41-a1e6-cfceddec25f3",
        "colab": {
          "base_uri": "https://localhost:8080/"
        },
        "outputId": "ebe6946f-e436-4bef-dd20-f3b4586f0e54"
      },
      "outputs": [
        {
          "output_type": "stream",
          "name": "stdout",
          "text": [
            "regex = r\"[\\.\\?\\[\\]\\(\\)]\"\n",
            "xyz.: True\n",
            "what?: True\n",
            "[this]: True\n",
            "(that): True\n",
            "not this: False\n",
            "or that: False\n"
          ]
        }
      ],
      "source": [
        "print('regex = r\"' + regex + '\"')\n",
        "match(regex, \"xyz.\")\n",
        "match(regex, \"what?\")\n",
        "match(regex, \"[this]\")\n",
        "match(regex, \"(that)\")\n",
        "match(regex, \"not this\") # Don't match this one!\n",
        "match(regex, \"or that\") # Don't match this one!"
      ]
    },
    {
      "cell_type": "markdown",
      "id": "b07c227b-fa60-438d-9d02-042206d771ed",
      "metadata": {
        "id": "b07c227b-fa60-438d-9d02-042206d771ed"
      },
      "source": [
        "### Repetition and Shorthand\n",
        "\n",
        "These questions will add in the:\n",
        "* The `*`, `+`, and `?` characters for indicating repetitions, and\n",
        "* Shorthand `\\s`, `\\w`, `\\d` (and uppercase variants)."
      ]
    },
    {
      "cell_type": "markdown",
      "id": "99bf22c3-d5dd-4d94-ad2f-6fb00d2e27ff",
      "metadata": {
        "id": "99bf22c3-d5dd-4d94-ad2f-6fb00d2e27ff"
      },
      "source": [
        "##### Part J."
      ]
    },
    {
      "cell_type": "code",
      "execution_count": null,
      "id": "1c01dcf0-c387-4353-9db4-3304f94e9cce",
      "metadata": {
        "id": "1c01dcf0-c387-4353-9db4-3304f94e9cce"
      },
      "outputs": [],
      "source": [
        "regex = r\"a+b+\""
      ]
    },
    {
      "cell_type": "code",
      "execution_count": null,
      "id": "88f246cc-2d4b-4e6a-b315-520ebf161961",
      "metadata": {
        "id": "88f246cc-2d4b-4e6a-b315-520ebf161961",
        "colab": {
          "base_uri": "https://localhost:8080/"
        },
        "outputId": "2ea99ec1-6620-4b55-f5fe-bbb86421cae8"
      },
      "outputs": [
        {
          "output_type": "stream",
          "name": "stdout",
          "text": [
            "regex = r\"a+b+\"\n",
            "aaaaaaaab: True\n",
            "aaaab: True\n",
            "aab: True\n",
            "ab: True\n",
            "bbbbb: False\n",
            "aa: False\n",
            "bbaa: False\n"
          ]
        }
      ],
      "source": [
        "print('regex = r\"' + regex + '\"')\n",
        "match(regex, \"aaaaaaaab\")\n",
        "match(regex, \"aaaab\")\n",
        "match(regex, \"aab\")\n",
        "match(regex, \"ab\")\n",
        "match(regex, \"bbbbb\") # Don't match this one!\n",
        "match(regex, \"aa\") # Don't match this one!\n",
        "match(regex, \"bbaa\") # Don't match this one!"
      ]
    },
    {
      "cell_type": "markdown",
      "id": "4cedd02d-a8c8-4302-9850-3303ec80e2bb",
      "metadata": {
        "id": "4cedd02d-a8c8-4302-9850-3303ec80e2bb"
      },
      "source": [
        "Predict: will your regex match the text below?"
      ]
    },
    {
      "cell_type": "code",
      "execution_count": null,
      "id": "b2694a4a-831c-472f-b6b8-2d0c4da8fec1",
      "metadata": {
        "id": "b2694a4a-831c-472f-b6b8-2d0c4da8fec1",
        "colab": {
          "base_uri": "https://localhost:8080/"
        },
        "outputId": "6b8f1972-c93f-415a-ae28-ae3a77471eaf"
      },
      "outputs": [
        {
          "output_type": "stream",
          "name": "stdout",
          "text": [
            "aabbaa: True\n"
          ]
        }
      ],
      "source": [
        "match(regex, \"aabbaa\")#yes"
      ]
    },
    {
      "cell_type": "markdown",
      "id": "43aaacc6-92c6-42cf-afa3-8ea356a317a0",
      "metadata": {
        "id": "43aaacc6-92c6-42cf-afa3-8ea356a317a0"
      },
      "source": [
        "##### Part J."
      ]
    },
    {
      "cell_type": "code",
      "execution_count": null,
      "id": "42d1556f-cb98-41a4-b27c-2fd6d66dca06",
      "metadata": {
        "id": "42d1556f-cb98-41a4-b27c-2fd6d66dca06"
      },
      "outputs": [],
      "source": [
        "regex = r\"a\""
      ]
    },
    {
      "cell_type": "code",
      "execution_count": null,
      "id": "3781befd-4876-44fb-be73-3a82437eac37",
      "metadata": {
        "id": "3781befd-4876-44fb-be73-3a82437eac37",
        "colab": {
          "base_uri": "https://localhost:8080/"
        },
        "outputId": "2ff6d568-7c98-4a9b-a0ab-38c9f18bcb47"
      },
      "outputs": [
        {
          "output_type": "stream",
          "name": "stdout",
          "text": [
            "regex = r\"a\"\n",
            "aaaaaaaab: True\n",
            "aabbbb: True\n",
            "aaaaaaaaaa: True\n",
            "abbbbb: True\n",
            "bbbbb: False\n"
          ]
        }
      ],
      "source": [
        "print('regex = r\"' + regex + '\"')\n",
        "match(regex, \"aaaaaaaab\")\n",
        "match(regex, \"aabbbb\")\n",
        "match(regex, \"aaaaaaaaaa\")\n",
        "match(regex, \"abbbbb\")\n",
        "match(regex, \"bbbbb\") # Don't match this one!"
      ]
    },
    {
      "cell_type": "markdown",
      "id": "bed38994-a604-4528-bcb3-0302ca7c9e70",
      "metadata": {
        "id": "bed38994-a604-4528-bcb3-0302ca7c9e70"
      },
      "source": [
        "##### Part K."
      ]
    },
    {
      "cell_type": "code",
      "execution_count": null,
      "id": "00f54e8a-d682-4b61-b7da-2e9d1a17c61e",
      "metadata": {
        "id": "00f54e8a-d682-4b61-b7da-2e9d1a17c61e"
      },
      "outputs": [],
      "source": [
        "regex = r\"\\w\\d\""
      ]
    },
    {
      "cell_type": "code",
      "execution_count": null,
      "id": "5a40aa78-6d47-47d4-8f94-54aa5128d83d",
      "metadata": {
        "id": "5a40aa78-6d47-47d4-8f94-54aa5128d83d",
        "colab": {
          "base_uri": "https://localhost:8080/"
        },
        "outputId": "1574374e-c9e6-402f-c051-3fb71e4df294"
      },
      "outputs": [
        {
          "output_type": "stream",
          "name": "stdout",
          "text": [
            "regex = r\"\\w\\d\"\n",
            "A2: True\n",
            "C7: True\n",
            "d9: True\n",
            "q27: True\n",
            "7a: False\n",
            "a 3: False\n"
          ]
        }
      ],
      "source": [
        "print('regex = r\"' + regex + '\"')\n",
        "match(regex, \"A2\")\n",
        "match(regex, \"C7\")\n",
        "match(regex, \"d9\")\n",
        "match(regex, \"q27\")\n",
        "match(regex, \"7a\") # Don't match this one!\n",
        "match(regex, \"a 3\") # Don't match this one!"
      ]
    },
    {
      "cell_type": "markdown",
      "id": "3a5ade27-32f4-439f-8ee3-8e07d8f711ae",
      "metadata": {
        "id": "3a5ade27-32f4-439f-8ee3-8e07d8f711ae"
      },
      "source": [
        "##### Part L. Course Rubrics.\n",
        "\n",
        "Make a regular expression that matches any legal Binghamton course number. These are between 2 and 4 letters, a space, and a 3-digit number."
      ]
    },
    {
      "cell_type": "code",
      "execution_count": null,
      "id": "d43c61e4-1b09-45b7-b791-2604ce344ee6",
      "metadata": {
        "id": "d43c61e4-1b09-45b7-b791-2604ce344ee6"
      },
      "outputs": [],
      "source": [
        "regex = r\"\\d\\d\\d\""
      ]
    },
    {
      "cell_type": "code",
      "execution_count": null,
      "id": "b84cfc56-a844-4a3d-b94d-37d22de55812",
      "metadata": {
        "id": "b84cfc56-a844-4a3d-b94d-37d22de55812",
        "colab": {
          "base_uri": "https://localhost:8080/"
        },
        "outputId": "84953927-0eca-4717-8373-b8301fe8018b"
      },
      "outputs": [
        {
          "output_type": "stream",
          "name": "stdout",
          "text": [
            "regex = r\"..|....\"\n",
            "HARP 210: True\n",
            "MATH 147: True\n",
            "HARP 325: True\n",
            "ANTH 200: True\n",
            "CS 140: True\n",
            "ABCDE 10: True\n"
          ]
        }
      ],
      "source": [
        "print('regex = r\"' + regex + '\"')\n",
        "match(regex, \"HARP 210\")\n",
        "match(regex, \"MATH 147\")\n",
        "match(regex, \"HARP 325\")\n",
        "match(regex, \"ANTH 200\")\n",
        "match(regex, \"CS 140\")\n",
        "match(regex, \"ABCDE 10\") # Don't match this one!"
      ]
    },
    {
      "cell_type": "markdown",
      "id": "3a3d62e8-5d95-4e4e-86a0-d899cefbc73d",
      "metadata": {
        "id": "3a3d62e8-5d95-4e4e-86a0-d899cefbc73d"
      },
      "source": [
        "Predict: will your regex match the text below?"
      ]
    },
    {
      "cell_type": "code",
      "execution_count": null,
      "id": "d8e35ae4-eac7-47ba-b35f-7efaf822531e",
      "metadata": {
        "id": "d8e35ae4-eac7-47ba-b35f-7efaf822531e",
        "colab": {
          "base_uri": "https://localhost:8080/"
        },
        "outputId": "e11d8450-4fd2-475e-eaba-dda695420666"
      },
      "outputs": [
        {
          "output_type": "stream",
          "name": "stdout",
          "text": [
            "M4TH 147: True\n"
          ]
        }
      ],
      "source": [
        "match(regex, \"M4TH 147\")# true"
      ]
    },
    {
      "cell_type": "markdown",
      "source": [
        "##### Part M.\n",
        "\n",
        "I want to match any string that contains the letters A, B, and C, in that order, ignoring case and letters in between. See the examples:"
      ],
      "metadata": {
        "id": "8yJrKnexYbtL"
      },
      "id": "8yJrKnexYbtL"
    },
    {
      "cell_type": "code",
      "source": [
        "regex = r\"abc|\\s\""
      ],
      "metadata": {
        "id": "UAph61aLlDNX"
      },
      "id": "UAph61aLlDNX",
      "execution_count": null,
      "outputs": []
    },
    {
      "cell_type": "code",
      "source": [
        "print('regex = r\"' + regex + '\"')\n",
        "match(regex, \"abc\")\n",
        "match(regex, \"AlaBaster Castle\")\n",
        "match(regex, \"A b c D e f G\")\n",
        "match(regex, \"CAndleaBra\") # Don't match this one!"
      ],
      "metadata": {
        "id": "_zN7JJ4fYlki",
        "colab": {
          "base_uri": "https://localhost:8080/"
        },
        "outputId": "f635eb0a-04bc-43ef-f3df-bae5d58d29dc"
      },
      "id": "_zN7JJ4fYlki",
      "execution_count": null,
      "outputs": [
        {
          "output_type": "stream",
          "name": "stdout",
          "text": [
            "regex = r\"abc|\\s\"\n",
            "abc: True\n",
            "AlaBaster Castle: True\n",
            "A b c D e f G: True\n",
            "CAndleaBra: False\n"
          ]
        }
      ]
    },
    {
      "cell_type": "markdown",
      "id": "1a241785-4fd5-42b1-a9a7-cf5186987ac8",
      "metadata": {
        "id": "1a241785-4fd5-42b1-a9a7-cf5186987ac8"
      },
      "source": [
        "##### Part N."
      ]
    },
    {
      "cell_type": "code",
      "execution_count": null,
      "id": "2db8d61e-2e99-41c4-bfab-ab598fb18eee",
      "metadata": {
        "id": "2db8d61e-2e99-41c4-bfab-ab598fb18eee"
      },
      "outputs": [],
      "source": [
        "regex = \"S.+S\""
      ]
    },
    {
      "cell_type": "code",
      "execution_count": null,
      "id": "e1a2b312-cd56-48a2-9ded-b2bd31aaf160",
      "metadata": {
        "id": "e1a2b312-cd56-48a2-9ded-b2bd31aaf160",
        "colab": {
          "base_uri": "https://localhost:8080/"
        },
        "outputId": "757dbb88-5b3b-495f-8fd1-83a2513ea89e"
      },
      "outputs": [
        {
          "output_type": "stream",
          "name": "stdout",
          "text": [
            "regex = r\"S.+S\"\n",
            "SOS: True\n",
            "S fhsdfhsmnvs S: True\n",
            "SfdfS: True\n",
            "SS: False\n"
          ]
        }
      ],
      "source": [
        "print('regex = r\"' + regex + '\"')\n",
        "match(regex, \"SOS\")\n",
        "match(regex, \"S fhsdfhsmnvs S\")\n",
        "match(regex, \"SfdfS\")\n",
        "match(regex, \"SS\") # Don't match this one!"
      ]
    },
    {
      "cell_type": "markdown",
      "id": "9484af47-16a2-4e77-a4d4-320521435a5f",
      "metadata": {
        "id": "9484af47-16a2-4e77-a4d4-320521435a5f"
      },
      "source": [
        "##### Part O. Email Addresses\n",
        "\n",
        "The goal of this exercise is to match any string that contains a *valid email address*. Try and match the examples below, but not the user handle or the URL, both of which contain similar patterns."
      ]
    },
    {
      "cell_type": "code",
      "execution_count": null,
      "id": "262237d0-8bd6-4ae9-8ba5-609d077bf74b",
      "metadata": {
        "id": "262237d0-8bd6-4ae9-8ba5-609d077bf74b"
      },
      "outputs": [],
      "source": [
        "regex = r\"\\w+@\\w+\\.\\w+\""
      ]
    },
    {
      "cell_type": "code",
      "execution_count": null,
      "id": "0f35daab-99b5-4955-9cec-6266d590897e",
      "metadata": {
        "id": "0f35daab-99b5-4955-9cec-6266d590897e",
        "colab": {
          "base_uri": "https://localhost:8080/"
        },
        "outputId": "720d2df7-990b-4e4f-edd1-2d9386d5b927"
      },
      "outputs": [
        {
          "output_type": "stream",
          "name": "stdout",
          "text": [
            "regex = r\"\\w+@\\w+\\.\\w+\"\n",
            "frances3@binghamton.edu: True\n",
            "mike.chang@gmail.com: True\n",
            "george_sanders@cambridge.co.uk: True\n",
            "Please forward email to empire1@hotmail.com: True\n",
            "Follow me on Instagram @kitchen.xyz: False\n",
            "http://www.binghamton.edu/: False\n"
          ]
        }
      ],
      "source": [
        "print('regex = r\"' + regex + '\"')\n",
        "match(regex, \"frances3@binghamton.edu\")\n",
        "match(regex, \"mike.chang@gmail.com\")\n",
        "match(regex, \"george_sanders@cambridge.co.uk\")\n",
        "match(regex, \"Please forward email to empire1@hotmail.com\")\n",
        "match(regex, \"Follow me on Instagram @kitchen.xyz\") # Don't match this one!\n",
        "match(regex, \"http://www.binghamton.edu/\") # Don't match this one!"
      ]
    },
    {
      "cell_type": "markdown",
      "id": "58ee0eb8-a530-4b8f-8b86-91e924e51108",
      "metadata": {
        "id": "58ee0eb8-a530-4b8f-8b86-91e924e51108"
      },
      "source": [
        "##### Part P. Phone Numbers\n",
        "\n",
        "Another useful application: does this string contain a phone number? For simplicity, assume all phone numbers contain 10 digits, grouped into sets of 3, 3, and 4."
      ]
    },
    {
      "cell_type": "code",
      "execution_count": null,
      "id": "a2280730-3af0-4bb6-8682-e53db280d161",
      "metadata": {
        "id": "a2280730-3af0-4bb6-8682-e53db280d161"
      },
      "outputs": [],
      "source": [
        "regex = r\"\\d\\d\\d.*\\d\\d.*\\d\\d\\d\\d.*\""
      ]
    },
    {
      "cell_type": "code",
      "execution_count": null,
      "id": "ae780930-6620-4263-85d4-8da6a694e4b9",
      "metadata": {
        "id": "ae780930-6620-4263-85d4-8da6a694e4b9",
        "colab": {
          "base_uri": "https://localhost:8080/"
        },
        "outputId": "19de293a-0f34-4b4c-9386-f91c9a0d2c88"
      },
      "outputs": [
        {
          "output_type": "stream",
          "name": "stdout",
          "text": [
            "regex = r\"\\d\\d\\d.*\\d\\d.*\\d\\d\\d\\d.*\"\n",
            "555-217-3242: True\n",
            "5557621430: True\n",
            "555 213 4217: True\n",
            "(555)213-4217: True\n",
            "555-21-3333: True\n",
            "55-321-333: False\n"
          ]
        }
      ],
      "source": [
        "print('regex = r\"' + regex + '\"')\n",
        "match(regex, \"555-217-3242\")\n",
        "match(regex, \"5557621430\")\n",
        "match(regex, \"555 213 4217\")\n",
        "match(regex, \"(555)213-4217\")\n",
        "match(regex, \"555-21-3333\") # Don't match this one!\n",
        "match(regex, \"55-321-333\") # Don't match this one!"
      ]
    },
    {
      "cell_type": "markdown",
      "id": "f2cdf14b-142b-4e07-b55f-232a162bd133",
      "metadata": {
        "id": "f2cdf14b-142b-4e07-b55f-232a162bd133"
      },
      "source": [
        "### Anchors\n",
        "\n",
        "This final set of questions includes the anchor characters `^`, `$`, and `\\b`."
      ]
    },
    {
      "cell_type": "markdown",
      "id": "050f1853-576f-432e-a558-4a2746948184",
      "metadata": {
        "id": "050f1853-576f-432e-a558-4a2746948184"
      },
      "source": [
        "##### Part Q.\n",
        "Write a regular expression that matches any string that starts with an uppercase letter."
      ]
    },
    {
      "cell_type": "code",
      "execution_count": null,
      "id": "1895aab3-4452-46ee-be88-f260537ac002",
      "metadata": {
        "id": "1895aab3-4452-46ee-be88-f260537ac002"
      },
      "outputs": [],
      "source": [
        "regex = r\"[A-Z]\""
      ]
    },
    {
      "cell_type": "code",
      "execution_count": null,
      "id": "63ed7a3b-eb27-488e-91f7-a28ae0e2392d",
      "metadata": {
        "id": "63ed7a3b-eb27-488e-91f7-a28ae0e2392d",
        "colab": {
          "base_uri": "https://localhost:8080/"
        },
        "outputId": "84f83924-9be9-4e8e-e587-6cebc752051b"
      },
      "outputs": [
        {
          "output_type": "stream",
          "name": "stdout",
          "text": [
            "regex = r\"[A-Z]\"\n",
            "Green Eggs and Ham: True\n",
            "AWESOME: True\n",
            "555: False\n",
            "green eggs: False\n"
          ]
        }
      ],
      "source": [
        "print('regex = r\"' + regex + '\"')\n",
        "match(regex, \"Green Eggs and Ham\")\n",
        "match(regex, \"AWESOME\")\n",
        "match(regex, \"555\") # Don't match this one!\n",
        "match(regex, \"green eggs\") # Don't match this one!"
      ]
    },
    {
      "cell_type": "markdown",
      "id": "24f4f3aa-c355-4e6c-ba7a-5dc86c9bc964",
      "metadata": {
        "id": "24f4f3aa-c355-4e6c-ba7a-5dc86c9bc964"
      },
      "source": [
        "##### Part R. Email Addresses\n",
        "\n",
        "Modify your email address regex so that the *entire string* must be a single, valid email address."
      ]
    },
    {
      "cell_type": "code",
      "execution_count": null,
      "id": "b525f55a-0609-4ed9-b8b0-e380efeca3b0",
      "metadata": {
        "id": "b525f55a-0609-4ed9-b8b0-e380efeca3b0"
      },
      "outputs": [],
      "source": [
        "regex = r\"^\\S*@\\S+\\.\\S+$\"\n"
      ]
    },
    {
      "cell_type": "code",
      "execution_count": null,
      "id": "0301a23c-1405-451e-8c3f-222273221139",
      "metadata": {
        "id": "0301a23c-1405-451e-8c3f-222273221139",
        "colab": {
          "base_uri": "https://localhost:8080/"
        },
        "outputId": "5dca3f30-ebe1-4741-95b8-6dc15cef3c4d"
      },
      "outputs": [
        {
          "output_type": "stream",
          "name": "stdout",
          "text": [
            "regex = r\"^\\S*@\\S+\\.\\S+$\"\n",
            "frances3@binghamton.edu: True\n",
            "mike.chang@gmail.com is my address: False\n",
            "george_sanders@cambridge.co.uk: True\n",
            "Please forward email to empire1@hotmail.com: False\n",
            "Follow me on Instagram @kitchen.xyz: False\n",
            "http://www.binghamton.edu/: False\n"
          ]
        }
      ],
      "source": [
        "print('regex = r\"' + regex + '\"')\n",
        "match(regex, \"frances3@binghamton.edu\")\n",
        "match(regex, \"mike.chang@gmail.com is my address\") # Don't match this one!\n",
        "match(regex, \"george_sanders@cambridge.co.uk\")\n",
        "match(regex, \"Please forward email to empire1@hotmail.com\") # Don't match this one!\n",
        "match(regex, \"Follow me on Instagram @kitchen.xyz\") # Don't match this one!\n",
        "match(regex, \"http://www.binghamton.edu/\") # Don't match this one!"
      ]
    },
    {
      "cell_type": "markdown",
      "id": "71dee61e-557a-431e-a620-4a1c07eab388",
      "metadata": {
        "id": "71dee61e-557a-431e-a620-4a1c07eab388"
      },
      "source": [
        "##### Part S.\n",
        "\n",
        "Match any string which starts with an open parenthesis, *(*, and ends with a closing parenhesis, *)*."
      ]
    },
    {
      "cell_type": "code",
      "execution_count": null,
      "id": "be7ec6c3-7a1e-4b66-854a-2fe03fe655df",
      "metadata": {
        "id": "be7ec6c3-7a1e-4b66-854a-2fe03fe655df"
      },
      "outputs": [],
      "source": [
        "regex = r\"^\\(.*\\)\""
      ]
    },
    {
      "cell_type": "code",
      "execution_count": null,
      "id": "83510cbc-f07a-459d-95ee-49c61dc4b9a0",
      "metadata": {
        "id": "83510cbc-f07a-459d-95ee-49c61dc4b9a0",
        "colab": {
          "base_uri": "https://localhost:8080/"
        },
        "outputId": "945d6013-b7d2-4955-ea69-194d6615b65e"
      },
      "outputs": [
        {
          "output_type": "stream",
          "name": "stdout",
          "text": [
            "regex = r\"^\\(.*\\)\"\n",
            "(yes): True\n",
            "(): True\n",
            "((((): True\n",
            "Yes (that is correct): False\n",
            ")(: False\n"
          ]
        }
      ],
      "source": [
        "print('regex = r\"' + regex + '\"')\n",
        "match(regex, \"(yes)\")\n",
        "match(regex, \"()\")\n",
        "match(regex, \"(((()\")\n",
        "match(regex, \"Yes (that is correct)\") # Don't match this one!\n",
        "match(regex, \")(\") # Don't match this one!"
      ]
    },
    {
      "cell_type": "markdown",
      "source": [
        "##### Part T.\n",
        "\n",
        "Match any string which contains a word beginning with the prefix anti-."
      ],
      "metadata": {
        "id": "xLeAoCB9ZCzr"
      },
      "id": "xLeAoCB9ZCzr"
    },
    {
      "cell_type": "code",
      "source": [
        "regex = r\"\\b[Aa][Nn][Tt][Ii]\""
      ],
      "metadata": {
        "id": "7Hy0gJO5ZZLx"
      },
      "id": "7Hy0gJO5ZZLx",
      "execution_count": null,
      "outputs": []
    },
    {
      "cell_type": "code",
      "source": [
        "print('regex = r\"' + regex + '\"')\n",
        "match(regex, \"ANTIproton\")\n",
        "match(regex, \"Antinomian Heresiarch\")\n",
        "match(regex, \"The element antimony is atomic number 51.\")\n",
        "match(regex, \"Yes I am grANTIng you permission\") # Don't match this one!\n",
        "match(regex, \"Enchanting mercantile quarantine chianti\") # Don't match this one!"
      ],
      "metadata": {
        "id": "0TAE7opNZew4",
        "colab": {
          "base_uri": "https://localhost:8080/"
        },
        "outputId": "18469448-f145-45b4-e041-9dc43f7b8dfc"
      },
      "id": "0TAE7opNZew4",
      "execution_count": null,
      "outputs": [
        {
          "output_type": "stream",
          "name": "stdout",
          "text": [
            "regex = r\"\\b[Aa][Nn][Tt][Ii]\"\n",
            "ANTIproton: True\n",
            "Antinomian Heresiarch: True\n",
            "The element antimony is atomic number 51.: True\n",
            "Yes I am grANTIng you permission: False\n",
            "Enchanting mercantile quarantine chianti: False\n"
          ]
        }
      ]
    },
    {
      "cell_type": "markdown",
      "id": "8806a35c-17d7-469c-b727-d12a8cd0220e",
      "metadata": {
        "id": "8806a35c-17d7-469c-b727-d12a8cd0220e"
      },
      "source": [
        "___\n",
        "\n",
        "## 6.2: Extracting from Strings\n",
        "\n",
        "##### Part A. Extracting Email Addresses\n",
        "\n",
        "Modify your email address regex, then use `re.findall()` to get a list of all the email addresses in the string below."
      ]
    },
    {
      "cell_type": "code",
      "execution_count": null,
      "id": "e307cfd5-3f85-493c-aea0-09fae064556d",
      "metadata": {
        "id": "e307cfd5-3f85-493c-aea0-09fae064556d"
      },
      "outputs": [],
      "source": [
        "regex = r\"(\\b(.+@.+\\..+\\b))\""
      ]
    },
    {
      "cell_type": "code",
      "execution_count": null,
      "id": "cb2e4ca0-1ed1-4208-8678-c63ff60e732b",
      "metadata": {
        "id": "cb2e4ca0-1ed1-4208-8678-c63ff60e732b",
        "colab": {
          "base_uri": "https://localhost:8080/"
        },
        "outputId": "ad3198b1-0529-4904-845e-8aa1cb55a825"
      },
      "outputs": [
        {
          "output_type": "execute_result",
          "data": {
            "text/plain": [
              "[('You can contact me at dfaisel@binghamton.edu, or at my personal email account',\n",
              "  'You can contact me at dfaisel@binghamton.edu, or at my personal email account'),\n",
              " ('daltonfaisel@hotmail.co.uk. The other faculty in my department are',\n",
              "  'daltonfaisel@hotmail.co.uk. The other faculty in my department are'),\n",
              " ('Jason Sandoval (jsandoval@binghamton.edu',\n",
              "  'Jason Sandoval (jsandoval@binghamton.edu'),\n",
              " ('Elyse Spiegel (elyse@math.binghamton.edu',\n",
              "  'Elyse Spiegel (elyse@math.binghamton.edu'),\n",
              " ('Gong Yoo (gyoo@mail.naver.com', 'Gong Yoo (gyoo@mail.naver.com')]"
            ]
          },
          "metadata": {},
          "execution_count": 125
        }
      ],
      "source": [
        "re.findall(regex, \"\"\"\n",
        "You can contact me at dfaisel@binghamton.edu, or at my personal email account\n",
        "daltonfaisel@hotmail.co.uk. The other faculty in my department are:\n",
        "- Jason Sandoval (jsandoval@binghamton.edu)\n",
        "- Elyse Spiegel (elyse@math.binghamton.edu)\n",
        "- Gong Yoo (gyoo@mail.naver.com)\n",
        "\"\"\")"
      ]
    },
    {
      "cell_type": "markdown",
      "id": "ae2f96d5-5b99-47a6-9f21-7c35de092d12",
      "metadata": {
        "id": "ae2f96d5-5b99-47a6-9f21-7c35de092d12"
      },
      "source": [
        "##### Part B. Capitalized Text\n",
        "\n",
        "Write a regular expression to extract all words that are written IN ALL CAPITAL LETTERS."
      ]
    },
    {
      "cell_type": "code",
      "execution_count": null,
      "id": "1679e84f-cb64-4e0d-b1ea-def5d111c02a",
      "metadata": {
        "id": "1679e84f-cb64-4e0d-b1ea-def5d111c02a"
      },
      "outputs": [],
      "source": [
        "regex = r\"\""
      ]
    },
    {
      "cell_type": "code",
      "execution_count": null,
      "id": "7454b7cb-0aec-4b0b-af9e-5d2f377232b2",
      "metadata": {
        "id": "7454b7cb-0aec-4b0b-af9e-5d2f377232b2"
      },
      "outputs": [],
      "source": [
        "re.findall(regex, \"\"\"\n",
        "TO WHOM IT MAY CONCERN,\n",
        "\n",
        "My friend and myself recently purchased sandwiches from your shop and we were\n",
        "DISGUSTED to find that it was COVERED IN MOLD. We DEMAND that you return\n",
        "our money immediately.\n",
        "\n",
        "Sincerely,\n",
        "Two very ANGRY customers.\n",
        "\"\"\")"
      ]
    },
    {
      "cell_type": "markdown",
      "id": "a282ed0d-dadd-457e-9ebe-310b2aebba06",
      "metadata": {
        "id": "a282ed0d-dadd-457e-9ebe-310b2aebba06"
      },
      "source": [
        "##### Part C. Sentence Tokenizer\n",
        "Write a regular expression to tokenize a string, splitting it into its individual words. These shouldn't be too bad, but the *last one* is quite a challenge to tokenize properly! It requires the use of a [non-capturing group](https://www.pythontutorial.net/python-regex/python-regex-non-capturing-group/) to do perfectly, as far as I can tell. But you can do okay without it."
      ]
    },
    {
      "cell_type": "code",
      "execution_count": null,
      "id": "b44b5f38-41fd-4c51-b343-fa1057014ba0",
      "metadata": {
        "id": "b44b5f38-41fd-4c51-b343-fa1057014ba0"
      },
      "outputs": [],
      "source": [
        "regex = r\"\""
      ]
    },
    {
      "cell_type": "code",
      "execution_count": null,
      "id": "1e0cf43c-198f-4e64-bdbb-b67eed788385",
      "metadata": {
        "id": "1e0cf43c-198f-4e64-bdbb-b67eed788385"
      },
      "outputs": [],
      "source": [
        "re.findall(regex,\"The rain in Spain stays mainly in the plains.\")"
      ]
    },
    {
      "cell_type": "code",
      "execution_count": null,
      "id": "d4aba781-c8fd-4d83-ac86-528f262f5adf",
      "metadata": {
        "id": "d4aba781-c8fd-4d83-ac86-528f262f5adf"
      },
      "outputs": [],
      "source": [
        "re.findall(regex,\"What? Haven't you been to New York?\")"
      ]
    },
    {
      "cell_type": "code",
      "execution_count": null,
      "id": "9f716fde-4440-424c-bb15-16ed50bd7077",
      "metadata": {
        "id": "9f716fde-4440-424c-bb15-16ed50bd7077"
      },
      "outputs": [],
      "source": [
        "re.findall(regex,\"No, I'dn't've thought of that!\")"
      ]
    },
    {
      "cell_type": "code",
      "execution_count": null,
      "id": "3cbcdbb1-9f62-48fb-b9fb-bd9a33c6043c",
      "metadata": {
        "id": "3cbcdbb1-9f62-48fb-b9fb-bd9a33c6043c"
      },
      "outputs": [],
      "source": [
        "re.findall(regex,\"Say 'I'd love to have dinner' if she asks.\")"
      ]
    },
    {
      "cell_type": "markdown",
      "id": "69c1f7fd-1877-47e1-965d-571100ac73c9",
      "metadata": {
        "id": "69c1f7fd-1877-47e1-965d-571100ac73c9"
      },
      "source": [
        "##### Part D. Footnotes\n",
        "\n",
        "You're working as part of a team making a program which converts plaintext research papers into pdf using a scripting language, like $\\LaTeX$. The way the software works, footnotes are written {enclosed in curly braces} right where the footnote mark$^1$ should be. Write a regex to extract all of the footnotes, but don't include the curly braces themselves.\n",
        "\n",
        "$^1$ Like this. Here is the source of [this text](https://arxiv.org/abs/2211.00651)."
      ]
    },
    {
      "cell_type": "code",
      "execution_count": null,
      "id": "cc352074-9cb1-4af7-aaaf-793a678df1c2",
      "metadata": {
        "id": "cc352074-9cb1-4af7-aaaf-793a678df1c2"
      },
      "outputs": [],
      "source": [
        "regex = r\"\""
      ]
    },
    {
      "cell_type": "code",
      "execution_count": null,
      "id": "0048744d-5a6c-46e7-bff5-eb1d61500057",
      "metadata": {
        "id": "0048744d-5a6c-46e7-bff5-eb1d61500057"
      },
      "outputs": [],
      "source": [
        "re.findall(\"\"\"\n",
        "We present Hubble Space Telescope{Yes, Hubble's still up there} imaging of\n",
        "14 gas-rich, low surface brightness and ultra-diffuse galaxies (UDGs)\n",
        "{galaxies contain billions of stars and lots of dark matter} in the field\n",
        "{not in clusters} at distances of 25-36 Mpc.{surprisingly close} An inspection\n",
        "of point-like sources {we don't know what they are} brighter than the turnover\n",
        "magnitude of the globular cluster luminosity function {the what?} and within\n",
        "twice the half-light radii of each galaxy reveals that...\n",
        "\"\"\")"
      ]
    }
  ],
  "metadata": {
    "kernelspec": {
      "display_name": "Python 3 (ipykernel)",
      "language": "python",
      "name": "python3"
    },
    "language_info": {
      "codemirror_mode": {
        "name": "ipython",
        "version": 3
      },
      "file_extension": ".py",
      "mimetype": "text/x-python",
      "name": "python",
      "nbconvert_exporter": "python",
      "pygments_lexer": "ipython3",
      "version": "3.9.12"
    },
    "colab": {
      "provenance": []
    }
  },
  "nbformat": 4,
  "nbformat_minor": 5
}