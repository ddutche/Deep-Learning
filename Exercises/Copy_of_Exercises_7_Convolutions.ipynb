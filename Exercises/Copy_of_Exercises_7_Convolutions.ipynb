{
  "nbformat": 4,
  "nbformat_minor": 0,
  "metadata": {
    "colab": {
      "provenance": []
    },
    "kernelspec": {
      "name": "python3",
      "display_name": "Python 3"
    },
    "language_info": {
      "name": "python"
    }
  },
  "cells": [
    {
      "cell_type": "markdown",
      "source": [
        "# Exercises: Convolutions\n",
        "\n",
        "## Problems\n",
        "\n",
        "1. Designing Convolutions\n",
        "2. MNIST Fashion"
      ],
      "metadata": {
        "id": "FDNV9PZIS5I9"
      }
    },
    {
      "cell_type": "code",
      "source": [
        "from fastai.vision.all import *\n",
        "from scipy.signal import convolve2d\n",
        "import numpy as np\n",
        "from PIL import Image as im\n",
        "\n",
        "# Adapted from https://stackoverflow.com/questions/56099069/rgb-image-convolution-from-scipy\n",
        "def color_conv(image, filter):\n",
        "    imdat = np.array(image, dtype=float)\n",
        "\n",
        "    for i in range(3):\n",
        "        imdat[:, :, i] = convolve2d(imdat[:, :, i], filter[i], mode='same')#, boundary='symm')\n",
        "        imdat[:, :, i] = imdat[:, :, i]-np.min(imdat[:, :, i])\n",
        "        if np.max(imdat[:,:,i]) != 0:\n",
        "            imdat[:, :, i] = imdat[:, :, i]*255/np.max(imdat[:, :, i])\n",
        "\n",
        "    imdat = imdat.astype(dtype=\"uint8\")\n",
        "\n",
        "    return Image.fromarray(imdat)"
      ],
      "metadata": {
        "id": "ezPILyqATI1u"
      },
      "execution_count": null,
      "outputs": []
    },
    {
      "cell_type": "markdown",
      "source": [
        "## Designing Convolutions\n",
        "\n",
        "Below is some starter code which:\n",
        "* Downloads a PNG file\n",
        "* Imports and then displays it\n",
        "* Defines a filter to convolve the image with\n",
        "* Performs the convolution and displays the result\n",
        "\n",
        "**First:** What does the filter I've provided you with do? Explain how the numbers map to what you're seeing.\n",
        "\n",
        "This is a 2D image, so adding a filter means changing numebrs across both the X and Y axis. Right now what we're doing is creating new RGB values and changing the value to a -1 in ONLY THE RED FILTER changes the red values in all the pixels. What this does is it takes the red parts of an image, and changes the edge of a red object to be the same color as the center and takes the center of a red object and makes it be the same color as the edge.\n",
        "\n",
        "**Then:** Design some new filters. Save each in a variable.\n",
        "1. Remove the blue from the image.\n",
        "2. Translate the image one pixel to the left.\n",
        "2. Move the red layer left 1 pixel and the blue layer right 1 pixel.\n",
        "2. Blur the image.\n",
        "3. Find any vertical edge.\n",
        "2. Find vertical edges which are green.\n",
        "4. Find horizontal edges in which there is a color gradient.\n",
        "\n",
        "**Finally:** Upload your own image to Colab and test your filters out."
      ],
      "metadata": {
        "id": "oXDHwGMqWDNs"
      }
    },
    {
      "cell_type": "code",
      "source": [
        "!wget https://mario.wiki.gallery/images/1/12/Piranha-Plant.png\n",
        "!wget https://media.timeout.com/images/105636969/1920/1080/image.jpg"
      ],
      "metadata": {
        "colab": {
          "base_uri": "https://localhost:8080/"
        },
        "id": "36z31_xzUJfE",
        "outputId": "d87a2740-7a49-427d-aa27-dc6568aa1d10"
      },
      "execution_count": null,
      "outputs": [
        {
          "output_type": "stream",
          "name": "stdout",
          "text": [
            "--2024-11-04 14:21:29--  https://mario.wiki.gallery/images/1/12/Piranha-Plant.png\n",
            "Resolving mario.wiki.gallery (mario.wiki.gallery)... 104.26.14.185, 104.26.15.185, 172.67.69.125, ...\n",
            "Connecting to mario.wiki.gallery (mario.wiki.gallery)|104.26.14.185|:443... connected.\n",
            "HTTP request sent, awaiting response... 200 OK\n",
            "Length: 1381 (1.3K) [image/png]\n",
            "Saving to: ‘Piranha-Plant.png.1’\n",
            "\n",
            "Piranha-Plant.png.1 100%[===================>]   1.35K  --.-KB/s    in 0s      \n",
            "\n",
            "2024-11-04 14:21:29 (21.3 MB/s) - ‘Piranha-Plant.png.1’ saved [1381/1381]\n",
            "\n",
            "--2024-11-04 14:21:29--  https://media.timeout.com/images/105636969/1920/1080/image.jpg\n",
            "Resolving media.timeout.com (media.timeout.com)... 13.35.166.48, 13.35.166.101, 13.35.166.10, ...\n",
            "Connecting to media.timeout.com (media.timeout.com)|13.35.166.48|:443... connected.\n",
            "HTTP request sent, awaiting response... 200 OK\n",
            "Length: 158794 (155K) [image/jpeg]\n",
            "Saving to: ‘image.jpg.1’\n",
            "\n",
            "image.jpg.1         100%[===================>] 155.07K  --.-KB/s    in 0.01s   \n",
            "\n",
            "2024-11-04 14:21:29 (15.2 MB/s) - ‘image.jpg.1’ saved [158794/158794]\n",
            "\n"
          ]
        }
      ]
    },
    {
      "cell_type": "code",
      "source": [
        "image = Image.open('Piranha-Plant.png').convert('RGB')\n",
        "image"
      ],
      "metadata": {
        "colab": {
          "base_uri": "https://localhost:8080/",
          "height": 241
        },
        "id": "PaI9mL1hZ_Yr",
        "outputId": "706df50e-60b6-44e9-f664-652dd0762d13"
      },
      "execution_count": null,
      "outputs": [
        {
          "output_type": "execute_result",
          "data": {
            "text/plain": [
              "<PIL.Image.Image image mode=RGB size=256x224>"
            ],
            "image/png": "[encoded data removed]",
            "image/jpeg": "[encoded data removed]"
          },
          "metadata": {},
          "execution_count": 74
        }
      ]
    },
    {
      "cell_type": "code",
      "source": [
        "#1\n",
        "R = np.array([[0., 0., 0.],\n",
        "              [0., 1., 0.],\n",
        "              [0., 0., 0.]])\n",
        "\n",
        "G = np.array([[0., 0., 0.],\n",
        "              [0., 1., 0.],\n",
        "              [0., 0., 0.]])\n",
        "\n",
        "B = np.array([[0., 0., 0.],\n",
        "              [0., 0., 0.],\n",
        "              [0., 0., 0.]])\n",
        "\n",
        "color_filter = np.stack([R, G, B])"
      ],
      "metadata": {
        "id": "f52W_iqBhHpl"
      },
      "execution_count": null,
      "outputs": []
    },
    {
      "cell_type": "code",
      "source": [
        "#2\n",
        "R = np.array([[0., 0., 0.],\n",
        "              [-1., 0., 0.],\n",
        "              [0., 0., 0.]])\n",
        "\n",
        "G = np.array([[0., 0., 0.],\n",
        "              [1., 0., 0.],\n",
        "              [0., 0., 0.]])\n",
        "\n",
        "B = np.array([[0., 0., 0.],\n",
        "              [1., 0., 0.],\n",
        "              [0., 0., 0.]])\n",
        "\n",
        "color_filter = np.stack([R, G, B])"
      ],
      "metadata": {
        "id": "SStsyNI0UdXZ"
      },
      "execution_count": null,
      "outputs": []
    },
    {
      "cell_type": "code",
      "source": [
        "#3\n",
        "R = np.array([[0., 0., 0.],\n",
        "              [1., 0., 0.],\n",
        "              [0., 0., 0.]])\n",
        "\n",
        "G = np.array([[0., 0., 0.],\n",
        "              [0., 1., 0.],\n",
        "              [0., 0., 0.]])\n",
        "\n",
        "B = np.array([[0., 0., 0.],\n",
        "              [0., 0., 0.],\n",
        "              [0., 0., 0.]])\n",
        "\n",
        "color_filter = np.stack([R, G, B])"
      ],
      "metadata": {
        "id": "JaaglAhrhTdb"
      },
      "execution_count": null,
      "outputs": []
    },
    {
      "cell_type": "code",
      "source": [
        "#4\n",
        "R = np.array([[0.111, 0.111, 0.111],\n",
        "                 [0.111, 0.111, 0.111],\n",
        "                 [0.111, 0.111, 0.111]])\n",
        "\n",
        "G = np.array([[0.111, 0.111, 0.111],\n",
        "                 [0.111, 0.111, 0.111],\n",
        "                 [0.111, 0.111, 0.111]])\n",
        "\n",
        "B = np.array([[0.111, 0.111, 0.111],\n",
        "                 [0.111, 0.111, 0.111],\n",
        "                 [0.111, 0.111, 0.111]])\n",
        "\n",
        "color_filter = np.stack([R, G, B])"
      ],
      "metadata": {
        "id": "oItWC3uAhkYM"
      },
      "execution_count": null,
      "outputs": []
    },
    {
      "cell_type": "code",
      "source": [
        "#5\n",
        "R = np.array([[-1, 1.0, 0],\n",
        "                 [-1, 1.0, 0],\n",
        "                 [-1, 1.0, 0]])\n",
        "\n",
        "G = np.array([[-1, 1.0, 0],\n",
        "                 [-1, 1.0, 0],\n",
        "                 [-1, 1.0, 0]])\n",
        "\n",
        "B = np.array([[-1, 1.0, 0],\n",
        "                 [-1, 1.0, 0],\n",
        "                 [-1, 1.0, 0]])\n",
        "\n",
        "color_filter = np.stack([R, G, B])"
      ],
      "metadata": {
        "id": "5NCW-3jZiNse"
      },
      "execution_count": null,
      "outputs": []
    },
    {
      "cell_type": "code",
      "source": [
        "#6 - unfinished\n",
        "R = np.arrayR = np.array([[0., 0., 0.],\n",
        "              [0., 0., 0.],\n",
        "              [0., 0., 0.]])\n",
        "\n",
        "G = np.array([[-1, 1.0, 0],\n",
        "                 [-1, 1.0, 0],\n",
        "                 [-1, 1.0, 0]])\n",
        "\n",
        "B = np.arrayR = np.array([[0., 0., 0.],\n",
        "              [0., 0., 0.],\n",
        "              [0., 0., 0.]])\n",
        "\n",
        "color_filter = np.stack([R, G, B])"
      ],
      "metadata": {
        "id": "D0oBZR2Yjl8y"
      },
      "execution_count": null,
      "outputs": []
    },
    {
      "cell_type": "code",
      "source": [
        "#7 - unfinished\n",
        "R = np.array([[-1, -1, -1],\n",
        "                 [1, 1, 1],\n",
        "                 [0, 0, 0]])\n",
        "\n",
        "G = np.array([[-1, -1, -1],\n",
        "                 [1, 1, 1],\n",
        "                 [0, 0, 0]])\n",
        "\n",
        "B = np.array([[-1, -1, -1],\n",
        "                 [1, 1, 1],\n",
        "                 [0, 0, 0]])\n",
        "\n",
        "color_filter = np.stack([R, G, B])"
      ],
      "metadata": {
        "id": "iv7mJvE0i4fR"
      },
      "execution_count": null,
      "outputs": []
    },
    {
      "cell_type": "code",
      "source": [
        "color_conv(image, color_filter)"
      ],
      "metadata": {
        "colab": {
          "base_uri": "https://localhost:8080/",
          "height": 241
        },
        "id": "KwsXyYH2Vga6",
        "outputId": "9bf80f75-b430-400a-b3d0-492263338ef8"
      },
      "execution_count": null,
      "outputs": [
        {
          "output_type": "execute_result",
          "data": {
            "text/plain": [
              "<PIL.Image.Image image mode=RGB size=256x224>"
            ],
            "image/png": "[encoded data removed]",
            "image/jpeg": "[encoded data removed]"
          },
          "metadata": {},
          "execution_count": 86
        }
      ]
    },
    {
      "cell_type": "markdown",
      "source": [
        "## MNIST Fashion\n",
        "\n",
        "Build and train a neural network from scratch to classify data in the [Fashion MNIST](https://www.kaggle.com/datasets/zalando-research/fashionmnist) dataset. This dataset is 28x28 black and white images like the hand-drawn digits, but is pictures of different articles of clothing and fashion accessories.\n",
        "\n",
        "Incorporate batch normalization and use onecycle training and do your best to get a good result with a small network. Show your confusion matrix and comment.\n",
        "\n"
      ],
      "metadata": {
        "id": "aNDsFATEVqIz"
      }
    },
    {
      "cell_type": "code",
      "source": [],
      "metadata": {
        "id": "-b6uRp6Mg4zy"
      },
      "execution_count": null,
      "outputs": []
    }
  ]
}