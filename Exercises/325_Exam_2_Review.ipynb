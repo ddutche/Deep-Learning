{
  "nbformat": 4,
  "nbformat_minor": 0,
  "metadata": {
    "colab": {
      "provenance": []
    },
    "kernelspec": {
      "name": "python3",
      "display_name": "Python 3"
    },
    "language_info": {
      "name": "python"
    }
  },
  "cells": [
    {
      "cell_type": "markdown",
      "source": [
        "#00 Instructions\n",
        "The dataset we're working with looks at records for individauls killed while being pursued by police in car chases from 2017-2022. Look through the original dataset and make sure you're clear on what the columns represent.\n",
        "\n",
        "Fatal Police Pursuit [Database](https://github.com/sfchronicle/police_pursuits)"
      ],
      "metadata": {
        "id": "WHIEtjsqHWnE"
      }
    },
    {
      "cell_type": "markdown",
      "source": [
        "## Load in any libraries need for performing regressions and predictive modeling."
      ],
      "metadata": {
        "id": "M94B0NHJJBKL"
      }
    },
    {
      "cell_type": "code",
      "source": [
        "# Basic working with data libraries\n",
        "import pandas as pd\n",
        "import matplotlib.pyplot as plt\n",
        "import seaborn as sns\n",
        "import numpy as np\n",
        "\n",
        "# Library including linear/logistic regression\n",
        "import statsmodels.api as sm"
      ],
      "metadata": {
        "id": "__7Bd7BuMyEE"
      },
      "execution_count": null,
      "outputs": []
    },
    {
      "cell_type": "markdown",
      "source": [
        "Read in the [data](http://github.com/sfchronicle/police_pursuits/blob/master/data/sfc_pursuit_fatalities.csv) as 'fatalities'.\n"
      ],
      "metadata": {
        "id": "g0weca97f78C"
      }
    },
    {
      "cell_type": "code",
      "source": [
        "fatalities = pd.read_csv(\"sfc_pursuit_fatalities.csv\")\n",
        "fatalities.head()"
      ],
      "metadata": {
        "colab": {
          "base_uri": "https://localhost:8080/",
          "height": 429
        },
        "id": "UZXLqJ5vun9l",
        "outputId": "1b7a8c2d-2bad-4b93-d3d2-fe36af57cfce"
      },
      "execution_count": null,
      "outputs": [
        {
          "output_type": "execute_result",
          "data": {
            "text/plain": [
              "   unique_id        data_source  year      date  number_killed   age  gender  \\\n",
              "0       2918  nhtsa_sfchronicle  2021  10/28/21              1  93.0    male   \n",
              "1        323  nhtsa_sfchronicle  2017   8/17/17              1  92.0    male   \n",
              "2       1488  nhtsa_sfchronicle  2019   9/15/19              3  91.0    male   \n",
              "3       2315  nhtsa_sfchronicle  2020  12/25/20              2  89.0    male   \n",
              "4       1720  nhtsa_sfchronicle  2020   2/14/20              1  89.0  female   \n",
              "\n",
              "           race  race_source     county  ...        long               name  \\\n",
              "0         white  photo,nhtsa    boulder  ... -105.074233   joe william gold   \n",
              "1         white  photo,nhtsa   muskegon  ...  -86.218686   duane levi quigg   \n",
              "2         white  photo,nhtsa       cole  ...  -92.240667  bernard g steffel   \n",
              "3  white,latino  photo,nhtsa  wyandotte  ...  -94.648189      mario madruga   \n",
              "4         white  photo,nhtsa    oakland  ...  -83.161506       mary lackamp   \n",
              "\n",
              "         initial_reason person_role                       main_agency  \\\n",
              "0  suspected nonviolent   bystander          longmont police services   \n",
              "1  suspected nonviolent   bystander   norton shores police department   \n",
              "2  suspected nonviolent   bystander  jefferson city police department   \n",
              "3  suspected nonviolent   bystander     kansas city police department   \n",
              "4          traffic stop   bystander        ferndale police department   \n",
              "\n",
              "                                           news_urls            city      zip  \\\n",
              "0  https://www.9news.com/article/news/crime/longm...        longmont  80504.0   \n",
              "1  http://fox17online.com/2017/08/17/police-innoc...   norton shores  49444.0   \n",
              "2  https://wreg.com/2019/09/16/memphis-man-two-ot...  jefferson city  65109.0   \n",
              "3  https://fox4kc.com/news/suspects-in-stolen-tru...     kansas city  66102.0   \n",
              "4  https://wwjnewsradio.radio.com/articles/news/e...         detroit  48221.0   \n",
              "\n",
              "  centroid_geo  in_fars_pursuit  \n",
              "0            0                1  \n",
              "1            0                1  \n",
              "2            0                1  \n",
              "3            0                1  \n",
              "4            0                1  \n",
              "\n",
              "[5 rows x 22 columns]"
            ],
            "text/html": [
              "\n",
              "  <div id=\"df-f40848c1-e8c0-4d35-a8bb-c7fc7ec1feb4\" class=\"colab-df-container\">\n",
              "    <div>\n",
              "<style scoped>\n",
              "    .dataframe tbody tr th:only-of-type {\n",
              "        vertical-align: middle;\n",
              "    }\n",
              "\n",
              "    .dataframe tbody tr th {\n",
              "        vertical-align: top;\n",
              "    }\n",
              "\n",
              "    .dataframe thead th {\n",
              "        text-align: right;\n",
              "    }\n",
              "</style>\n",
              "<table border=\"1\" class=\"dataframe\">\n",
              "  <thead>\n",
              "    <tr style=\"text-align: right;\">\n",
              "      <th></th>\n",
              "      <th>unique_id</th>\n",
              "      <th>data_source</th>\n",
              "      <th>year</th>\n",
              "      <th>date</th>\n",
              "      <th>number_killed</th>\n",
              "      <th>age</th>\n",
              "      <th>gender</th>\n",
              "      <th>race</th>\n",
              "      <th>race_source</th>\n",
              "      <th>county</th>\n",
              "      <th>...</th>\n",
              "      <th>long</th>\n",
              "      <th>name</th>\n",
              "      <th>initial_reason</th>\n",
              "      <th>person_role</th>\n",
              "      <th>main_agency</th>\n",
              "      <th>news_urls</th>\n",
              "      <th>city</th>\n",
              "      <th>zip</th>\n",
              "      <th>centroid_geo</th>\n",
              "      <th>in_fars_pursuit</th>\n",
              "    </tr>\n",
              "  </thead>\n",
              "  <tbody>\n",
              "    <tr>\n",
              "      <th>0</th>\n",
              "      <td>2918</td>\n",
              "      <td>nhtsa_sfchronicle</td>\n",
              "      <td>2021</td>\n",
              "      <td>10/28/21</td>\n",
              "      <td>1</td>\n",
              "      <td>93.0</td>\n",
              "      <td>male</td>\n",
              "      <td>white</td>\n",
              "      <td>photo,nhtsa</td>\n",
              "      <td>boulder</td>\n",
              "      <td>...</td>\n",
              "      <td>-105.074233</td>\n",
              "      <td>joe william gold</td>\n",
              "      <td>suspected nonviolent</td>\n",
              "      <td>bystander</td>\n",
              "      <td>longmont police services</td>\n",
              "      <td>https://www.9news.com/article/news/crime/longm...</td>\n",
              "      <td>longmont</td>\n",
              "      <td>80504.0</td>\n",
              "      <td>0</td>\n",
              "      <td>1</td>\n",
              "    </tr>\n",
              "    <tr>\n",
              "      <th>1</th>\n",
              "      <td>323</td>\n",
              "      <td>nhtsa_sfchronicle</td>\n",
              "      <td>2017</td>\n",
              "      <td>8/17/17</td>\n",
              "      <td>1</td>\n",
              "      <td>92.0</td>\n",
              "      <td>male</td>\n",
              "      <td>white</td>\n",
              "      <td>photo,nhtsa</td>\n",
              "      <td>muskegon</td>\n",
              "      <td>...</td>\n",
              "      <td>-86.218686</td>\n",
              "      <td>duane levi quigg</td>\n",
              "      <td>suspected nonviolent</td>\n",
              "      <td>bystander</td>\n",
              "      <td>norton shores police department</td>\n",
              "      <td>http://fox17online.com/2017/08/17/police-innoc...</td>\n",
              "      <td>norton shores</td>\n",
              "      <td>49444.0</td>\n",
              "      <td>0</td>\n",
              "      <td>1</td>\n",
              "    </tr>\n",
              "    <tr>\n",
              "      <th>2</th>\n",
              "      <td>1488</td>\n",
              "      <td>nhtsa_sfchronicle</td>\n",
              "      <td>2019</td>\n",
              "      <td>9/15/19</td>\n",
              "      <td>3</td>\n",
              "      <td>91.0</td>\n",
              "      <td>male</td>\n",
              "      <td>white</td>\n",
              "      <td>photo,nhtsa</td>\n",
              "      <td>cole</td>\n",
              "      <td>...</td>\n",
              "      <td>-92.240667</td>\n",
              "      <td>bernard g steffel</td>\n",
              "      <td>suspected nonviolent</td>\n",
              "      <td>bystander</td>\n",
              "      <td>jefferson city police department</td>\n",
              "      <td>https://wreg.com/2019/09/16/memphis-man-two-ot...</td>\n",
              "      <td>jefferson city</td>\n",
              "      <td>65109.0</td>\n",
              "      <td>0</td>\n",
              "      <td>1</td>\n",
              "    </tr>\n",
              "    <tr>\n",
              "      <th>3</th>\n",
              "      <td>2315</td>\n",
              "      <td>nhtsa_sfchronicle</td>\n",
              "      <td>2020</td>\n",
              "      <td>12/25/20</td>\n",
              "      <td>2</td>\n",
              "      <td>89.0</td>\n",
              "      <td>male</td>\n",
              "      <td>white,latino</td>\n",
              "      <td>photo,nhtsa</td>\n",
              "      <td>wyandotte</td>\n",
              "      <td>...</td>\n",
              "      <td>-94.648189</td>\n",
              "      <td>mario madruga</td>\n",
              "      <td>suspected nonviolent</td>\n",
              "      <td>bystander</td>\n",
              "      <td>kansas city police department</td>\n",
              "      <td>https://fox4kc.com/news/suspects-in-stolen-tru...</td>\n",
              "      <td>kansas city</td>\n",
              "      <td>66102.0</td>\n",
              "      <td>0</td>\n",
              "      <td>1</td>\n",
              "    </tr>\n",
              "    <tr>\n",
              "      <th>4</th>\n",
              "      <td>1720</td>\n",
              "      <td>nhtsa_sfchronicle</td>\n",
              "      <td>2020</td>\n",
              "      <td>2/14/20</td>\n",
              "      <td>1</td>\n",
              "      <td>89.0</td>\n",
              "      <td>female</td>\n",
              "      <td>white</td>\n",
              "      <td>photo,nhtsa</td>\n",
              "      <td>oakland</td>\n",
              "      <td>...</td>\n",
              "      <td>-83.161506</td>\n",
              "      <td>mary lackamp</td>\n",
              "      <td>traffic stop</td>\n",
              "      <td>bystander</td>\n",
              "      <td>ferndale police department</td>\n",
              "      <td>https://wwjnewsradio.radio.com/articles/news/e...</td>\n",
              "      <td>detroit</td>\n",
              "      <td>48221.0</td>\n",
              "      <td>0</td>\n",
              "      <td>1</td>\n",
              "    </tr>\n",
              "  </tbody>\n",
              "</table>\n",
              "<p>5 rows × 22 columns</p>\n",
              "</div>\n",
              "    <div class=\"colab-df-buttons\">\n",
              "\n",
              "  <div class=\"colab-df-container\">\n",
              "    <button class=\"colab-df-convert\" onclick=\"convertToInteractive('df-f40848c1-e8c0-4d35-a8bb-c7fc7ec1feb4')\"\n",
              "            title=\"Convert this dataframe to an interactive table.\"\n",
              "            style=\"display:none;\">\n",
              "\n",
              "  <svg xmlns=\"http://www.w3.org/2000/svg\" height=\"24px\" viewBox=\"0 -960 960 960\">\n",
              "    <path d=\"M120-120v-720h720v720H120Zm60-500h600v-160H180v160Zm220 220h160v-160H400v160Zm0 220h160v-160H400v160ZM180-400h160v-160H180v160Zm440 0h160v-160H620v160ZM180-180h160v-160H180v160Zm440 0h160v-160H620v160Z\"/>\n",
              "  </svg>\n",
              "    </button>\n",
              "\n",
              "  <style>\n",
              "    .colab-df-container {\n",
              "      display:flex;\n",
              "      gap: 12px;\n",
              "    }\n",
              "\n",
              "    .colab-df-convert {\n",
              "      background-color: #E8F0FE;\n",
              "      border: none;\n",
              "      border-radius: 50%;\n",
              "      cursor: pointer;\n",
              "      display: none;\n",
              "      fill: #1967D2;\n",
              "      height: 32px;\n",
              "      padding: 0 0 0 0;\n",
              "      width: 32px;\n",
              "    }\n",
              "\n",
              "    .colab-df-convert:hover {\n",
              "      background-color: #E2EBFA;\n",
              "      box-shadow: 0px 1px 2px rgba(60, 64, 67, 0.3), 0px 1px 3px 1px rgba(60, 64, 67, 0.15);\n",
              "      fill: #174EA6;\n",
              "    }\n",
              "\n",
              "    .colab-df-buttons div {\n",
              "      margin-bottom: 4px;\n",
              "    }\n",
              "\n",
              "    [theme=dark] .colab-df-convert {\n",
              "      background-color: #3B4455;\n",
              "      fill: #D2E3FC;\n",
              "    }\n",
              "\n",
              "    [theme=dark] .colab-df-convert:hover {\n",
              "      background-color: #434B5C;\n",
              "      box-shadow: 0px 1px 3px 1px rgba(0, 0, 0, 0.15);\n",
              "      filter: drop-shadow(0px 1px 2px rgba(0, 0, 0, 0.3));\n",
              "      fill: #FFFFFF;\n",
              "    }\n",
              "  </style>\n",
              "\n",
              "    <script>\n",
              "      const buttonEl =\n",
              "        document.querySelector('#df-f40848c1-e8c0-4d35-a8bb-c7fc7ec1feb4 button.colab-df-convert');\n",
              "      buttonEl.style.display =\n",
              "        google.colab.kernel.accessAllowed ? 'block' : 'none';\n",
              "\n",
              "      async function convertToInteractive(key) {\n",
              "        const element = document.querySelector('#df-f40848c1-e8c0-4d35-a8bb-c7fc7ec1feb4');\n",
              "        const dataTable =\n",
              "          await google.colab.kernel.invokeFunction('convertToInteractive',\n",
              "                                                    [key], {});\n",
              "        if (!dataTable) return;\n",
              "\n",
              "        const docLinkHtml = 'Like what you see? Visit the ' +\n",
              "          '<a target=\"_blank\" href=https://colab.research.google.com/notebooks/data_table.ipynb>data table notebook</a>'\n",
              "          + ' to learn more about interactive tables.';\n",
              "        element.innerHTML = '';\n",
              "        dataTable['output_type'] = 'display_data';\n",
              "        await google.colab.output.renderOutput(dataTable, element);\n",
              "        const docLink = document.createElement('div');\n",
              "        docLink.innerHTML = docLinkHtml;\n",
              "        element.appendChild(docLink);\n",
              "      }\n",
              "    </script>\n",
              "  </div>\n",
              "\n",
              "\n",
              "<div id=\"df-170840ba-9498-4aea-981a-76945a9e4fca\">\n",
              "  <button class=\"colab-df-quickchart\" onclick=\"quickchart('df-170840ba-9498-4aea-981a-76945a9e4fca')\"\n",
              "            title=\"Suggest charts\"\n",
              "            style=\"display:none;\">\n",
              "\n",
              "<svg xmlns=\"http://www.w3.org/2000/svg\" height=\"24px\"viewBox=\"0 0 24 24\"\n",
              "     width=\"24px\">\n",
              "    <g>\n",
              "        <path d=\"M19 3H5c-1.1 0-2 .9-2 2v14c0 1.1.9 2 2 2h14c1.1 0 2-.9 2-2V5c0-1.1-.9-2-2-2zM9 17H7v-7h2v7zm4 0h-2V7h2v10zm4 0h-2v-4h2v4z\"/>\n",
              "    </g>\n",
              "</svg>\n",
              "  </button>\n",
              "\n",
              "<style>\n",
              "  .colab-df-quickchart {\n",
              "      --bg-color: #E8F0FE;\n",
              "      --fill-color: #1967D2;\n",
              "      --hover-bg-color: #E2EBFA;\n",
              "      --hover-fill-color: #174EA6;\n",
              "      --disabled-fill-color: #AAA;\n",
              "      --disabled-bg-color: #DDD;\n",
              "  }\n",
              "\n",
              "  [theme=dark] .colab-df-quickchart {\n",
              "      --bg-color: #3B4455;\n",
              "      --fill-color: #D2E3FC;\n",
              "      --hover-bg-color: #434B5C;\n",
              "      --hover-fill-color: #FFFFFF;\n",
              "      --disabled-bg-color: #3B4455;\n",
              "      --disabled-fill-color: #666;\n",
              "  }\n",
              "\n",
              "  .colab-df-quickchart {\n",
              "    background-color: var(--bg-color);\n",
              "    border: none;\n",
              "    border-radius: 50%;\n",
              "    cursor: pointer;\n",
              "    display: none;\n",
              "    fill: var(--fill-color);\n",
              "    height: 32px;\n",
              "    padding: 0;\n",
              "    width: 32px;\n",
              "  }\n",
              "\n",
              "  .colab-df-quickchart:hover {\n",
              "    background-color: var(--hover-bg-color);\n",
              "    box-shadow: 0 1px 2px rgba(60, 64, 67, 0.3), 0 1px 3px 1px rgba(60, 64, 67, 0.15);\n",
              "    fill: var(--button-hover-fill-color);\n",
              "  }\n",
              "\n",
              "  .colab-df-quickchart-complete:disabled,\n",
              "  .colab-df-quickchart-complete:disabled:hover {\n",
              "    background-color: var(--disabled-bg-color);\n",
              "    fill: var(--disabled-fill-color);\n",
              "    box-shadow: none;\n",
              "  }\n",
              "\n",
              "  .colab-df-spinner {\n",
              "    border: 2px solid var(--fill-color);\n",
              "    border-color: transparent;\n",
              "    border-bottom-color: var(--fill-color);\n",
              "    animation:\n",
              "      spin 1s steps(1) infinite;\n",
              "  }\n",
              "\n",
              "  @keyframes spin {\n",
              "    0% {\n",
              "      border-color: transparent;\n",
              "      border-bottom-color: var(--fill-color);\n",
              "      border-left-color: var(--fill-color);\n",
              "    }\n",
              "    20% {\n",
              "      border-color: transparent;\n",
              "      border-left-color: var(--fill-color);\n",
              "      border-top-color: var(--fill-color);\n",
              "    }\n",
              "    30% {\n",
              "      border-color: transparent;\n",
              "      border-left-color: var(--fill-color);\n",
              "      border-top-color: var(--fill-color);\n",
              "      border-right-color: var(--fill-color);\n",
              "    }\n",
              "    40% {\n",
              "      border-color: transparent;\n",
              "      border-right-color: var(--fill-color);\n",
              "      border-top-color: var(--fill-color);\n",
              "    }\n",
              "    60% {\n",
              "      border-color: transparent;\n",
              "      border-right-color: var(--fill-color);\n",
              "    }\n",
              "    80% {\n",
              "      border-color: transparent;\n",
              "      border-right-color: var(--fill-color);\n",
              "      border-bottom-color: var(--fill-color);\n",
              "    }\n",
              "    90% {\n",
              "      border-color: transparent;\n",
              "      border-bottom-color: var(--fill-color);\n",
              "    }\n",
              "  }\n",
              "</style>\n",
              "\n",
              "  <script>\n",
              "    async function quickchart(key) {\n",
              "      const quickchartButtonEl =\n",
              "        document.querySelector('#' + key + ' button');\n",
              "      quickchartButtonEl.disabled = true;  // To prevent multiple clicks.\n",
              "      quickchartButtonEl.classList.add('colab-df-spinner');\n",
              "      try {\n",
              "        const charts = await google.colab.kernel.invokeFunction(\n",
              "            'suggestCharts', [key], {});\n",
              "      } catch (error) {\n",
              "        console.error('Error during call to suggestCharts:', error);\n",
              "      }\n",
              "      quickchartButtonEl.classList.remove('colab-df-spinner');\n",
              "      quickchartButtonEl.classList.add('colab-df-quickchart-complete');\n",
              "    }\n",
              "    (() => {\n",
              "      let quickchartButtonEl =\n",
              "        document.querySelector('#df-170840ba-9498-4aea-981a-76945a9e4fca button');\n",
              "      quickchartButtonEl.style.display =\n",
              "        google.colab.kernel.accessAllowed ? 'block' : 'none';\n",
              "    })();\n",
              "  </script>\n",
              "</div>\n",
              "\n",
              "    </div>\n",
              "  </div>\n"
            ],
            "application/vnd.google.colaboratory.intrinsic+json": {
              "type": "dataframe",
              "variable_name": "fatalities"
            }
          },
          "metadata": {},
          "execution_count": 43
        }
      ]
    },
    {
      "cell_type": "code",
      "source": [
        "fatalities.columns"
      ],
      "metadata": {
        "colab": {
          "base_uri": "https://localhost:8080/"
        },
        "id": "mGVkVjocutqe",
        "outputId": "12ccc896-e39c-4563-81f6-17ce4773cfd9"
      },
      "execution_count": null,
      "outputs": [
        {
          "output_type": "execute_result",
          "data": {
            "text/plain": [
              "Index(['unique_id', 'data_source', 'year', 'date', 'number_killed', 'age',\n",
              "       'gender', 'race', 'race_source', 'county', 'state', 'lat', 'long',\n",
              "       'name', 'initial_reason', 'person_role', 'main_agency', 'news_urls',\n",
              "       'city', 'zip', 'centroid_geo', 'in_fars_pursuit'],\n",
              "      dtype='object')"
            ]
          },
          "metadata": {},
          "execution_count": 44
        }
      ]
    },
    {
      "cell_type": "markdown",
      "source": [
        "#1. Regression\n",
        "(a) Build a model predicting whether a fatal police indicident was recorded as such. Remove all unnecessary variables.\n",
        "\n"
      ],
      "metadata": {
        "id": "iY24VAmEJxie"
      }
    },
    {
      "cell_type": "code",
      "source": [
        "fatalities[\"county\"].value_counts() #too much location data, removing for now because we can't predict much based on location alone considering\n",
        "#how few entries we have per location\n",
        "\n",
        "#This includes things like county, state, main agency, etc\n",
        "\n",
        "#Then as for the date columns, these likely wont be too predictive but also there isn't really continuity with dates in a csv, wed look at each one as its own\n",
        "#category and then wed run into the same problem again of far too little data per category"
      ],
      "metadata": {
        "colab": {
          "base_uri": "https://localhost:8080/",
          "height": 489
        },
        "id": "zon3gtn4vvTp",
        "outputId": "9178367a-c6cf-4f95-9568-5aa4ecc37ac2"
      },
      "execution_count": null,
      "outputs": [
        {
          "output_type": "execute_result",
          "data": {
            "text/plain": [
              "county\n",
              "harris         79\n",
              "los angeles    62\n",
              "cook           57\n",
              "dallas         45\n",
              "jefferson      44\n",
              "               ..\n",
              "norton          1\n",
              "platte          1\n",
              "faulkner        1\n",
              "mecklenberg     1\n",
              "mahaska         1\n",
              "Name: count, Length: 787, dtype: int64"
            ],
            "text/html": [
              "<div>\n",
              "<style scoped>\n",
              "    .dataframe tbody tr th:only-of-type {\n",
              "        vertical-align: middle;\n",
              "    }\n",
              "\n",
              "    .dataframe tbody tr th {\n",
              "        vertical-align: top;\n",
              "    }\n",
              "\n",
              "    .dataframe thead th {\n",
              "        text-align: right;\n",
              "    }\n",
              "</style>\n",
              "<table border=\"1\" class=\"dataframe\">\n",
              "  <thead>\n",
              "    <tr style=\"text-align: right;\">\n",
              "      <th></th>\n",
              "      <th>count</th>\n",
              "    </tr>\n",
              "    <tr>\n",
              "      <th>county</th>\n",
              "      <th></th>\n",
              "    </tr>\n",
              "  </thead>\n",
              "  <tbody>\n",
              "    <tr>\n",
              "      <th>harris</th>\n",
              "      <td>79</td>\n",
              "    </tr>\n",
              "    <tr>\n",
              "      <th>los angeles</th>\n",
              "      <td>62</td>\n",
              "    </tr>\n",
              "    <tr>\n",
              "      <th>cook</th>\n",
              "      <td>57</td>\n",
              "    </tr>\n",
              "    <tr>\n",
              "      <th>dallas</th>\n",
              "      <td>45</td>\n",
              "    </tr>\n",
              "    <tr>\n",
              "      <th>jefferson</th>\n",
              "      <td>44</td>\n",
              "    </tr>\n",
              "    <tr>\n",
              "      <th>...</th>\n",
              "      <td>...</td>\n",
              "    </tr>\n",
              "    <tr>\n",
              "      <th>norton</th>\n",
              "      <td>1</td>\n",
              "    </tr>\n",
              "    <tr>\n",
              "      <th>platte</th>\n",
              "      <td>1</td>\n",
              "    </tr>\n",
              "    <tr>\n",
              "      <th>faulkner</th>\n",
              "      <td>1</td>\n",
              "    </tr>\n",
              "    <tr>\n",
              "      <th>mecklenberg</th>\n",
              "      <td>1</td>\n",
              "    </tr>\n",
              "    <tr>\n",
              "      <th>mahaska</th>\n",
              "      <td>1</td>\n",
              "    </tr>\n",
              "  </tbody>\n",
              "</table>\n",
              "<p>787 rows × 1 columns</p>\n",
              "</div><br><label><b>dtype:</b> int64</label>"
            ]
          },
          "metadata": {},
          "execution_count": 45
        }
      ]
    },
    {
      "cell_type": "code",
      "source": [
        "fatalities = fatalities[['year','number_killed', 'age',\n",
        "       'gender', 'race',\n",
        "       'initial_reason', 'person_role','centroid_geo', 'in_fars_pursuit']]\n",
        "fatalities = fatalities.dropna()"
      ],
      "metadata": {
        "id": "uLAb1xdMwkgN"
      },
      "execution_count": null,
      "outputs": []
    },
    {
      "cell_type": "code",
      "source": [
        "fatalities[\"in_fars_pursuit\"] = (fatalities[\"in_fars_pursuit\"] != 2)"
      ],
      "metadata": {
        "id": "Xe5qmx8Jyh-t"
      },
      "execution_count": null,
      "outputs": []
    },
    {
      "cell_type": "code",
      "source": [
        "X = fatalities[['year','number_killed', 'age',\n",
        "       'gender', 'race',\n",
        "       'initial_reason', 'person_role','centroid_geo']]\n",
        "X = pd.get_dummies(X).astype(\"float32\")\n",
        "\n",
        "y = fatalities[\"in_fars_pursuit\"]"
      ],
      "metadata": {
        "id": "-Qy4sn2PM0ds"
      },
      "execution_count": null,
      "outputs": []
    },
    {
      "cell_type": "markdown",
      "source": [
        "We need to drop some more columns to make this work, just because of how the get_dummmies transfered people with multiple racial identities and gender. This is obviously not ideal but it is necessary to work. However, it does indicate that our model is likely not great in looking at intersectional identites and that should be taken into account."
      ],
      "metadata": {
        "id": "XCnwHUpExuhE"
      }
    },
    {
      "cell_type": "code",
      "source": [
        "X=X.drop(columns=[\"race_black,latino\",\"race_other,latino\",\"race_white,latino\",\"race_unknown\",\"gender_nonbinary\",\"gender_unknown\"])"
      ],
      "metadata": {
        "id": "jBSTw6UQxxL6"
      },
      "execution_count": null,
      "outputs": []
    },
    {
      "cell_type": "code",
      "source": [
        "X = sm.tools.tools.add_constant(X)\n",
        "\n",
        "model = sm.OLS(y, X).fit()\n",
        "\n",
        "print(model.summary())"
      ],
      "metadata": {
        "colab": {
          "base_uri": "https://localhost:8080/"
        },
        "id": "wRLbBCM3xaVh",
        "outputId": "8e648dab-50b3-423c-9270-0d53838552d6"
      },
      "execution_count": null,
      "outputs": [
        {
          "output_type": "stream",
          "name": "stdout",
          "text": [
            "                            OLS Regression Results                            \n",
            "==============================================================================\n",
            "Dep. Variable:        in_fars_pursuit   R-squared:                       0.927\n",
            "Model:                            OLS   Adj. R-squared:                  0.926\n",
            "Method:                 Least Squares   F-statistic:                     1084.\n",
            "Date:                Tue, 19 Nov 2024   Prob (F-statistic):               0.00\n",
            "Time:                        14:22:17   Log-Likelihood:                 1866.7\n",
            "No. Observations:                1983   AIC:                            -3685.\n",
            "Df Residuals:                    1959   BIC:                            -3551.\n",
            "Df Model:                          23                                         \n",
            "Covariance Type:            nonrobust                                         \n",
            "==========================================================================================================\n",
            "                                             coef    std err          t      P>|t|      [0.025      0.975]\n",
            "----------------------------------------------------------------------------------------------------------\n",
            "const                                     22.7931      2.476      9.207      0.000      17.938      27.648\n",
            "year                                      -0.0147      0.002     -8.916      0.000      -0.018      -0.011\n",
            "number_killed                              0.0012      0.002      0.537      0.591      -0.003       0.006\n",
            "age                                        0.0002      0.000      0.974      0.330      -0.000       0.000\n",
            "centroid_geo                              -0.9203      0.008   -120.247      0.000      -0.935      -0.905\n",
            "gender_female                             -0.0040      0.036     -0.109      0.913      -0.075       0.067\n",
            "gender_male                                0.0033      0.036      0.091      0.927      -0.068       0.074\n",
            "race_asian                                 0.0526      0.016      3.258      0.001       0.021       0.084\n",
            "race_black                                -0.0059      0.006     -0.977      0.329      -0.018       0.006\n",
            "race_latino                                0.0117      0.011      1.101      0.271      -0.009       0.033\n",
            "race_latino,black                         -0.0367      0.068     -0.543      0.587      -0.169       0.096\n",
            "race_latino,white                         -0.0348      0.034     -1.010      0.313      -0.102       0.033\n",
            "race_other                                -0.0079      0.018     -0.449      0.654      -0.042       0.027\n",
            "race_white                                -0.0036      0.006     -0.589      0.556      -0.015       0.008\n",
            "initial_reason_domestic incident           3.2618      0.355      9.196      0.000       2.566       3.957\n",
            "initial_reason_minor incident/no crime     3.2431      0.353      9.193      0.000       2.551       3.935\n",
            "initial_reason_other                       3.2638      0.355      9.195      0.000       2.568       3.960\n",
            "initial_reason_suspected nonviolent        3.2512      0.354      9.192      0.000       2.558       3.945\n",
            "initial_reason_suspected violent           3.2564      0.353      9.213      0.000       2.563       3.950\n",
            "initial_reason_traffic stop                3.2541      0.354      9.197      0.000       2.560       3.948\n",
            "initial_reason_unknown                     3.2627      0.354      9.213      0.000       2.568       3.957\n",
            "person_role_bystander                      4.5672      0.495      9.221      0.000       3.596       5.539\n",
            "person_role_driver                         4.5613      0.495      9.213      0.000       3.590       5.532\n",
            "person_role_officer                        4.5514      0.495      9.186      0.000       3.580       5.523\n",
            "person_role_passenger                      4.5701      0.495      9.234      0.000       3.599       5.541\n",
            "person_role_unclear                        4.5431      0.496      9.166      0.000       3.571       5.515\n",
            "==============================================================================\n",
            "Omnibus:                      780.216   Durbin-Watson:                   1.846\n",
            "Prob(Omnibus):                  0.000   Jarque-Bera (JB):           637333.279\n",
            "Skew:                           0.006   Prob(JB):                         0.00\n",
            "Kurtosis:                      90.827   Cond. No.                     2.14e+17\n",
            "==============================================================================\n",
            "\n",
            "Notes:\n",
            "[1] Standard Errors assume that the covariance matrix of the errors is correctly specified.\n",
            "[2] The smallest eigenvalue is 1.77e-25. This might indicate that there are\n",
            "strong multicollinearity problems or that the design matrix is singular.\n"
          ]
        }
      ]
    },
    {
      "cell_type": "markdown",
      "source": [
        "(b) Choose one slope in the model to explain, and interpet what that means.\n"
      ],
      "metadata": {
        "id": "f_91Zsu0x9LQ"
      }
    },
    {
      "cell_type": "code",
      "source": [],
      "metadata": {
        "id": "3SN4tXtfxnfS"
      },
      "execution_count": null,
      "outputs": []
    },
    {
      "cell_type": "markdown",
      "source": [
        "(c) Evaluate your model."
      ],
      "metadata": {
        "id": "lJuMf90Oqwe9"
      }
    },
    {
      "cell_type": "code",
      "source": [],
      "metadata": {
        "id": "2Q_hsefkOFYt"
      },
      "execution_count": null,
      "outputs": []
    },
    {
      "cell_type": "markdown",
      "source": [
        "Does this model seem like a good fit?"
      ],
      "metadata": {
        "id": "51_5A1d2rK2q"
      }
    },
    {
      "cell_type": "markdown",
      "source": [
        "#2. Decision Tree\n",
        "(a) With the same variables, fit this model as a decision tree. Give it a reasonable depth.\n",
        "\n"
      ],
      "metadata": {
        "id": "V4ImfflGsY9z"
      }
    },
    {
      "cell_type": "code",
      "source": [],
      "metadata": {
        "id": "PW18Vv_EOJmY"
      },
      "execution_count": null,
      "outputs": []
    },
    {
      "cell_type": "markdown",
      "source": [
        "(b)What is the accuracy of this model?\n"
      ],
      "metadata": {
        "id": "I5yGZI5otejf"
      }
    },
    {
      "cell_type": "code",
      "source": [],
      "metadata": {
        "id": "nCB_A0H8OShQ"
      },
      "execution_count": null,
      "outputs": []
    },
    {
      "cell_type": "markdown",
      "source": [
        "(c) You've been tasked with using this dataset to look at why some deaths are recorded as occuring as part of a police chase, while other were not recorded in the same way. Which model would you prefer to use for explaining your findings?\n",
        "\n"
      ],
      "metadata": {
        "id": "oU_6dBfB4NRg"
      }
    },
    {
      "cell_type": "markdown",
      "source": [
        "#3. Linear Regression\n",
        "\n",
        "(a) Based on the same position as above, is there a reasonable linear regression one can make from this dataset?\n"
      ],
      "metadata": {
        "id": "iRuANRPgr8np"
      }
    }
  ]
}