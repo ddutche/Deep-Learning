{
  "nbformat": 4,
  "nbformat_minor": 0,
  "metadata": {
    "colab": {
      "provenance": []
    },
    "kernelspec": {
      "name": "python3",
      "display_name": "Python 3"
    },
    "language_info": {
      "name": "python"
    }
  },
  "cells": [
    {
      "cell_type": "markdown",
      "source": [
        "# Exercises: Machine Learning\n",
        "\n",
        "## Problems\n",
        "\n",
        "1. Fit a Line\n",
        "2. Momentum\n",
        "2. Maximization\n"
      ],
      "metadata": {
        "id": "CmUSFjaARbjS"
      }
    },
    {
      "cell_type": "code",
      "source": [
        "from ipywidgets import interact\n",
        "from fastai.basics import *\n",
        "import torch\n",
        "import pandas as pd\n",
        "\n",
        "# Now we don't need to use plt.show()\n",
        "%matplotlib inline\n",
        "\n",
        "# Makes the figure output a bit smaller\n",
        "plt.rc('figure', dpi=90)\n",
        "\n",
        "# A helper function to plot generic functions\n",
        "def plot_function(f, title=None, min=-2.1, max=2.1, color='r', ylim=None, xlab=None, ylab=None):\n",
        "    x = torch.linspace(min,max, 100)[:,None]\n",
        "    if ylim is not None: plt.ylim(ylim)\n",
        "    plt.plot(x, f(x), color)\n",
        "    if title is not None: plt.title(title)\n",
        "    if xlab is not None: plt.xlabel(xlab)\n",
        "    if ylab is not None: plt.ylabel(ylab)\n",
        "    if min is not None: plt.xlim([min,max])\n",
        "    plt.show()"
      ],
      "metadata": {
        "id": "1oIvsfiORqVt"
      },
      "execution_count": null,
      "outputs": []
    },
    {
      "cell_type": "markdown",
      "source": [
        "# 1. Fit a Line\n",
        "\n",
        "Here is a new dataset, whose data come from a line. Using what you've learned so far, fit a line to it, and make some plots. What are the slope and intercept you find?"
      ],
      "metadata": {
        "id": "JEEveOqY9n0Q"
      }
    },
    {
      "cell_type": "code",
      "source": [
        "linear_data = pd.read_csv(\"https://raw.githubusercontent.com/Greg-Hallenbeck/class-datasets/main/datasets/ml_sampledata_linear.csv\")\n",
        "linear_data.head(3)"
      ],
      "metadata": {
        "colab": {
          "base_uri": "https://localhost:8080/",
          "height": 143
        },
        "id": "O5WjHICQQevu",
        "outputId": "da51450e-d1da-473c-abb8-0deb7f66bbbe"
      },
      "execution_count": null,
      "outputs": [
        {
          "output_type": "execute_result",
          "data": {
            "text/plain": [
              "          x         y\n",
              "0  0.922410  2.963345\n",
              "1  0.820254  1.865758\n",
              "2  0.025396 -0.113509"
            ],
            "text/html": [
              "\n",
              "  <div id=\"df-33fbffc5-ab2a-4905-9ec4-3c29766480a7\" class=\"colab-df-container\">\n",
              "    <div>\n",
              "<style scoped>\n",
              "    .dataframe tbody tr th:only-of-type {\n",
              "        vertical-align: middle;\n",
              "    }\n",
              "\n",
              "    .dataframe tbody tr th {\n",
              "        vertical-align: top;\n",
              "    }\n",
              "\n",
              "    .dataframe thead th {\n",
              "        text-align: right;\n",
              "    }\n",
              "</style>\n",
              "<table border=\"1\" class=\"dataframe\">\n",
              "  <thead>\n",
              "    <tr style=\"text-align: right;\">\n",
              "      <th></th>\n",
              "      <th>x</th>\n",
              "      <th>y</th>\n",
              "    </tr>\n",
              "  </thead>\n",
              "  <tbody>\n",
              "    <tr>\n",
              "      <th>0</th>\n",
              "      <td>0.922410</td>\n",
              "      <td>2.963345</td>\n",
              "    </tr>\n",
              "    <tr>\n",
              "      <th>1</th>\n",
              "      <td>0.820254</td>\n",
              "      <td>1.865758</td>\n",
              "    </tr>\n",
              "    <tr>\n",
              "      <th>2</th>\n",
              "      <td>0.025396</td>\n",
              "      <td>-0.113509</td>\n",
              "    </tr>\n",
              "  </tbody>\n",
              "</table>\n",
              "</div>\n",
              "    <div class=\"colab-df-buttons\">\n",
              "\n",
              "  <div class=\"colab-df-container\">\n",
              "    <button class=\"colab-df-convert\" onclick=\"convertToInteractive('df-33fbffc5-ab2a-4905-9ec4-3c29766480a7')\"\n",
              "            title=\"Convert this dataframe to an interactive table.\"\n",
              "            style=\"display:none;\">\n",
              "\n",
              "  <svg xmlns=\"http://www.w3.org/2000/svg\" height=\"24px\" viewBox=\"0 -960 960 960\">\n",
              "    <path d=\"M120-120v-720h720v720H120Zm60-500h600v-160H180v160Zm220 220h160v-160H400v160Zm0 220h160v-160H400v160ZM180-400h160v-160H180v160Zm440 0h160v-160H620v160ZM180-180h160v-160H180v160Zm440 0h160v-160H620v160Z\"/>\n",
              "  </svg>\n",
              "    </button>\n",
              "\n",
              "  <style>\n",
              "    .colab-df-container {\n",
              "      display:flex;\n",
              "      gap: 12px;\n",
              "    }\n",
              "\n",
              "    .colab-df-convert {\n",
              "      background-color: #E8F0FE;\n",
              "      border: none;\n",
              "      border-radius: 50%;\n",
              "      cursor: pointer;\n",
              "      display: none;\n",
              "      fill: #1967D2;\n",
              "      height: 32px;\n",
              "      padding: 0 0 0 0;\n",
              "      width: 32px;\n",
              "    }\n",
              "\n",
              "    .colab-df-convert:hover {\n",
              "      background-color: #E2EBFA;\n",
              "      box-shadow: 0px 1px 2px rgba(60, 64, 67, 0.3), 0px 1px 3px 1px rgba(60, 64, 67, 0.15);\n",
              "      fill: #174EA6;\n",
              "    }\n",
              "\n",
              "    .colab-df-buttons div {\n",
              "      margin-bottom: 4px;\n",
              "    }\n",
              "\n",
              "    [theme=dark] .colab-df-convert {\n",
              "      background-color: #3B4455;\n",
              "      fill: #D2E3FC;\n",
              "    }\n",
              "\n",
              "    [theme=dark] .colab-df-convert:hover {\n",
              "      background-color: #434B5C;\n",
              "      box-shadow: 0px 1px 3px 1px rgba(0, 0, 0, 0.15);\n",
              "      filter: drop-shadow(0px 1px 2px rgba(0, 0, 0, 0.3));\n",
              "      fill: #FFFFFF;\n",
              "    }\n",
              "  </style>\n",
              "\n",
              "    <script>\n",
              "      const buttonEl =\n",
              "        document.querySelector('#df-33fbffc5-ab2a-4905-9ec4-3c29766480a7 button.colab-df-convert');\n",
              "      buttonEl.style.display =\n",
              "        google.colab.kernel.accessAllowed ? 'block' : 'none';\n",
              "\n",
              "      async function convertToInteractive(key) {\n",
              "        const element = document.querySelector('#df-33fbffc5-ab2a-4905-9ec4-3c29766480a7');\n",
              "        const dataTable =\n",
              "          await google.colab.kernel.invokeFunction('convertToInteractive',\n",
              "                                                    [key], {});\n",
              "        if (!dataTable) return;\n",
              "\n",
              "        const docLinkHtml = 'Like what you see? Visit the ' +\n",
              "          '<a target=\"_blank\" href=https://colab.research.google.com/notebooks/data_table.ipynb>data table notebook</a>'\n",
              "          + ' to learn more about interactive tables.';\n",
              "        element.innerHTML = '';\n",
              "        dataTable['output_type'] = 'display_data';\n",
              "        await google.colab.output.renderOutput(dataTable, element);\n",
              "        const docLink = document.createElement('div');\n",
              "        docLink.innerHTML = docLinkHtml;\n",
              "        element.appendChild(docLink);\n",
              "      }\n",
              "    </script>\n",
              "  </div>\n",
              "\n",
              "\n",
              "<div id=\"df-2a2cb5be-f69b-43e3-a07d-47ec8014940c\">\n",
              "  <button class=\"colab-df-quickchart\" onclick=\"quickchart('df-2a2cb5be-f69b-43e3-a07d-47ec8014940c')\"\n",
              "            title=\"Suggest charts\"\n",
              "            style=\"display:none;\">\n",
              "\n",
              "<svg xmlns=\"http://www.w3.org/2000/svg\" height=\"24px\"viewBox=\"0 0 24 24\"\n",
              "     width=\"24px\">\n",
              "    <g>\n",
              "        <path d=\"M19 3H5c-1.1 0-2 .9-2 2v14c0 1.1.9 2 2 2h14c1.1 0 2-.9 2-2V5c0-1.1-.9-2-2-2zM9 17H7v-7h2v7zm4 0h-2V7h2v10zm4 0h-2v-4h2v4z\"/>\n",
              "    </g>\n",
              "</svg>\n",
              "  </button>\n",
              "\n",
              "<style>\n",
              "  .colab-df-quickchart {\n",
              "      --bg-color: #E8F0FE;\n",
              "      --fill-color: #1967D2;\n",
              "      --hover-bg-color: #E2EBFA;\n",
              "      --hover-fill-color: #174EA6;\n",
              "      --disabled-fill-color: #AAA;\n",
              "      --disabled-bg-color: #DDD;\n",
              "  }\n",
              "\n",
              "  [theme=dark] .colab-df-quickchart {\n",
              "      --bg-color: #3B4455;\n",
              "      --fill-color: #D2E3FC;\n",
              "      --hover-bg-color: #434B5C;\n",
              "      --hover-fill-color: #FFFFFF;\n",
              "      --disabled-bg-color: #3B4455;\n",
              "      --disabled-fill-color: #666;\n",
              "  }\n",
              "\n",
              "  .colab-df-quickchart {\n",
              "    background-color: var(--bg-color);\n",
              "    border: none;\n",
              "    border-radius: 50%;\n",
              "    cursor: pointer;\n",
              "    display: none;\n",
              "    fill: var(--fill-color);\n",
              "    height: 32px;\n",
              "    padding: 0;\n",
              "    width: 32px;\n",
              "  }\n",
              "\n",
              "  .colab-df-quickchart:hover {\n",
              "    background-color: var(--hover-bg-color);\n",
              "    box-shadow: 0 1px 2px rgba(60, 64, 67, 0.3), 0 1px 3px 1px rgba(60, 64, 67, 0.15);\n",
              "    fill: var(--button-hover-fill-color);\n",
              "  }\n",
              "\n",
              "  .colab-df-quickchart-complete:disabled,\n",
              "  .colab-df-quickchart-complete:disabled:hover {\n",
              "    background-color: var(--disabled-bg-color);\n",
              "    fill: var(--disabled-fill-color);\n",
              "    box-shadow: none;\n",
              "  }\n",
              "\n",
              "  .colab-df-spinner {\n",
              "    border: 2px solid var(--fill-color);\n",
              "    border-color: transparent;\n",
              "    border-bottom-color: var(--fill-color);\n",
              "    animation:\n",
              "      spin 1s steps(1) infinite;\n",
              "  }\n",
              "\n",
              "  @keyframes spin {\n",
              "    0% {\n",
              "      border-color: transparent;\n",
              "      border-bottom-color: var(--fill-color);\n",
              "      border-left-color: var(--fill-color);\n",
              "    }\n",
              "    20% {\n",
              "      border-color: transparent;\n",
              "      border-left-color: var(--fill-color);\n",
              "      border-top-color: var(--fill-color);\n",
              "    }\n",
              "    30% {\n",
              "      border-color: transparent;\n",
              "      border-left-color: var(--fill-color);\n",
              "      border-top-color: var(--fill-color);\n",
              "      border-right-color: var(--fill-color);\n",
              "    }\n",
              "    40% {\n",
              "      border-color: transparent;\n",
              "      border-right-color: var(--fill-color);\n",
              "      border-top-color: var(--fill-color);\n",
              "    }\n",
              "    60% {\n",
              "      border-color: transparent;\n",
              "      border-right-color: var(--fill-color);\n",
              "    }\n",
              "    80% {\n",
              "      border-color: transparent;\n",
              "      border-right-color: var(--fill-color);\n",
              "      border-bottom-color: var(--fill-color);\n",
              "    }\n",
              "    90% {\n",
              "      border-color: transparent;\n",
              "      border-bottom-color: var(--fill-color);\n",
              "    }\n",
              "  }\n",
              "</style>\n",
              "\n",
              "  <script>\n",
              "    async function quickchart(key) {\n",
              "      const quickchartButtonEl =\n",
              "        document.querySelector('#' + key + ' button');\n",
              "      quickchartButtonEl.disabled = true;  // To prevent multiple clicks.\n",
              "      quickchartButtonEl.classList.add('colab-df-spinner');\n",
              "      try {\n",
              "        const charts = await google.colab.kernel.invokeFunction(\n",
              "            'suggestCharts', [key], {});\n",
              "      } catch (error) {\n",
              "        console.error('Error during call to suggestCharts:', error);\n",
              "      }\n",
              "      quickchartButtonEl.classList.remove('colab-df-spinner');\n",
              "      quickchartButtonEl.classList.add('colab-df-quickchart-complete');\n",
              "    }\n",
              "    (() => {\n",
              "      let quickchartButtonEl =\n",
              "        document.querySelector('#df-2a2cb5be-f69b-43e3-a07d-47ec8014940c button');\n",
              "      quickchartButtonEl.style.display =\n",
              "        google.colab.kernel.accessAllowed ? 'block' : 'none';\n",
              "    })();\n",
              "  </script>\n",
              "</div>\n",
              "\n",
              "    </div>\n",
              "  </div>\n"
            ],
            "application/vnd.google.colaboratory.intrinsic+json": {
              "type": "dataframe",
              "variable_name": "linear_data",
              "summary": "{\n  \"name\": \"linear_data\",\n  \"rows\": 100,\n  \"fields\": [\n    {\n      \"column\": \"x\",\n      \"properties\": {\n        \"dtype\": \"number\",\n        \"std\": 0.2923042913311975,\n        \"min\": 0.00042057037,\n        \"max\": 0.98751163,\n        \"num_unique_values\": 100,\n        \"samples\": [\n          0.4868753,\n          0.84839976,\n          0.20091474\n        ],\n        \"semantic_type\": \"\",\n        \"description\": \"\"\n      }\n    },\n    {\n      \"column\": \"y\",\n      \"properties\": {\n        \"dtype\": \"number\",\n        \"std\": 1.0268891946752787,\n        \"min\": -0.4375525,\n        \"max\": 3.3433933,\n        \"num_unique_values\": 100,\n        \"samples\": [\n          0.9020853,\n          2.4800622,\n          0.7347268\n        ],\n        \"semantic_type\": \"\",\n        \"description\": \"\"\n      }\n    }\n  ]\n}"
            }
          },
          "metadata": {},
          "execution_count": 2
        }
      ]
    },
    {
      "cell_type": "code",
      "source": [
        "x = torch.tensor(linear_data[\"x\"])\n",
        "y = torch.tensor(linear_data[\"y\"])\n",
        "\n",
        "w = torch.rand(2)\n",
        "w.requires_grad_()\n",
        "losses = []\n",
        "\n",
        "def line(w, x):\n",
        "    return w[0]*x + w[1]\n",
        "\n",
        "# Define a loss function\n",
        "def loss(y, yhat):\n",
        "    return (y-yhat).pow(2).mean()\n",
        "\n",
        "for epoch in range(5000):\n",
        "    yhat = line(w, x)\n",
        "    J = loss(y, yhat)\n",
        "    losses.append(float(J))\n",
        "    J.backward()\n",
        "\n",
        "    lr = 0.01\n",
        "    with torch.no_grad():\n",
        "        w.sub_(lr * w.grad)\n",
        "    w.grad.data.zero_()\n",
        "w.detach_()"
      ],
      "metadata": {
        "id": "KiFNafKEZfYz",
        "colab": {
          "base_uri": "https://localhost:8080/"
        },
        "outputId": "e51865e0-9409-4127-cd8b-92d440d19a95"
      },
      "execution_count": null,
      "outputs": [
        {
          "output_type": "execute_result",
          "data": {
            "text/plain": [
              "tensor([ 3.3529, -0.3820])"
            ]
          },
          "metadata": {},
          "execution_count": 23
        }
      ]
    },
    {
      "cell_type": "code",
      "source": [
        "\n",
        "plt.plot(x,y,\".k\")\n",
        "plt.plot(x,line(w,x),'-b')"
      ],
      "metadata": {
        "colab": {
          "base_uri": "https://localhost:8080/",
          "height": 408
        },
        "id": "11Y0pNv60ryE",
        "outputId": "3bbe5aa7-39aa-4851-87c7-033b55bbf019"
      },
      "execution_count": null,
      "outputs": [
        {
          "output_type": "execute_result",
          "data": {
            "text/plain": [
              "[<matplotlib.lines.Line2D at 0x7892b0e262c0>]"
            ]
          },
          "metadata": {},
          "execution_count": 24
        },
        {
          "output_type": "display_data",
          "data": {
            "text/plain": [
              "<Figure size 576x432 with 1 Axes>"
            ],
            "image/png": "[encoded data removed]"
          },
          "metadata": {}
        }
      ]
    },
    {
      "cell_type": "markdown",
      "source": [
        "## 2. Gradient Descent with Momentum\n",
        "\n",
        "There are a lot of different updates and tweaks that have been made to improve the basic gradient descent algorithm that we coded up in class. One is to add a *momentum* term, which simulates how a ball rolling down a hill will speed up and jump out of little holes. To do this, instead of calculating the new value of $w$ in the way we have been:\n",
        "\n",
        "$$w' = w - \\lambda \\frac{\\partial J}{\\partial w}$$\n",
        "\n",
        "(where the $w'$ \"w-prime\" is the new value of $w$)\n",
        "\n",
        "We make this a two-step process:\n",
        "\n",
        "$$v' = \\beta v + (1-\\beta)\\frac{\\partial J}{\\partial w}$$\n",
        "$$w' = w - \\lambda v'$$\n",
        "\n",
        "* This new term $v$ is the momentum, which is initially set to $0$, and\n",
        "* $\\beta$ is a new hyperparameter, like the learning rate, which is in the range $0\\leq\\beta<1$.\n",
        "\n",
        "Before doing an implementation, answer the following:\n",
        "* For what value of $\\beta$ is gradient descent with momentum just the original gradient descent?\n",
        "* Why did I specify that $\\beta<1$ and not $\\beta \\leq 1$? What would go wrong if you did that?"
      ],
      "metadata": {
        "id": "-r-dtAO9Fa6l"
      }
    },
    {
      "cell_type": "code",
      "source": [
        "#Beta would have to be = to 0\n",
        "\n",
        "\n",
        "#Becaue V' is a momentum term, and if B is = to 1 then theres no gain or loss in momentum because the partial J with respect to Partial W gets cancelled out from the equation\n",
        "#The gradient term (tells about the slope) gets erased"
      ],
      "metadata": {
        "id": "ggaBb8z-ZdKb"
      },
      "execution_count": null,
      "outputs": []
    },
    {
      "cell_type": "markdown",
      "source": [
        "Let's say that the gradient/slope of the loss $J$ is a constant: $\\frac{\\partial J}{\\partial w} = 10$. It never changes, even as $w$ changes.\n",
        "\n",
        "Also, let's choose a learning rate of $\\lambda= 0.01$.\n",
        "\n",
        "What would the graph of $w'$ look like as we go from epoch 0 to epoch 10 if:\n",
        "* $\\beta = 0.01$?\n",
        "* Or $\\beta = 0.99$?\n",
        "* Make a graph for both."
      ],
      "metadata": {
        "id": "f5IY8gCRF3cF"
      }
    },
    {
      "cell_type": "code",
      "source": [
        "x = torch.tensor(linear_data[\"x\"])\n",
        "y = torch.tensor(linear_data[\"y\"])\n",
        "\n",
        "w = torch.rand(1)\n",
        "w.requires_grad_()\n",
        "losses = []\n",
        "\n",
        "def line(w, x):\n",
        "    return w[0] - lr*10\n",
        "\n",
        "# Define a loss function\n",
        "def loss(y, yhat):\n",
        "    return (y-yhat).pow(2).mean()\n",
        "\n",
        "for epoch in range(10):\n",
        "    yhat = line(w, x)\n",
        "    J = loss(y, yhat)\n",
        "    losses.append(float(J))\n",
        "    J.backward()\n",
        "\n",
        "    lr = 0.99\n",
        "    with torch.no_grad():\n",
        "        w.sub_(lr * w.grad)\n",
        "    w.grad.data.zero_()\n",
        "w.detach_()"
      ],
      "metadata": {
        "id": "V7KF3SZ6F6MA",
        "colab": {
          "base_uri": "https://localhost:8080/"
        },
        "outputId": "9f0ca99c-d3db-4a32-9b29-d4a6f54de42e"
      },
      "execution_count": null,
      "outputs": [
        {
          "output_type": "execute_result",
          "data": {
            "text/plain": [
              "tensor([2.3906])"
            ]
          },
          "metadata": {},
          "execution_count": 61
        }
      ]
    },
    {
      "cell_type": "code",
      "source": [
        "plt.plot(losses)"
      ],
      "metadata": {
        "colab": {
          "base_uri": "https://localhost:8080/",
          "height": 406
        },
        "id": "U6qdflKX74Kp",
        "outputId": "757c534e-9da9-4c0d-bca5-81d99afc7525"
      },
      "execution_count": null,
      "outputs": [
        {
          "output_type": "execute_result",
          "data": {
            "text/plain": [
              "[<matplotlib.lines.Line2D at 0x7892b02f3070>]"
            ]
          },
          "metadata": {},
          "execution_count": 62
        },
        {
          "output_type": "display_data",
          "data": {
            "text/plain": [
              "<Figure size 576x432 with 1 Axes>"
            ],
            "image/png": "[encoded data removed]"
          },
          "metadata": {}
        }
      ]
    },
    {
      "cell_type": "markdown",
      "source": [
        "Implement gradient descent with momentum, and compare how quickly the algorithm converges to a good answer for the data in Problem 1 when $\\beta = 0.01$ and $\\beta = 0.99$."
      ],
      "metadata": {
        "id": "5FSy00qjF6X6"
      }
    },
    {
      "cell_type": "code",
      "source": [],
      "metadata": {
        "id": "voZ-PpkUvfD0"
      },
      "execution_count": null,
      "outputs": []
    },
    {
      "cell_type": "markdown",
      "source": [
        "## 3. Maximization Problem\n",
        "\n",
        "In class, we've been working on the gradient *descent* algorithm, which helps us find the minimum of some function. But that's not what you always want to do. Sometimes you want the highest value of a function, like the maximum score in a game or the highest profit you can get.\n",
        "\n",
        "Below is the function $f(x) = \\ln x - x^2 + \\pi$.\n",
        "\n",
        "Modify our gradient descent algorithm so that you find the value of $x$ that gives you the largest possible $f$.\n",
        "* What is this value of $x$?\n",
        "* What is the maximum value of $f$?\n"
      ],
      "metadata": {
        "id": "yzORRyB7vkWS"
      }
    },
    {
      "cell_type": "code",
      "source": [
        "def f(x):\n",
        "    return torch.log(x)-torch.pow(x,2) + torch.pi"
      ],
      "metadata": {
        "id": "D-mgP3J3Svw-"
      },
      "execution_count": null,
      "outputs": []
    },
    {
      "cell_type": "code",
      "source": [
        "plot_function(f)"
      ],
      "metadata": {
        "colab": {
          "base_uri": "https://localhost:8080/",
          "height": 389
        },
        "id": "lrFTSWjE8-x-",
        "outputId": "123ea003-4c12-4f8c-c203-3bfeeb62d423"
      },
      "execution_count": null,
      "outputs": [
        {
          "output_type": "display_data",
          "data": {
            "text/plain": [
              "<Figure size 576x432 with 1 Axes>"
            ],
            "image/png": "[encoded data removed]"
          },
          "metadata": {}
        }
      ]
    },
    {
      "cell_type": "markdown",
      "source": [
        "Before you begin work, think very carefully:\n",
        "* What is the \"loss\" function here, the thing we want to optimize?\n",
        "* What are the parameters that you're trying to change?\n",
        "* Is there any \"data\" to put into some $x$ and $y$ variable?"
      ],
      "metadata": {
        "id": "dv777PkFJGUD"
      }
    },
    {
      "cell_type": "code",
      "source": [],
      "metadata": {
        "id": "grzHXnQkvtkp"
      },
      "execution_count": null,
      "outputs": []
    }
  ]
}