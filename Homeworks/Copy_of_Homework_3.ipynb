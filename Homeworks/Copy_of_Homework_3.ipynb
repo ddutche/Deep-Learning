{
  "nbformat": 4,
  "nbformat_minor": 0,
  "metadata": {
    "colab": {
      "provenance": []
    },
    "kernelspec": {
      "name": "python3",
      "display_name": "Python 3"
    },
    "language_info": {
      "name": "python"
    }
  },
  "cells": [
    {
      "cell_type": "markdown",
      "source": [
        "# Homework: Linear Regression\n",
        "\n",
        "## 00. Import Libraries"
      ],
      "metadata": {
        "id": "v7t0MRB3YeH4"
      }
    },
    {
      "cell_type": "code",
      "execution_count": null,
      "metadata": {
        "id": "dXrcH4xVIkT4"
      },
      "outputs": [],
      "source": []
    },
    {
      "cell_type": "markdown",
      "source": [
        "# 0. Problem Definition\n",
        "\n",
        "You are the data analyst acting on a taskforce exploring first-year retention rates at a college in NY state. \"Retention rate\" is defined as the percentage of students who return to school the fall following their freshman year. Your goal in this assignment is to build a model that predicts what the retention rate will be, and to identify and rank possible interventions.\n",
        "\n",
        "Data have been collected from the US government's [college scorecard](https://collegescorecard.ed.gov/data/) and columns cut down to a reasonable number, in the file `MERGED2019_20_PP.csv` found in the same folder as this file. The columns are:\n",
        "* `UNITID` an ID number for the institution\n",
        "* `OPEID` and `OPEID6` OPE ID numbers (8 and 6 digit) for the institution.\n",
        "* `INSTNM` College's name\n",
        "* `CITY` City where the college is located\n",
        "* `STABBR` State abbreviation\n",
        "* `ZIP` ZIP Code\n",
        "* `SCH_DEG` Degree primarily granted at that school. \"3\" means \"bachelors degrees\".\n",
        "* `MAIN` If the college has multiple locations, this is a 1 if it's the main campus.\n",
        "* `ADM_RATE` Acceptance rate.\n",
        "* `SAT_AVG` Average SAT score of students\n",
        "* `DISTANCE` This is a 1 if the school is online, 0 otherwise (this used to be called \"distance learning\").\n",
        "* `UGDS` Total number of undergraduate students.\n",
        "* `UDGS_*` Percentage of the student body that is white, black, or asian.\n",
        "* `PPTUG_EFF` Percentage of students who are part-time students.\n",
        "* `COST` Total cost, including tuition and fees.\n",
        "* `INEXPFTE` How much money the institution spends, per student.\n",
        "* `AVGFACSAL` Average faculty salary per month.\n",
        "* `PFTFAC` Percentage of the faculty that are part-time.\n",
        "* `PCTPELL` Percentage of students who are PELL Grant eligible\n",
        "* `RET_FT4` The retention rate.\n",
        "* `MED_EARN_WNE_P7` Median salary of former students 7 years after they begin their education (does not include students currently enrolled in graduate school).\n",
        "\n",
        "Yes, this is *after* Dr. Hallenbeck cut out 95% of the columns.\n"
      ],
      "metadata": {
        "id": "DWUDg5YGse4E"
      }
    },
    {
      "cell_type": "markdown",
      "source": [
        "## 1. Dataset and Preprocessing\n",
        "\n",
        "Load in the provided dataset into a variable called `college`."
      ],
      "metadata": {
        "id": "Od0OitZsr-mf"
      }
    },
    {
      "cell_type": "code",
      "source": [],
      "metadata": {
        "id": "EszErptysE_G"
      },
      "execution_count": null,
      "outputs": []
    },
    {
      "cell_type": "markdown",
      "source": [
        "Some of the columns in the dataset are \"junk\" that don't carry any useful value, and others are categorical data with far too many different categories (more than 20 or so). Remove these columns from the dataset."
      ],
      "metadata": {
        "id": "jTHc0_sQsPr4"
      }
    },
    {
      "cell_type": "code",
      "source": [],
      "metadata": {
        "id": "sTlS5wA9ItOu"
      },
      "execution_count": null,
      "outputs": []
    },
    {
      "cell_type": "markdown",
      "source": [
        "Let's focus only on institutions that primarily award bachelors degrees. Cut out all other schools."
      ],
      "metadata": {
        "id": "vNn6X4nCuYBy"
      }
    },
    {
      "cell_type": "code",
      "source": [],
      "metadata": {
        "id": "IcttGNGojyKj"
      },
      "execution_count": null,
      "outputs": []
    },
    {
      "cell_type": "markdown",
      "source": [
        "There were a lot of NAs in the dataset. To makethis homework possible, Dr. Hallenbeck wrote the code below to *impute* a lot of values in the dataset, by setting all of the missing values to the median for the column. Not doing this would have reduced the dataset to only 400 institutions. Run the code below to perform the imputing.\n",
        "\n",
        "Briefly, argue at least one bias introduced by either imputing or simply removing the missing data."
      ],
      "metadata": {
        "id": "gmUIZ7QPuect"
      }
    },
    {
      "cell_type": "code",
      "source": [
        "for c in college.columns:\n",
        "    if c in [\"STABBR\", \"RET_FT4\"]:\n",
        "        continue\n",
        "    college.loc[college[c].isna(), c] = college[c].median()"
      ],
      "metadata": {
        "id": "cWXMvy1OWA7h"
      },
      "execution_count": null,
      "outputs": []
    },
    {
      "cell_type": "markdown",
      "source": [
        "## 2. Linear Regression\n",
        "\n",
        "Produce a linear regression model predicting student retention rates, and print out the summary of the model."
      ],
      "metadata": {
        "id": "Bjp4q33svDgp"
      }
    },
    {
      "cell_type": "code",
      "source": [],
      "metadata": {
        "id": "Sdr8GrV9vRHP"
      },
      "execution_count": null,
      "outputs": []
    },
    {
      "cell_type": "markdown",
      "source": [
        "Does the variable for average SAT scores have a statistically significant contribution to the model? Why or why not?"
      ],
      "metadata": {
        "id": "Y1xiJBFtXROH"
      }
    },
    {
      "cell_type": "code",
      "source": [],
      "metadata": {
        "id": "P-xKNZEUXdpT"
      },
      "execution_count": null,
      "outputs": []
    },
    {
      "cell_type": "markdown",
      "source": [
        "Regardless of its statistical significance, interpret what the slope associated with average SAT score means."
      ],
      "metadata": {
        "id": "rFaPPDHCXVGp"
      }
    },
    {
      "cell_type": "code",
      "source": [],
      "metadata": {
        "id": "f9bdvgccXeOp"
      },
      "execution_count": null,
      "outputs": []
    },
    {
      "cell_type": "markdown",
      "source": [
        "As noted in the description above, the `distance` variable is properly a category, not a number, even though it is coded as 0 and 1 in the dataset itself. If we had forced it into being a string, so that we could make dummy variables out of it using `pd.get_dummies()`, what effect would that have had on either the output of the model or its interpretation?"
      ],
      "metadata": {
        "id": "kzMtcErtXVRC"
      }
    },
    {
      "cell_type": "code",
      "source": [],
      "metadata": {
        "id": "yRW0WplLXVgW"
      },
      "execution_count": null,
      "outputs": []
    },
    {
      "cell_type": "markdown",
      "source": [
        "Using the residuals, evaluate the quality of the model. Be explicit how you know what the issues or good qualities of it are."
      ],
      "metadata": {
        "id": "g4OY7sJYvRQb"
      }
    },
    {
      "cell_type": "code",
      "source": [],
      "metadata": {
        "id": "RHsKWrquvRwE"
      },
      "execution_count": null,
      "outputs": []
    },
    {
      "cell_type": "markdown",
      "source": [
        "How well does this model typically do at predicting retention rates? That is, what is the typical error?"
      ],
      "metadata": {
        "id": "3p3Z3cn8vbzv"
      }
    },
    {
      "cell_type": "code",
      "source": [],
      "metadata": {
        "id": "XVJbN-DTYs17"
      },
      "execution_count": null,
      "outputs": []
    },
    {
      "cell_type": "markdown",
      "source": [
        "## 3. Commentary and Analysis\n",
        "\n",
        "Several colleagues on the task force have made suggestions to you in what you should investigate. Respond to their statements. Be explicit in how you know what you do."
      ],
      "metadata": {
        "id": "ERYNXbpdvKBz"
      }
    },
    {
      "cell_type": "markdown",
      "source": [
        "**Professor Benjamins:** \"Our college has been relying on adjunct labor for too long. Retention rates are dropping because faculty are overworked. We should instead be focusing on converting part-time faculty to full-time, and increasing salaries across the board to attract and retain better instructors.\""
      ],
      "metadata": {
        "id": "0hXPmvAIwGZu"
      }
    },
    {
      "cell_type": "code",
      "source": [],
      "metadata": {
        "id": "EfSTPWlyURC9"
      },
      "execution_count": null,
      "outputs": []
    },
    {
      "cell_type": "markdown",
      "source": [
        "Let's assume Professor Benjamin's line of reasoning is correct. By how much would we expect the retention rate to change if the percentage of the faculty which were full-time was raised from 0.7 to 0.8?"
      ],
      "metadata": {
        "id": "d4U9f_uLUQ2V"
      }
    },
    {
      "cell_type": "code",
      "source": [],
      "metadata": {
        "id": "c0iDIQ-DUn8g"
      },
      "execution_count": null,
      "outputs": []
    },
    {
      "cell_type": "markdown",
      "source": [
        "**Dr. IHeartNY:** \"We are accepting too many students from New Jersey, who just aren't as good as the NY students and tend to leave for New Jersey -related reasons.\""
      ],
      "metadata": {
        "id": "UvEijGmUboXd"
      }
    },
    {
      "cell_type": "code",
      "source": [],
      "metadata": {
        "id": "uguUaAdbboLw"
      },
      "execution_count": null,
      "outputs": []
    },
    {
      "cell_type": "markdown",
      "source": [
        "**Dr. Octavius:** \"Our main campus is too large and intimidating to freshmen. We should focus on our smaller satellite campuses and helping students to transfer in after a year or two.\""
      ],
      "metadata": {
        "id": "CaX8svKbb3A7"
      }
    },
    {
      "cell_type": "code",
      "source": [],
      "metadata": {
        "id": "TE9U93jmb22A"
      },
      "execution_count": null,
      "outputs": []
    },
    {
      "cell_type": "markdown",
      "source": [
        "What factors related to race and social class seem to have a significant impact on retention rates?"
      ],
      "metadata": {
        "id": "pRlYHB0_VbDO"
      }
    },
    {
      "cell_type": "code",
      "source": [],
      "metadata": {
        "id": "4HoY1AGHVazt"
      },
      "execution_count": null,
      "outputs": []
    },
    {
      "cell_type": "markdown",
      "source": [
        "For two of the factors above, indicate the direction of the relationship, and how you know.\n",
        "\n",
        "For example, if average family income were a column, you might say \"the higher the average family income, the lower the retention rate, as seen by blah blah blah.\""
      ],
      "metadata": {
        "id": "J5KyKlWha3FB"
      }
    },
    {
      "cell_type": "code",
      "source": [],
      "metadata": {
        "id": "Ev7fgr8Ca3RV"
      },
      "execution_count": null,
      "outputs": []
    },
    {
      "cell_type": "markdown",
      "source": [
        "Suggest reasons for these connections. You will likely need to do some research on this. If you do, make sure to cite your sources in your answer."
      ],
      "metadata": {
        "id": "zb5bF98XVnbQ"
      }
    },
    {
      "cell_type": "code",
      "source": [],
      "metadata": {
        "id": "jiFFo1GrVnNo"
      },
      "execution_count": null,
      "outputs": []
    }
  ]
}