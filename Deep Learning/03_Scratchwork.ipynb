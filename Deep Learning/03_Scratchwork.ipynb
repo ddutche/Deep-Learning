{
  "nbformat": 4,
  "nbformat_minor": 0,
  "metadata": {
    "colab": {
      "provenance": []
    },
    "kernelspec": {
      "name": "python3",
      "display_name": "Python 3"
    },
    "language_info": {
      "name": "python"
    }
  },
  "cells": [
    {
      "cell_type": "code",
      "source": [
        "from ipywidgets import interact\n",
        "from fastai.basics import *\n",
        "import torch\n",
        "from fastai.tabular.all import *\n",
        "\n",
        "# Now we don't need to use plt.show()\n",
        "%matplotlib inline\n",
        "\n",
        "# Makes the figure output a bit smaller\n",
        "plt.rc('figure', dpi=90)\n",
        "\n",
        "# A helper function to plot generic functions\n",
        "def plot_function(f, title=None, min=-2.1, max=2.1, color='r', ylim=None, xlab=None, ylab=None):\n",
        "    x = torch.linspace(min,max, 100)[:,None]\n",
        "    if ylim is not None: plt.ylim(ylim)\n",
        "    plt.plot(x, f(x), color)\n",
        "    if title is not None: plt.title(title)\n",
        "    if xlab is not None: plt.xlabel(xlab)\n",
        "    if ylab is not None: plt.ylabel(ylab)\n",
        "    plt.show()"
      ],
      "metadata": {
        "id": "0T4eJ_6RYjpU"
      },
      "execution_count": null,
      "outputs": []
    },
    {
      "cell_type": "code",
      "execution_count": null,
      "metadata": {
        "colab": {
          "base_uri": "https://localhost:8080/",
          "height": 143
        },
        "id": "ZzneWkU1YXdg",
        "outputId": "caee0019-258e-4ab6-d04d-7b59859f24d4"
      },
      "outputs": [
        {
          "output_type": "execute_result",
          "data": {
            "text/plain": [
              "   age     sex    bmi  children smoker     region     charges\n",
              "0   19  female  27.90         0    yes  southwest  16884.9240\n",
              "1   18    male  33.77         1     no  southeast   1725.5523\n",
              "2   28    male  33.00         3     no  southeast   4449.4620"
            ],
            "text/html": [
              "\n",
              "  <div id=\"df-0c0d5fce-2219-46a0-b842-3f66be551ec3\" class=\"colab-df-container\">\n",
              "    <div>\n",
              "<style scoped>\n",
              "    .dataframe tbody tr th:only-of-type {\n",
              "        vertical-align: middle;\n",
              "    }\n",
              "\n",
              "    .dataframe tbody tr th {\n",
              "        vertical-align: top;\n",
              "    }\n",
              "\n",
              "    .dataframe thead th {\n",
              "        text-align: right;\n",
              "    }\n",
              "</style>\n",
              "<table border=\"1\" class=\"dataframe\">\n",
              "  <thead>\n",
              "    <tr style=\"text-align: right;\">\n",
              "      <th></th>\n",
              "      <th>age</th>\n",
              "      <th>sex</th>\n",
              "      <th>bmi</th>\n",
              "      <th>children</th>\n",
              "      <th>smoker</th>\n",
              "      <th>region</th>\n",
              "      <th>charges</th>\n",
              "    </tr>\n",
              "  </thead>\n",
              "  <tbody>\n",
              "    <tr>\n",
              "      <th>0</th>\n",
              "      <td>19</td>\n",
              "      <td>female</td>\n",
              "      <td>27.90</td>\n",
              "      <td>0</td>\n",
              "      <td>yes</td>\n",
              "      <td>southwest</td>\n",
              "      <td>16884.9240</td>\n",
              "    </tr>\n",
              "    <tr>\n",
              "      <th>1</th>\n",
              "      <td>18</td>\n",
              "      <td>male</td>\n",
              "      <td>33.77</td>\n",
              "      <td>1</td>\n",
              "      <td>no</td>\n",
              "      <td>southeast</td>\n",
              "      <td>1725.5523</td>\n",
              "    </tr>\n",
              "    <tr>\n",
              "      <th>2</th>\n",
              "      <td>28</td>\n",
              "      <td>male</td>\n",
              "      <td>33.00</td>\n",
              "      <td>3</td>\n",
              "      <td>no</td>\n",
              "      <td>southeast</td>\n",
              "      <td>4449.4620</td>\n",
              "    </tr>\n",
              "  </tbody>\n",
              "</table>\n",
              "</div>\n",
              "    <div class=\"colab-df-buttons\">\n",
              "\n",
              "  <div class=\"colab-df-container\">\n",
              "    <button class=\"colab-df-convert\" onclick=\"convertToInteractive('df-0c0d5fce-2219-46a0-b842-3f66be551ec3')\"\n",
              "            title=\"Convert this dataframe to an interactive table.\"\n",
              "            style=\"display:none;\">\n",
              "\n",
              "  <svg xmlns=\"http://www.w3.org/2000/svg\" height=\"24px\" viewBox=\"0 -960 960 960\">\n",
              "    <path d=\"M120-120v-720h720v720H120Zm60-500h600v-160H180v160Zm220 220h160v-160H400v160Zm0 220h160v-160H400v160ZM180-400h160v-160H180v160Zm440 0h160v-160H620v160ZM180-180h160v-160H180v160Zm440 0h160v-160H620v160Z\"/>\n",
              "  </svg>\n",
              "    </button>\n",
              "\n",
              "  <style>\n",
              "    .colab-df-container {\n",
              "      display:flex;\n",
              "      gap: 12px;\n",
              "    }\n",
              "\n",
              "    .colab-df-convert {\n",
              "      background-color: #E8F0FE;\n",
              "      border: none;\n",
              "      border-radius: 50%;\n",
              "      cursor: pointer;\n",
              "      display: none;\n",
              "      fill: #1967D2;\n",
              "      height: 32px;\n",
              "      padding: 0 0 0 0;\n",
              "      width: 32px;\n",
              "    }\n",
              "\n",
              "    .colab-df-convert:hover {\n",
              "      background-color: #E2EBFA;\n",
              "      box-shadow: 0px 1px 2px rgba(60, 64, 67, 0.3), 0px 1px 3px 1px rgba(60, 64, 67, 0.15);\n",
              "      fill: #174EA6;\n",
              "    }\n",
              "\n",
              "    .colab-df-buttons div {\n",
              "      margin-bottom: 4px;\n",
              "    }\n",
              "\n",
              "    [theme=dark] .colab-df-convert {\n",
              "      background-color: #3B4455;\n",
              "      fill: #D2E3FC;\n",
              "    }\n",
              "\n",
              "    [theme=dark] .colab-df-convert:hover {\n",
              "      background-color: #434B5C;\n",
              "      box-shadow: 0px 1px 3px 1px rgba(0, 0, 0, 0.15);\n",
              "      filter: drop-shadow(0px 1px 2px rgba(0, 0, 0, 0.3));\n",
              "      fill: #FFFFFF;\n",
              "    }\n",
              "  </style>\n",
              "\n",
              "    <script>\n",
              "      const buttonEl =\n",
              "        document.querySelector('#df-0c0d5fce-2219-46a0-b842-3f66be551ec3 button.colab-df-convert');\n",
              "      buttonEl.style.display =\n",
              "        google.colab.kernel.accessAllowed ? 'block' : 'none';\n",
              "\n",
              "      async function convertToInteractive(key) {\n",
              "        const element = document.querySelector('#df-0c0d5fce-2219-46a0-b842-3f66be551ec3');\n",
              "        const dataTable =\n",
              "          await google.colab.kernel.invokeFunction('convertToInteractive',\n",
              "                                                    [key], {});\n",
              "        if (!dataTable) return;\n",
              "\n",
              "        const docLinkHtml = 'Like what you see? Visit the ' +\n",
              "          '<a target=\"_blank\" href=https://colab.research.google.com/notebooks/data_table.ipynb>data table notebook</a>'\n",
              "          + ' to learn more about interactive tables.';\n",
              "        element.innerHTML = '';\n",
              "        dataTable['output_type'] = 'display_data';\n",
              "        await google.colab.output.renderOutput(dataTable, element);\n",
              "        const docLink = document.createElement('div');\n",
              "        docLink.innerHTML = docLinkHtml;\n",
              "        element.appendChild(docLink);\n",
              "      }\n",
              "    </script>\n",
              "  </div>\n",
              "\n",
              "\n",
              "<div id=\"df-17689398-67da-4c60-8b3e-6541d9ef2632\">\n",
              "  <button class=\"colab-df-quickchart\" onclick=\"quickchart('df-17689398-67da-4c60-8b3e-6541d9ef2632')\"\n",
              "            title=\"Suggest charts\"\n",
              "            style=\"display:none;\">\n",
              "\n",
              "<svg xmlns=\"http://www.w3.org/2000/svg\" height=\"24px\"viewBox=\"0 0 24 24\"\n",
              "     width=\"24px\">\n",
              "    <g>\n",
              "        <path d=\"M19 3H5c-1.1 0-2 .9-2 2v14c0 1.1.9 2 2 2h14c1.1 0 2-.9 2-2V5c0-1.1-.9-2-2-2zM9 17H7v-7h2v7zm4 0h-2V7h2v10zm4 0h-2v-4h2v4z\"/>\n",
              "    </g>\n",
              "</svg>\n",
              "  </button>\n",
              "\n",
              "<style>\n",
              "  .colab-df-quickchart {\n",
              "      --bg-color: #E8F0FE;\n",
              "      --fill-color: #1967D2;\n",
              "      --hover-bg-color: #E2EBFA;\n",
              "      --hover-fill-color: #174EA6;\n",
              "      --disabled-fill-color: #AAA;\n",
              "      --disabled-bg-color: #DDD;\n",
              "  }\n",
              "\n",
              "  [theme=dark] .colab-df-quickchart {\n",
              "      --bg-color: #3B4455;\n",
              "      --fill-color: #D2E3FC;\n",
              "      --hover-bg-color: #434B5C;\n",
              "      --hover-fill-color: #FFFFFF;\n",
              "      --disabled-bg-color: #3B4455;\n",
              "      --disabled-fill-color: #666;\n",
              "  }\n",
              "\n",
              "  .colab-df-quickchart {\n",
              "    background-color: var(--bg-color);\n",
              "    border: none;\n",
              "    border-radius: 50%;\n",
              "    cursor: pointer;\n",
              "    display: none;\n",
              "    fill: var(--fill-color);\n",
              "    height: 32px;\n",
              "    padding: 0;\n",
              "    width: 32px;\n",
              "  }\n",
              "\n",
              "  .colab-df-quickchart:hover {\n",
              "    background-color: var(--hover-bg-color);\n",
              "    box-shadow: 0 1px 2px rgba(60, 64, 67, 0.3), 0 1px 3px 1px rgba(60, 64, 67, 0.15);\n",
              "    fill: var(--button-hover-fill-color);\n",
              "  }\n",
              "\n",
              "  .colab-df-quickchart-complete:disabled,\n",
              "  .colab-df-quickchart-complete:disabled:hover {\n",
              "    background-color: var(--disabled-bg-color);\n",
              "    fill: var(--disabled-fill-color);\n",
              "    box-shadow: none;\n",
              "  }\n",
              "\n",
              "  .colab-df-spinner {\n",
              "    border: 2px solid var(--fill-color);\n",
              "    border-color: transparent;\n",
              "    border-bottom-color: var(--fill-color);\n",
              "    animation:\n",
              "      spin 1s steps(1) infinite;\n",
              "  }\n",
              "\n",
              "  @keyframes spin {\n",
              "    0% {\n",
              "      border-color: transparent;\n",
              "      border-bottom-color: var(--fill-color);\n",
              "      border-left-color: var(--fill-color);\n",
              "    }\n",
              "    20% {\n",
              "      border-color: transparent;\n",
              "      border-left-color: var(--fill-color);\n",
              "      border-top-color: var(--fill-color);\n",
              "    }\n",
              "    30% {\n",
              "      border-color: transparent;\n",
              "      border-left-color: var(--fill-color);\n",
              "      border-top-color: var(--fill-color);\n",
              "      border-right-color: var(--fill-color);\n",
              "    }\n",
              "    40% {\n",
              "      border-color: transparent;\n",
              "      border-right-color: var(--fill-color);\n",
              "      border-top-color: var(--fill-color);\n",
              "    }\n",
              "    60% {\n",
              "      border-color: transparent;\n",
              "      border-right-color: var(--fill-color);\n",
              "    }\n",
              "    80% {\n",
              "      border-color: transparent;\n",
              "      border-right-color: var(--fill-color);\n",
              "      border-bottom-color: var(--fill-color);\n",
              "    }\n",
              "    90% {\n",
              "      border-color: transparent;\n",
              "      border-bottom-color: var(--fill-color);\n",
              "    }\n",
              "  }\n",
              "</style>\n",
              "\n",
              "  <script>\n",
              "    async function quickchart(key) {\n",
              "      const quickchartButtonEl =\n",
              "        document.querySelector('#' + key + ' button');\n",
              "      quickchartButtonEl.disabled = true;  // To prevent multiple clicks.\n",
              "      quickchartButtonEl.classList.add('colab-df-spinner');\n",
              "      try {\n",
              "        const charts = await google.colab.kernel.invokeFunction(\n",
              "            'suggestCharts', [key], {});\n",
              "      } catch (error) {\n",
              "        console.error('Error during call to suggestCharts:', error);\n",
              "      }\n",
              "      quickchartButtonEl.classList.remove('colab-df-spinner');\n",
              "      quickchartButtonEl.classList.add('colab-df-quickchart-complete');\n",
              "    }\n",
              "    (() => {\n",
              "      let quickchartButtonEl =\n",
              "        document.querySelector('#df-17689398-67da-4c60-8b3e-6541d9ef2632 button');\n",
              "      quickchartButtonEl.style.display =\n",
              "        google.colab.kernel.accessAllowed ? 'block' : 'none';\n",
              "    })();\n",
              "  </script>\n",
              "</div>\n",
              "\n",
              "    </div>\n",
              "  </div>\n"
            ],
            "application/vnd.google.colaboratory.intrinsic+json": {
              "type": "dataframe",
              "summary": "{\n  \"name\": \"#seperate columns, we do this by getting dummy variables\",\n  \"rows\": 3,\n  \"fields\": [\n    {\n      \"column\": \"age\",\n      \"properties\": {\n        \"dtype\": \"number\",\n        \"std\": 5,\n        \"min\": 18,\n        \"max\": 28,\n        \"num_unique_values\": 3,\n        \"samples\": [\n          19,\n          18,\n          28\n        ],\n        \"semantic_type\": \"\",\n        \"description\": \"\"\n      }\n    },\n    {\n      \"column\": \"sex\",\n      \"properties\": {\n        \"dtype\": \"string\",\n        \"num_unique_values\": 2,\n        \"samples\": [\n          \"male\",\n          \"female\"\n        ],\n        \"semantic_type\": \"\",\n        \"description\": \"\"\n      }\n    },\n    {\n      \"column\": \"bmi\",\n      \"properties\": {\n        \"dtype\": \"number\",\n        \"std\": 3.190083593471078,\n        \"min\": 27.9,\n        \"max\": 33.77,\n        \"num_unique_values\": 3,\n        \"samples\": [\n          27.9,\n          33.77\n        ],\n        \"semantic_type\": \"\",\n        \"description\": \"\"\n      }\n    },\n    {\n      \"column\": \"children\",\n      \"properties\": {\n        \"dtype\": \"number\",\n        \"std\": 1,\n        \"min\": 0,\n        \"max\": 3,\n        \"num_unique_values\": 3,\n        \"samples\": [\n          0,\n          1\n        ],\n        \"semantic_type\": \"\",\n        \"description\": \"\"\n      }\n    },\n    {\n      \"column\": \"smoker\",\n      \"properties\": {\n        \"dtype\": \"string\",\n        \"num_unique_values\": 2,\n        \"samples\": [\n          \"no\",\n          \"yes\"\n        ],\n        \"semantic_type\": \"\",\n        \"description\": \"\"\n      }\n    },\n    {\n      \"column\": \"region\",\n      \"properties\": {\n        \"dtype\": \"string\",\n        \"num_unique_values\": 2,\n        \"samples\": [\n          \"southeast\",\n          \"southwest\"\n        ],\n        \"semantic_type\": \"\",\n        \"description\": \"\"\n      }\n    },\n    {\n      \"column\": \"charges\",\n      \"properties\": {\n        \"dtype\": \"number\",\n        \"std\": 8081.531925177294,\n        \"min\": 1725.5523,\n        \"max\": 16884.924,\n        \"num_unique_values\": 3,\n        \"samples\": [\n          16884.924,\n          1725.5523\n        ],\n        \"semantic_type\": \"\",\n        \"description\": \"\"\n      }\n    }\n  ]\n}"
            }
          },
          "metadata": {},
          "execution_count": 96
        }
      ],
      "source": [
        "insurance = pd.read_csv(\"https://raw.githubusercontent.com/Greg-Hallenbeck/class-datasets/main/datasets/insurance.csv\")\n",
        "\n",
        "insurance.head(3) #Right now region has too many options to convert to 0,1. What we can do instead is change the different regions into\n",
        "#seperate columns, we do this by getting dummy variables"
      ]
    },
    {
      "cell_type": "code",
      "source": [
        "insurance = pd.get_dummies(insurance) #making dummy variables to eventually get everything into binary 0,1\n",
        "insurance = insurance/insurance.max()"
      ],
      "metadata": {
        "id": "X7ZypWOOYtFO"
      },
      "execution_count": null,
      "outputs": []
    },
    {
      "cell_type": "code",
      "source": [
        "y = insurance.pop(\"charges\")\n",
        "x = insurance"
      ],
      "metadata": {
        "id": "x3jpK7_nZNVC"
      },
      "execution_count": null,
      "outputs": []
    },
    {
      "cell_type": "code",
      "source": [
        "x = torch.tensor(x.values.astype(np.float32))  #Making these into lists of values\n",
        "y = torch.tensor(y)"
      ],
      "metadata": {
        "id": "L49LOkx1ZleH"
      },
      "execution_count": null,
      "outputs": []
    },
    {
      "cell_type": "code",
      "source": [
        "x.size() #Theres 1338 entries in the dataset with 11 columns\n"
      ],
      "metadata": {
        "colab": {
          "base_uri": "https://localhost:8080/"
        },
        "id": "gV5a2A_WaWPJ",
        "outputId": "06450f16-63dd-4326-b831-4618dbcd0a16"
      },
      "execution_count": null,
      "outputs": [
        {
          "output_type": "execute_result",
          "data": {
            "text/plain": [
              "torch.Size([1338, 11])"
            ]
          },
          "metadata": {},
          "execution_count": 101
        }
      ]
    },
    {
      "cell_type": "code",
      "source": [
        "w = torch.rand(11) # one w for each column in the dataframe\n",
        "\n",
        "b = torch.rand(1) # one b"
      ],
      "metadata": {
        "id": "qg0yuMGQad61"
      },
      "execution_count": null,
      "outputs": []
    },
    {
      "cell_type": "code",
      "source": [
        "\n",
        "# def tensor_linear(w,b,x):\n",
        "#   return b + (w*x).sum(dim=1)\n",
        "\n",
        "# def tensor_layer(w,b,x):\n",
        "#   return b + x @ w # @ = matrix multiplication\n",
        "\n",
        "# def relu(x):\n",
        "#   return torch.where(x>0,x,0) #If X > 0 return x, otherwise return 0\n",
        "\n",
        "# def predict(w,b,wout,bout,x):\n",
        "#   #R = number of hidden nodes\n",
        "#   #1 is the number of outputs\n",
        "#   #M = the number of columns of X\n",
        "#   #d = the number of datapoints (rows of X)\n",
        "\n",
        "#   #w is M x R (M by R)\n",
        "#   #b is 1 x R (R by 1)\n",
        "\n",
        "#   #x is d x M\n",
        "#   #yhat is d x 1\n",
        "\n",
        "\n",
        "#   #calcuklate activations\n",
        "#   a = tensor_layer(w,b,x)\n",
        "#   #Pass through relu\n",
        "#   z = relu(a)\n",
        "\n",
        "#   #What are the dimensions of a and z\n",
        "#   #a is d rows by R columns\n",
        "\n",
        "#   # z is d rows by R columns since changing X to 0 doesnt get rid of X\n",
        "\n",
        "#   # Anything storing the data must have \"d\" rows (d being the number of data points or rows of X)\n",
        "\n",
        "#   # The X's going down are the columns , and in this function we have \"M\" of them, making for \"R\" activations\n",
        "\n",
        "#   # X1      a/z1\n",
        "#   # X2      a/z2\n",
        "#   # .\n",
        "#   # .\n",
        "#   # .\n",
        "#   # XM      a/zR\n",
        "\n",
        "#   # What should the dimensions of yhat be?\n",
        "#   # yhat is dn x 1\n",
        "\n",
        "#   # a1 = b1 + x1w1 + x2w2 +x3w3... (intecept plus column multipled by slope for that column)\n",
        "\n",
        "#   # yhat = bout + wout * z1 + wout * z2 + ...\n",
        "\n",
        "#   #wout is R x 1 entries\n",
        "\n",
        "#   #bout is 1 x 1 (a scalar)\n",
        "\n",
        "#   #In general, w is (previous layer size) x (next layer size)\n",
        "#   #and b is (next layer size)\n",
        "\n",
        "#   #For example... 3 x layers, with 13 activations would be 3x13 ws, then from activations to zs there might be 40 zs so thered be 13 x 40 ws\n",
        "\n",
        "#   yhat = tensor_linear(wout,bout,z)\n",
        "\n",
        "# def loss(y, yhat):\n",
        "#   return (y-yhat).pow(2).sum()"
      ],
      "metadata": {
        "id": "RPSAeOQUg3pZ"
      },
      "execution_count": null,
      "outputs": []
    },
    {
      "cell_type": "code",
      "source": [
        "#def tensor_linear(w, b, x):\n",
        "# Make a function of the form yhat = b + w_1 x_1 + w_2 x_2 + ...\n",
        "\n",
        "def tensor_linear(w,b, x):\n",
        "    return b + (w*x).sum(dim=1)\n",
        "\n",
        "def tensor_layer(w,b, x):\n",
        "    return b + x @ w # @ = matrix multiplication\n",
        "\n",
        "def relu(x):\n",
        "    return torch.where(x > 0, x, 0)\n",
        "\n",
        "def predict(w, b, wout, bout, x):\n",
        "    # R = number of hidden nodes\n",
        "    # 1 = the number of outputs\n",
        "    # M = the number of columns of X\n",
        "    # d = the number of data points (rows of X)\n",
        "\n",
        "    # w is M x R\n",
        "    # b is R\n",
        "\n",
        "    # x is d x M\n",
        "    # yhat is d x 1\n",
        "\n",
        "    # Calculate activations\n",
        "    a = tensor_layer(w, b, x)\n",
        "    # Pass through the relu\n",
        "    z = relu(a)\n",
        "\n",
        "    # What are the dimensions of a and z?\n",
        "    # a is d x R\n",
        "    # z is d x R\n",
        "\n",
        "    # What should the dimensions of yhat be?\n",
        "    # yhat is d x 1\n",
        "\n",
        "    # What should the dimensions of wout and bout be?\n",
        "    # wout is R x 1\n",
        "    # bout is 1\n",
        "\n",
        "    # In general, w is (previous layer size) x (next layer size)\n",
        "    # and b is (next layer size)\n",
        "\n",
        "    # yhat = bout + wout1 * z1 + wout2 * z2 + ...\n",
        "    yhat = tensor_linear(wout, bout, z)\n",
        "\n",
        "    return yhat\n",
        "\n",
        "\n",
        "\n",
        "def loss(y, yhat):\n",
        "    return (y-yhat).pow(2).mean()"
      ],
      "metadata": {
        "id": "pCyvxSfW9Wte"
      },
      "execution_count": null,
      "outputs": []
    },
    {
      "cell_type": "code",
      "source": [
        "# Let's test the predict function\n",
        "# To make sure everything is working\n",
        "\n",
        "R = 40\n",
        "M = x.size()[1] # 11\n",
        "d = x.size()[0] # 1338\n",
        "\n",
        "w = torch.rand(M, R).requires_grad_()\n",
        "b = torch.rand(R).requires_grad_()\n",
        "\n",
        "wout = torch.rand(R).requires_grad_()\n",
        "bout = torch.rand(1).requires_grad_()\n",
        "\n",
        "predict(w, b, wout, bout, x).size()"
      ],
      "metadata": {
        "colab": {
          "base_uri": "https://localhost:8080/"
        },
        "id": "jAhYRzbT1oS4",
        "outputId": "96a81ca2-526d-4002-c21c-ee8ca53a9b1a"
      },
      "execution_count": null,
      "outputs": [
        {
          "output_type": "execute_result",
          "data": {
            "text/plain": [
              "torch.Size([1338])"
            ]
          },
          "metadata": {},
          "execution_count": 105
        }
      ]
    },
    {
      "cell_type": "code",
      "source": [
        "#Make a function of the form yhat = b + w_1 x_1 + w_2 x_2\n",
        "\n",
        "#yhat = b +  w[0]*x[0] + w[1]*x[1] ... <---- Could do this but takes a long time\n",
        "\n",
        "dataset = list(zip(x,y))\n",
        "dl = DataLoader(dataset, batch_size=100, shuffle=True)\n",
        "\n",
        "# Initialize parameters\n",
        "\n",
        "\n",
        "\n",
        "# Keep track of the losses\n",
        "\n",
        "num_epochs = 100\n",
        "lr = 3e-2\n",
        "losses = []\n",
        "\n",
        "# for e in range(num_epochs):\n",
        "#     losses.append(0)\n",
        "\n",
        "#     # New loop over each observation\n",
        "#     for step, (x,y) in enumerate(dl):\n",
        "\n",
        "#         # Calculate the predicted value\n",
        "#         yhat = tensor_linear(w, b, x)\n",
        "\n",
        "#         # Calculate approximate Loss\n",
        "#         J = loss(y, yhat)\n",
        "#         losses[-1] += float(J/len(dl))\n",
        "\n",
        "#         J.backward()\n",
        "#         with torch.no_grad():\n",
        "#             w.sub_(lr*w.grad)\n",
        "#             b.sub_(lr*b.grad)\n",
        "\n",
        "#         w.grad.data.zero_()\n",
        "#         b.grad.data.zero_()\n",
        "\n",
        "#dataset = list(zip(x,y))\n",
        "#dl = DataLoader(dataset, batch_size=100, shuffle=True)\n",
        "\n",
        "# Initialize parameters\n",
        "#w = torch.rand(11).requires_grad_()\n",
        "#b = torch.rand(1).requires_grad_()\n",
        "\n",
        "\n",
        "# Keep track of the losses\n",
        "\n",
        "for e in range(num_epochs):\n",
        "\n",
        "    # Calculate the predicted value\n",
        "    yhat = predict(w, b, wout, bout, x)\n",
        "\n",
        "    # Calculate approximate Loss\n",
        "    J = loss(y, yhat)\n",
        "    losses.append(float(J))\n",
        "\n",
        "    J.backward()\n",
        "    with torch.no_grad():\n",
        "        w.sub_(lr*w.grad)\n",
        "        b.sub_(lr*b.grad)\n",
        "        wout.sub_(lr*wout.grad)\n",
        "        bout.sub_(lr*bout.grad)\n",
        "\n",
        "    w.grad.data.zero_()\n",
        "    b.grad.data.zero_()\n",
        "    wout.grad.data.zero_()\n",
        "    bout.grad.data.zero_()"
      ],
      "metadata": {
        "id": "C_bajh-UZ8MW"
      },
      "execution_count": null,
      "outputs": []
    },
    {
      "cell_type": "code",
      "source": [
        "w.detach_()\n",
        "b.detach_()\n",
        "\n",
        "# yhat = tensor_linear(w, b, x)\n",
        "# J = loss(y, yhat)"
      ],
      "metadata": {
        "id": "tj_akCKOeB0k",
        "colab": {
          "base_uri": "https://localhost:8080/"
        },
        "outputId": "614dada2-f980-437c-ec86-530d767e8a9a"
      },
      "execution_count": null,
      "outputs": [
        {
          "output_type": "execute_result",
          "data": {
            "text/plain": [
              "tensor([ -1.9898,  -1.4289,  -1.8542, -42.8558, -31.5195,  -0.7333,  -2.1572,\n",
              "         -6.1762,  -1.0328, -71.4092,  -2.3899,  -2.2191, -12.5571,  -2.0615,\n",
              "        -56.0981, -53.7420,  -1.9733, -36.8226,  -1.5898,  -1.6685,  -1.2433,\n",
              "         -1.6831,  -3.1864,  -2.6525,  -1.2169,  -1.9769,  -1.3405, -13.8196,\n",
              "        -67.2370,  -2.1681, -66.5595,  -1.7568, -72.5968,  -2.1069, -35.8210,\n",
              "        -56.0192,  -2.1013,  -2.3830,  -2.1661,  -1.0482])"
            ]
          },
          "metadata": {},
          "execution_count": 108
        }
      ]
    },
    {
      "cell_type": "code",
      "source": [
        "plt.plot(losses)\n",
        "plt.xlabel(\"Epoch\")\n",
        "plt.ylabel(\"Loss\")\n",
        "plt.yscale(\"log\")\n",
        "plt.show()"
      ],
      "metadata": {
        "colab": {
          "base_uri": "https://localhost:8080/",
          "height": 407
        },
        "id": "_rFXRaqmeGl9",
        "outputId": "e1f3d1a9-bbf8-4f2e-de70-803a35cc5d17"
      },
      "execution_count": null,
      "outputs": [
        {
          "output_type": "display_data",
          "data": {
            "text/plain": [
              "<Figure size 576x432 with 1 Axes>"
            ],
            "image/png": "[encoded data removed]"
          },
          "metadata": {}
        }
      ]
    },
    {
      "cell_type": "code",
      "source": [
        "print(torch.std(y-yhat)) #(error, dtype)"
      ],
      "metadata": {
        "colab": {
          "base_uri": "https://localhost:8080/"
        },
        "id": "Uuc-idAvej3z",
        "outputId": "5ec22cab-6c3f-4003-c0d3-d8c107970bc3"
      },
      "execution_count": null,
      "outputs": [
        {
          "output_type": "stream",
          "name": "stdout",
          "text": [
            "tensor(nan, dtype=torch.float64)\n"
          ]
        }
      ]
    },
    {
      "cell_type": "code",
      "source": [
        "plt.scatter(yhat, y-yhat)\n",
        "plt.xlabel(\"Predicted Value\")\n",
        "plt.ylabel(\"Residual (Error)\")\n"
      ],
      "metadata": {
        "colab": {
          "base_uri": "https://localhost:8080/",
          "height": 424
        },
        "id": "r8M07tpSfOf2",
        "outputId": "b8587c4c-2e3b-4d83-b588-677a93165560"
      },
      "execution_count": null,
      "outputs": [
        {
          "output_type": "execute_result",
          "data": {
            "text/plain": [
              "Text(0, 0.5, 'Residual (Error)')"
            ]
          },
          "metadata": {},
          "execution_count": 79
        },
        {
          "output_type": "display_data",
          "data": {
            "text/plain": [
              "<Figure size 576x432 with 1 Axes>"
            ],
            "image/png": "[encoded data removed]"
          },
          "metadata": {}
        }
      ]
    },
    {
      "cell_type": "code",
      "source": [],
      "metadata": {
        "id": "OiOsjwDk_6DO"
      },
      "execution_count": null,
      "outputs": []
    },
    {
      "cell_type": "code",
      "source": [
        "#Equation Logic\n",
        "\n",
        "\n",
        "a = torch.tensor([1,2,4]) #We can multiply tensors\n",
        "b = torch.tensor([0,1,3])"
      ],
      "metadata": {
        "id": "0c-bdwPfak9D"
      },
      "execution_count": null,
      "outputs": []
    },
    {
      "cell_type": "code",
      "source": [
        "a*b + 4 #And add something to each value"
      ],
      "metadata": {
        "colab": {
          "base_uri": "https://localhost:8080/"
        },
        "id": "UflwHkpRbAQy",
        "outputId": "a0af8c88-3463-4a09-8b5b-aed063ccdf35"
      },
      "execution_count": null,
      "outputs": [
        {
          "output_type": "execute_result",
          "data": {
            "text/plain": [
              "tensor([ 4,  6, 16])"
            ]
          },
          "metadata": {},
          "execution_count": 65
        }
      ]
    },
    {
      "cell_type": "code",
      "source": [
        "#We can do the same thing with yhat since these are tensors\n",
        "\n",
        "yhat = b + (w*x).sum(dim = 1) #Allows us to add down an entire column instead of all the columns (dim = 0 would add across rows)\n",
        "print(yhat)\n",
        "\n",
        "print(yhat.size()) #Y hat is now 1338 rows by 1 column (the charge column)"
      ],
      "metadata": {
        "colab": {
          "base_uri": "https://localhost:8080/",
          "height": 211
        },
        "id": "zWtrlDfWbJ1J",
        "outputId": "de9646fa-2a5e-44f4-9b3a-42b834bcd45f"
      },
      "execution_count": null,
      "outputs": [
        {
          "output_type": "error",
          "ename": "RuntimeError",
          "evalue": "The size of tensor a (3) must match the size of tensor b (1338) at non-singleton dimension 0",
          "traceback": [
            "\u001b[0;31m---------------------------------------------------------------------------\u001b[0m",
            "\u001b[0;31mRuntimeError\u001b[0m                              Traceback (most recent call last)",
            "\u001b[0;32m<ipython-input-67-ba758f9291bd>\u001b[0m in \u001b[0;36m<cell line: 3>\u001b[0;34m()\u001b[0m\n\u001b[1;32m      1\u001b[0m \u001b[0;31m#We can do the same thing with yhat since these are tensors\u001b[0m\u001b[0;34m\u001b[0m\u001b[0;34m\u001b[0m\u001b[0m\n\u001b[1;32m      2\u001b[0m \u001b[0;34m\u001b[0m\u001b[0m\n\u001b[0;32m----> 3\u001b[0;31m \u001b[0myhat\u001b[0m \u001b[0;34m=\u001b[0m \u001b[0mb\u001b[0m \u001b[0;34m+\u001b[0m \u001b[0;34m(\u001b[0m\u001b[0mw\u001b[0m\u001b[0;34m*\u001b[0m\u001b[0mx\u001b[0m\u001b[0;34m)\u001b[0m\u001b[0;34m.\u001b[0m\u001b[0msum\u001b[0m\u001b[0;34m(\u001b[0m\u001b[0mdim\u001b[0m \u001b[0;34m=\u001b[0m \u001b[0;36m1\u001b[0m\u001b[0;34m)\u001b[0m \u001b[0;31m#Allows us to add down an entire column instead of all the columns (dim = 0 would add across rows)\u001b[0m\u001b[0;34m\u001b[0m\u001b[0;34m\u001b[0m\u001b[0m\n\u001b[0m\u001b[1;32m      4\u001b[0m \u001b[0mprint\u001b[0m\u001b[0;34m(\u001b[0m\u001b[0myhat\u001b[0m\u001b[0;34m)\u001b[0m\u001b[0;34m\u001b[0m\u001b[0;34m\u001b[0m\u001b[0m\n\u001b[1;32m      5\u001b[0m \u001b[0;34m\u001b[0m\u001b[0m\n",
            "\u001b[0;31mRuntimeError\u001b[0m: The size of tensor a (3) must match the size of tensor b (1338) at non-singleton dimension 0"
          ]
        }
      ]
    },
    {
      "cell_type": "code",
      "source": [
        "#Now we're adding a non-linear layer to the data\n",
        "\n",
        "# w linearly was 11 entires long, a single vector [1,0,2,...] <---- 1x11\n",
        "\n",
        "#w neural network would be 1xRx11 (R is the number of Nodes)\n",
        "\n",
        "#[1,2,0,...]\n",
        "#[0,4,5,9,...]\n",
        "#[1,3,4,0,...]\n",
        "#...\n",
        "\n",
        "\n",
        "\n",
        "#b linear is a single number, for a neural network there will be R many bs\n",
        "\n",
        "#[54]\n",
        "#[12]\n",
        "#...\n",
        "\n"
      ],
      "metadata": {
        "id": "GjvmklNUfsqI"
      },
      "execution_count": null,
      "outputs": []
    }
  ]
}