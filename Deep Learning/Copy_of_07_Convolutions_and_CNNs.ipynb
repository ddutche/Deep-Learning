{
  "nbformat": 4,
  "nbformat_minor": 0,
  "metadata": {
    "colab": {
      "provenance": []
    },
    "kernelspec": {
      "name": "python3",
      "display_name": "Python 3"
    },
    "language_info": {
      "name": "python"
    }
  },
  "cells": [
    {
      "cell_type": "markdown",
      "source": [
        "# Convolutions and CNNs\n",
        "\n",
        "**Level.** Low. Math and concepts of convolutions and neural networks using them using PyTorch and image visualizations, building up to residual networks.\n",
        "\n",
        "As usual, these notes are a rehashing of the textbook. In this case, it's mostly [Chapter 13](https://github.com/fastai/fastbook/blob/master/13_convolutions.ipynb) with a bit of [Chapter 4](https://github.com/fastai/fastbook/blob/master/04_mnist_basics.ipynb).\n",
        "\n",
        "## Sections in this Notebook\n",
        "\n",
        "1. [Dense Networks for Images](#scrollTo=7XFN8f9tqUP7)\n",
        "2. [What's a Convolution?](#scrollTo=zZNPNW51EyB-)\n",
        "3. [Image Convolutions](#scrollTo=4J6meoGHUghk)\n",
        "3. A Convolutional Neural Network\n",
        "4. Deep CNNs and Resnets\n"
      ],
      "metadata": {
        "id": "LLSwiRUun-5t"
      }
    },
    {
      "cell_type": "markdown",
      "source": [
        "## Vocab Terms\n",
        "\n",
        "* **CNN.** Short for convolutional neural network. Mostly used for image analysis, but can be used for anything requiring preservation of spatial (or positional) information.\n",
        "\n",
        "* **convolution.** A mathematical operation combining two tensors to produce a new one. We will generally be convolving an image with a filter in our networks.\n",
        "\n",
        "* **dense network.** A network where every node in a layer connects with every node in the previous (or next) layer. This is how we built our network much earlier in the course.\n",
        "\n",
        "* **filter.** A small tensor whose elements are convolved with a signal or image to transform it to extract some information. A gaussian filter leads to a blurring of an image, which you've probably seen before.\n",
        "\n",
        "* **ResNet.** A residual network. A residuals is an input to a particular layer which skip over intervening layers and instead uses the original, unprocessed data. These are used for regularization and to improve  training in deep networks."
      ],
      "metadata": {
        "id": "C9BosU6RobvS"
      }
    },
    {
      "cell_type": "markdown",
      "source": [
        "## Dense Networks for Images\n",
        "\n",
        "The neural networks we built earlier in the course were what are called **dense networks**: every node in each layer of the network is connected to every other node in the previous (and next) layer. For images, this quickly leads to two problems:\n",
        "\n",
        "1. Large number of model parameters\n",
        "2. Loss of spatial information\n",
        "\n",
        "EX: Analyzing a game of tic tac toe with a dense neural network\n",
        "\n",
        "* You could have pictures of different games as inputs, which converted to a table could have 9 columns (Upperright,upperleft,uppermiddle,etc) representing each space on the board, with the entries being whats in that spot and what isnt (X,O, or blank)... This converts an image into a table\n",
        "\n",
        "* * From here you could have 1 node for each column, which contribute to some N number of hidden nodes across L hidden layers to get an output of either X wins, O wins, or its a draw\n",
        "\n",
        "- There are limitations to this method however... a network would have to learn that in tic tac toe you care about only certain squares (the ones that help you win, and prevent the other from winning)\n",
        "\n",
        "- - So it needs to understand the spatial structure of the tic tac toe board, which turning this into a table wouldn't directly accomplish\n",
        "\n",
        "Limitations:\n",
        "\n",
        "1) Parameter Scaling - How the parameters scale\n",
        "*  EX: If i have 9 inputs and the next layer has N nodes, it'd need 9N parameters to connect\n",
        "\n",
        "2) Network must learn spatial relationships\n",
        "\n",
        "\n",
        "#### **Parameter Scaling.**\n",
        "\n",
        "The first is easy to explain: let's say we've got a 256$\\times$256 pixel color image. For a single image, that's about 200,000 variables in the input! If the next layer is 200 neurons, then we've already got over 40 million parameters. It's going to be way too easy to overfit.\n",
        "\n",
        "#### **Spatial Information.**\n",
        "\n",
        "Colors of pixels in images aren't randomly distributed, but clustered together. In a photo of a red car driving along the highway, there will be some red (the car), with some blue over it (if you're lucky the sky's blue), and black (road) and green (grass) below it.\n",
        "\n",
        "If we saw the colors shuffled around, with the blue on the bottom, it would be a boat on a river instead. By taking every pixel value as a direct input to a bunch of nodes dense neural network, we lose that spatial information.\n",
        "\n",
        "In *theory* this isn't a problem, because the network should just learn that nearby pixels should share more information than pixels that are far away.\n",
        "\n",
        "Convolutional neural networks mostly solve both of these problems. But first, we need to learn what convolutions are."
      ],
      "metadata": {
        "id": "7XFN8f9tqUP7"
      }
    },
    {
      "cell_type": "markdown",
      "source": [
        "## Convolutions\n",
        "\n",
        "Convolution is a process where a tensor containing some data is combined with a filter to smooth or otherwise extract features from the data. The most important part is that the filter acts locally on the data, meaning that spatial information about nearby pixels or points is maintained.\n",
        "\n",
        "Let's look at an example from 1D signal processing. Here, the data is called a \"signal\" and the filters are often called \"window functions\" Your instructor's Ph.D. is in signal processing these kinds of 1D radio signals. Below is a sine wave with some added noise. It looks (unsurprisingly) very noisy."
      ],
      "metadata": {
        "id": "zZNPNW51EyB-"
      }
    },
    {
      "cell_type": "code",
      "source": [
        "# Don't worry about the code here\n",
        "# or in the following cells, until we go to build a CNN.\n",
        "import numpy as np\n",
        "import matplotlib.pyplot as plt\n",
        "\n",
        "# Randomly generate some data\n",
        "x = np.arange(-10, 10, 0.1)\n",
        "y = np.random.random(200)*5 + np.sin(x) - 0.5\n",
        "\n",
        "plt.figure(figsize=(5,2.5))\n",
        "plt.plot(y, '.')\n",
        "plt.show()\n",
        "\n",
        "#So right now we have a sin function here, but the data is extremely noisy"
      ],
      "metadata": {
        "colab": {
          "base_uri": "https://localhost:8080/",
          "height": 253
        },
        "id": "t4463xiFxbH3",
        "outputId": "c39ae183-68e5-464e-c3bb-67d91d922129"
      },
      "execution_count": null,
      "outputs": [
        {
          "output_type": "display_data",
          "data": {
            "text/plain": [
              "<Figure size 500x250 with 1 Axes>"
            ],
            "image/png": "[encoded data removed]"
          },
          "metadata": {}
        }
      ]
    },
    {
      "cell_type": "markdown",
      "source": [
        "We can create the following filter, convolve it with the original set of data, and plot them both together. You can see that the orange line is much smoother than the original blue points."
      ],
      "metadata": {
        "id": "2bNooM7WxbUj"
      }
    },
    {
      "cell_type": "code",
      "source": [
        "filter = [0.1]*10\n",
        "\n",
        "#filter = [0.25,0.5,0.25]\n",
        "\n",
        "plt.figure(figsize=(5,2.5))\n",
        "plt.plot(y, '.')\n",
        "plt.plot(np.convolve(y, filter, mode=\"same\"), '-')\n",
        "plt.show()"
      ],
      "metadata": {
        "colab": {
          "base_uri": "https://localhost:8080/",
          "height": 253
        },
        "id": "6gOJmZn4xbdJ",
        "outputId": "3326ee1b-8023-41da-af72-490061659d19"
      },
      "execution_count": null,
      "outputs": [
        {
          "output_type": "display_data",
          "data": {
            "text/plain": [
              "<Figure size 500x250 with 1 Axes>"
            ],
            "image/png": "[encoded data removed]"
          },
          "metadata": {}
        }
      ]
    },
    {
      "cell_type": "code",
      "source": [
        "filter #This is all just 0.1s\n",
        "\n",
        "#What it does is average 10 points in a row\n",
        "\n",
        "#Essentially, convultion is extracting data out of spatial information"
      ],
      "metadata": {
        "colab": {
          "base_uri": "https://localhost:8080/"
        },
        "id": "l_f81vaWkxdR",
        "outputId": "4907ffa5-5322-4e17-ed04-c3217bb37451"
      },
      "execution_count": null,
      "outputs": [
        {
          "output_type": "execute_result",
          "data": {
            "text/plain": [
              "[0.1, 0.1, 0.1, 0.1, 0.1, 0.1, 0.1, 0.1, 0.1, 0.1]"
            ]
          },
          "metadata": {},
          "execution_count": 3
        }
      ]
    },
    {
      "cell_type": "markdown",
      "source": [
        "#### **How Convolutions are Calculated.**\n",
        "\n",
        "This explanation is not nearly as useful as what I'm going to draw on the board in class, but here's a try.\n",
        "\n",
        "One-dimensional convolutions are a good starting point. Here's some sample data, and a filter:"
      ],
      "metadata": {
        "id": "pN7OL2Ey7eWJ"
      }
    },
    {
      "cell_type": "code",
      "source": [
        "data = [1,2,1,0,3,2,1]\n",
        "filter = [0.25, 0.5, 0.25]\n",
        "\n",
        "#The out put comes from the center of the filter, so we do\n",
        "\n",
        "#  1      2      1\n",
        "#  *      *      *\n",
        "#  0.25   0.5    0.25\n",
        "\n",
        "#Then adding all these together, getting 1.5\n",
        "\n",
        "#We repeat this a step down, doing\n",
        "\n",
        "#  2      1      0\n",
        "#  *      *      *\n",
        "#  0.25   0.5    0.25\n",
        "\n",
        "#and get 1.5\n",
        "\n",
        "#We repeat and repeat and repeat, moving the figure across the data\n",
        "\n",
        "#Then this output layer gets saved\n",
        "\n",
        "\n",
        "#Filter examples\n",
        "\n",
        "#0.25 0.5 0.25 ---> Smoothing the average (Hamming filter - good for frequency analysis)\n",
        "#0.1 0.8 0.1 ----> Smoothing the average (Hamming filter - good for frequency analysis)\n",
        "#0 1 0 ------> Does nothing essentially (Identity)\n",
        "#0 1 -1 ----> edge detector\n",
        "#0.33 0.33 0.33 ---- Regular average\n",
        "#-1 3 -1 ---> Sharpens the data"
      ],
      "metadata": {
        "id": "laLYkPTs7eL2"
      },
      "execution_count": null,
      "outputs": []
    },
    {
      "cell_type": "markdown",
      "source": [
        "We imagine matching up the filter and the data one entry at a time. The data is bigger than the filter, but that's fine. We'll be sliding the filter along to calculate the output (for *math definition reasons* we actually flip the order of the filter first).\n",
        "\n",
        "|index|0|1|2|3|4|5|6|\n",
        "|:-:|:-:|:-:|:-:|:-:|:-:|:-:|:-:|\n",
        "|data|1|2|1|0|3|2|1|\n",
        "|filter|0.25|0.5|0.25|\n",
        "\n",
        "To get the output, we multiply the matched up entries in the data and the filter, then add them together, so the first entry of the output is:\n",
        "\n",
        "$$z_0 = x_0 f_2 + x_1 f_1 + x_2 f_0 = 1(0.25) + 2(0.5) + 1(0.25) = 1.5$$\n",
        "\n",
        "Then, we slide the filter one space to find the next entry in the output:\n",
        "\n",
        "|index|0|1|2|3|4|5|6|\n",
        "|:-:|:-:|:-:|:-:|:-:|:-:|:-:|:-:|\n",
        "|data|1|2|1|0|3|2|1|\n",
        "|filter||0.25|0.5|0.25|\n",
        "\n",
        "and calculate:\n",
        "$$z_1 = 2(0.25) + 1(0.5) + 0(0.25) = 1$$\n",
        "\n",
        "and so on, until we get that the output is:\n",
        "\n",
        "|index|0|1|2|3|4|\n",
        "|:-:|:-:|:-:|:-:|:-:|:-:|\n",
        "|$z$|1.5|1|1|2|2|"
      ],
      "metadata": {
        "id": "YuN4uhWc7eDp"
      }
    },
    {
      "cell_type": "code",
      "source": [
        "z = np.convolve(data, filter, mode=\"valid\") #There is a function for this\n",
        "z"
      ],
      "metadata": {
        "colab": {
          "base_uri": "https://localhost:8080/"
        },
        "id": "-k4552e-7d0B",
        "outputId": "0030cf5e-1a10-49c4-a026-52b76e871df9"
      },
      "execution_count": null,
      "outputs": [
        {
          "output_type": "execute_result",
          "data": {
            "text/plain": [
              "array([1.5, 1. , 1. , 2. , 2. ])"
            ]
          },
          "metadata": {},
          "execution_count": 7
        }
      ]
    },
    {
      "cell_type": "markdown",
      "source": [
        "The result of the convolution is *smaller* than the input, which is a bit weird if we're trying to compare what the output looks like to the input. Traditionally, this is fixed by padding the edges of the data with 0s until you get a result that's the same size as the original:\n",
        "\n",
        "|source||||||||||\n",
        "|:-:|:-:|:-:|:-:|:-:|:-:|:-:|:-:|:-:|:-:|\n",
        "|data|\"0\"|1|2|1|0|3|2|1|\"0\"|\n",
        "|filter|0.25|0.5|0.25|\n",
        "|$z$||1|1.5|1|1|2|2|1|\n",
        "\n",
        "Note that the central values are unchanged from the unpadded version.\n",
        "\n",
        "with numpy:\n",
        "\n",
        "Note: \"0\" is air quotes, as in imaginary, since if we slide a filter over it wont change the output too much, its not a string\n",
        "\n",
        "- While this may drag your filter closer to 0, you will get an output which is the same size, so they can be overlayed on eachother"
      ],
      "metadata": {
        "id": "bT5o8JZ0DYPT"
      }
    },
    {
      "cell_type": "code",
      "source": [
        "z = np.convolve(data, filter, mode=\"same\")\n",
        "z"
      ],
      "metadata": {
        "colab": {
          "base_uri": "https://localhost:8080/"
        },
        "id": "UR4dkU3eEaab",
        "outputId": "56a6fdc1-b560-4913-d489-05118607db24"
      },
      "execution_count": null,
      "outputs": [
        {
          "output_type": "execute_result",
          "data": {
            "text/plain": [
              "array([1. , 1.5, 1. , 1. , 2. , 2. , 1. ])"
            ]
          },
          "metadata": {},
          "execution_count": 7
        }
      ]
    },
    {
      "cell_type": "markdown",
      "source": [
        "We can see that the output of this filtering \"smoothed\" the input data: the 2 and the 3 are now smaller, and the 0 is now larger, with everything moving toward the mean. How did this happen? If we look at the filter, `[0.25, 0.5, 0.25]`, and think about the calculation of one particular entry in the output:\n",
        "\n",
        "|source||||||||||\n",
        "|:-:|:-:|:-:|:-:|:-:|:-:|:-:|:-:|:-:|:-:|\n",
        "|data|\"0\"|1|2|1|0|3|2|1|\"0\"|\n",
        "|filter||||0.25|0.5|0.25|\n",
        "|$z$|  ||   | |1   ||||\n",
        "\n",
        "That entry is $0.5\\times$ the same entry in the data plus $0.25\\times$ the adjacent entries. So it actually averages the 3 points together, with a bit more weight given to that particular entry. If we wanted a perfect average of all 3, we're make our filter `[0.333, 0.333, 0.333]`."
      ],
      "metadata": {
        "id": "zRhztK7NEw4f"
      }
    },
    {
      "cell_type": "markdown",
      "source": [
        "#### **The Power of Filters.**\n",
        "\n",
        "Taking averages isn't the only thing a filter can do! Consider this filter `[-1, 3, -1]` applied to our dataset. It exaggerates all of the peaks, increasing the 2 to a 4, the 3 to a 7, and makes that 0 negative.\n",
        "\n",
        "|source||||||||||\n",
        "|:-:|:-:|:-:|:-:|:-:|:-:|:-:|:-:|:-:|:-:|\n",
        "|data|\"0\"|1|2|1|0|3|2|1|\"0\"|\n",
        "|$z$|  |1|4|1|-4|7|2|1|"
      ],
      "metadata": {
        "id": "ZZhEPyxFG4WF"
      }
    },
    {
      "cell_type": "code",
      "source": [
        "unsharp = [-1, 3, -1]\n",
        "np.convolve(data, unsharp, mode=\"same\")"
      ],
      "metadata": {
        "colab": {
          "base_uri": "https://localhost:8080/"
        },
        "id": "zNtTL7unG4hV",
        "outputId": "c0c177e8-0c1b-4a9a-9a42-57a34f278275"
      },
      "execution_count": null,
      "outputs": [
        {
          "output_type": "execute_result",
          "data": {
            "text/plain": [
              "array([ 1,  4,  1, -4,  7,  2,  1])"
            ]
          },
          "metadata": {},
          "execution_count": 8
        }
      ]
    },
    {
      "cell_type": "markdown",
      "source": [
        "And here's an edge detector filter, `[0,-1,1]`, which is positive if the next value is larger, and negative if the next value is smaller (remember the flipping of the filter order? Me neither. It took me 20 minutes to figure out what was wrong with my filter)."
      ],
      "metadata": {
        "id": "XKlpBL4zLBr9"
      }
    },
    {
      "cell_type": "markdown",
      "source": [
        "|source||||||||||\n",
        "|:-:|:-:|:-:|:-:|:-:|:-:|:-:|:-:|:-:|:-:|\n",
        "|data|\"0\"|1|2|1|0|3|2|1|\"0\"|\n",
        "|$z$|  |1|-1|-1|3|-1|-1|-1|"
      ],
      "metadata": {
        "id": "60zHK-eYG4pf"
      }
    },
    {
      "cell_type": "code",
      "source": [
        "edges = [1, -1, 0]\n",
        "np.convolve(data, edges, mode=\"same\")"
      ],
      "metadata": {
        "colab": {
          "base_uri": "https://localhost:8080/"
        },
        "id": "aBHjMm15JIvQ",
        "outputId": "38859bbd-0265-43d7-c8ab-e6d2f507f027"
      },
      "execution_count": null,
      "outputs": [
        {
          "output_type": "execute_result",
          "data": {
            "text/plain": [
              "array([ 1, -1, -1,  3, -1, -1, -1])"
            ]
          },
          "metadata": {},
          "execution_count": 9
        }
      ]
    },
    {
      "cell_type": "markdown",
      "source": [
        "To summarize, convolutions:\n",
        "* Preserve local information in an image.\n",
        "* Can be used to smooth (or \"blur\"), sharpen, or find edges, among other things.\n",
        "\n",
        "Now, let's apply convolutions to images."
      ],
      "metadata": {
        "id": "w7AMM0quLp_q"
      }
    },
    {
      "cell_type": "markdown",
      "source": [
        "## Image Convolutions\n",
        "\n",
        "We'll start simple, by looking at some small black and white images from the MNIST number dataset. This is a collection of handwritten numbers which are $28\\times28$ images."
      ],
      "metadata": {
        "id": "4J6meoGHUghk"
      }
    },
    {
      "cell_type": "code",
      "source": [
        "# Don't worry about the code here\n",
        "# or in the following cells, until we go to build a CNN.\n",
        "\n",
        "from fastai.vision.all import *\n",
        "from scipy.signal import convolve2d\n",
        "from PIL import Image as im\n",
        "matplotlib.rc('image', cmap='Greys')\n",
        "\n",
        "path = untar_data(URLs.MNIST_SAMPLE)\n",
        "im3 = Image.open(path/'train'/'3'/'12.png')"
      ],
      "metadata": {
        "id": "UpOpe4jsSChK",
        "colab": {
          "base_uri": "https://localhost:8080/",
          "height": 37
        },
        "outputId": "ef938087-c226-4caa-dfbf-7142e91cecc4"
      },
      "execution_count": null,
      "outputs": [
        {
          "output_type": "display_data",
          "data": {
            "text/plain": [
              "<IPython.core.display.HTML object>"
            ],
            "text/html": [
              "\n",
              "<style>\n",
              "    /* Turns off some styling */\n",
              "    progress {\n",
              "        /* gets rid of default border in Firefox and Opera. */\n",
              "        border: none;\n",
              "        /* Needs to be in here for Safari polyfill so background images work as expected. */\n",
              "        background-size: auto;\n",
              "    }\n",
              "    progress:not([value]), progress:not([value])::-webkit-progress-bar {\n",
              "        background: repeating-linear-gradient(45deg, #7e7e7e, #7e7e7e 10px, #5c5c5c 10px, #5c5c5c 20px);\n",
              "    }\n",
              "    .progress-bar-interrupted, .progress-bar-interrupted::-webkit-progress-bar {\n",
              "        background: #F44336;\n",
              "    }\n",
              "</style>\n"
            ]
          },
          "metadata": {}
        },
        {
          "output_type": "display_data",
          "data": {
            "text/plain": [
              "<IPython.core.display.HTML object>"
            ],
            "text/html": [
              "\n",
              "    <div>\n",
              "      <progress value='3219456' class='' max='3214948' style='width:300px; height:20px; vertical-align: middle;'></progress>\n",
              "      100.14% [3219456/3214948 00:00&lt;00:00]\n",
              "    </div>\n",
              "    "
            ]
          },
          "metadata": {}
        }
      ]
    },
    {
      "cell_type": "markdown",
      "source": [
        "Here's a 3 from the dataset:"
      ],
      "metadata": {
        "id": "XaRAKciKU2gk"
      }
    },
    {
      "cell_type": "code",
      "source": [
        "show_image(im3);"
      ],
      "metadata": {
        "colab": {
          "base_uri": "https://localhost:8080/",
          "height": 114
        },
        "id": "4m6izm6TUf-v",
        "outputId": "370db18d-88ea-4ccc-cbb5-792387817df4"
      },
      "execution_count": null,
      "outputs": [
        {
          "output_type": "display_data",
          "data": {
            "text/plain": [
              "<Figure size 100x100 with 1 Axes>"
            ],
            "image/png": "[encoded data removed]"
          },
          "metadata": {}
        }
      ]
    },
    {
      "cell_type": "markdown",
      "source": [
        "We can convert the image to a numpy array and take a look at how it's stored. The values in the image are 0 (white) to 255 (black), although the visualizer automatically adjusts the color scale based on the range of the data.\n",
        "\n",
        "There's no color, but if there were, there would just be a third dimension for the red, green, and blue color information."
      ],
      "metadata": {
        "id": "B6HYyiWIU7IM"
      }
    },
    {
      "cell_type": "code",
      "source": [
        "np.array(im3)[10:20,10:20]"
      ],
      "metadata": {
        "colab": {
          "base_uri": "https://localhost:8080/"
        },
        "id": "KVKQRa7DSWWa",
        "outputId": "a10895b6-1962-4654-a1cd-b910ff072ba5"
      },
      "execution_count": null,
      "outputs": [
        {
          "output_type": "execute_result",
          "data": {
            "text/plain": [
              "array([[  0,   0,   6, 152, 246, 254, 254,  49,   0,   0],\n",
              "       [  0,  66, 158, 254, 254, 249, 103,   8,   0,   0],\n",
              "       [ 54, 251, 254, 254, 254, 248,  74,   5,   0,   0],\n",
              "       [140, 254, 254, 254, 254, 254, 254, 202, 125,  45],\n",
              "       [ 58, 181, 234, 254, 254, 254, 254, 254, 254, 252],\n",
              "       [  0,   0,  30,  50,  73, 155, 253, 254, 254, 254],\n",
              "       [  0,   0,   0,   0,   0,   0,  91, 200, 254, 254],\n",
              "       [  0,   0,   0,   0,   0,   0,   0,   4, 192, 254],\n",
              "       [  0,   0,   0,   0,   0,   0,   0,   0, 141, 254],\n",
              "       [ 86,   0,   0,   0,   0,   0,   0,   3, 188, 254]], dtype=uint8)"
            ]
          },
          "metadata": {},
          "execution_count": 56
        }
      ]
    },
    {
      "cell_type": "markdown",
      "source": [
        "Now, let's create some filters. Since the image is 2 dimensions, we need a 2 dimensional filter.\n",
        "\n",
        "We'll create a blurring filter, an unsharp mask, and an edge detector, just like we did for the 1D signals:"
      ],
      "metadata": {
        "id": "DhTx0RFOVTBL"
      }
    },
    {
      "cell_type": "code",
      "source": [
        "blur = np.array([[0.111, 0.111, 0.111],\n",
        "                 [0.111, 0.111, 0.111],\n",
        "                 [0.111, 0.111, 0.111]])\n",
        "\n",
        "show_image( convolve2d(np.array(im3), blur) )"
      ],
      "metadata": {
        "id": "K2V4iyjPSXuV",
        "colab": {
          "base_uri": "https://localhost:8080/",
          "height": 132
        },
        "outputId": "ab289429-e3a9-414b-f25e-0c2fd129a1e7"
      },
      "execution_count": null,
      "outputs": [
        {
          "output_type": "execute_result",
          "data": {
            "text/plain": [
              "<Axes: >"
            ]
          },
          "metadata": {},
          "execution_count": 89
        },
        {
          "output_type": "display_data",
          "data": {
            "text/plain": [
              "<Figure size 100x100 with 1 Axes>"
            ],
            "image/png": "[encoded data removed]"
          },
          "metadata": {}
        }
      ]
    },
    {
      "cell_type": "code",
      "source": [
        "unsharp = np.array([[-0.125, -0.125, -0.125],\n",
        "                    [-0.125,  2.000, -0.125],\n",
        "                    [-0.125, -0.125, -0.125]])\n",
        "\n",
        "show_image( convolve2d(np.array(im3), unsharp) )"
      ],
      "metadata": {
        "colab": {
          "base_uri": "https://localhost:8080/",
          "height": 132
        },
        "id": "lsmyhmyAWgMR",
        "outputId": "2805984a-2cd0-456e-e07e-00a161554d25"
      },
      "execution_count": null,
      "outputs": [
        {
          "output_type": "execute_result",
          "data": {
            "text/plain": [
              "<Axes: >"
            ]
          },
          "metadata": {},
          "execution_count": 90
        },
        {
          "output_type": "display_data",
          "data": {
            "text/plain": [
              "<Figure size 100x100 with 1 Axes>"
            ],
            "image/png": "[encoded data removed]"
          },
          "metadata": {}
        }
      ]
    },
    {
      "cell_type": "code",
      "source": [
        "edge = np.array([[-1, 1.0, 0],\n",
        "                 [-1, 1.0, 0],\n",
        "                 [-1, 1.0, 0]])\n",
        "\n",
        "show_image( convolve2d(np.array(im3), edge) )"
      ],
      "metadata": {
        "colab": {
          "base_uri": "https://localhost:8080/",
          "height": 132
        },
        "id": "ebRHb_k-U8ld",
        "outputId": "eccadc7a-0678-492c-92cc-543aa2079a66"
      },
      "execution_count": null,
      "outputs": [
        {
          "output_type": "execute_result",
          "data": {
            "text/plain": [
              "<Axes: >"
            ]
          },
          "metadata": {},
          "execution_count": 91
        },
        {
          "output_type": "display_data",
          "data": {
            "text/plain": [
              "<Figure size 100x100 with 1 Axes>"
            ],
            "image/png": "[encoded data removed]"
          },
          "metadata": {}
        }
      ]
    }
  ]
}