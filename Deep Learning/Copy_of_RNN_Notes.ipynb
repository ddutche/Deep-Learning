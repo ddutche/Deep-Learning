{
  "nbformat": 4,
  "nbformat_minor": 0,
  "metadata": {
    "colab": {
      "provenance": []
    },
    "kernelspec": {
      "name": "python3",
      "display_name": "Python 3"
    },
    "language_info": {
      "name": "python"
    }
  },
  "cells": [
    {
      "cell_type": "markdown",
      "source": [
        "This from FastAi chap 12"
      ],
      "metadata": {
        "id": "LR3ELnzk7x7o"
      }
    },
    {
      "cell_type": "code",
      "execution_count": null,
      "metadata": {
        "colab": {
          "base_uri": "https://localhost:8080/",
          "height": 37
        },
        "id": "p_BmXl1xoWWX",
        "outputId": "d4af510e-a951-45e9-e3f9-3e2e5088f70e"
      },
      "outputs": [
        {
          "output_type": "display_data",
          "data": {
            "text/plain": [
              "<IPython.core.display.HTML object>"
            ],
            "text/html": [
              "\n",
              "<style>\n",
              "    /* Turns off some styling */\n",
              "    progress {\n",
              "        /* gets rid of default border in Firefox and Opera. */\n",
              "        border: none;\n",
              "        /* Needs to be in here for Safari polyfill so background images work as expected. */\n",
              "        background-size: auto;\n",
              "    }\n",
              "    progress:not([value]), progress:not([value])::-webkit-progress-bar {\n",
              "        background: repeating-linear-gradient(45deg, #7e7e7e, #7e7e7e 10px, #5c5c5c 10px, #5c5c5c 20px);\n",
              "    }\n",
              "    .progress-bar-interrupted, .progress-bar-interrupted::-webkit-progress-bar {\n",
              "        background: #F44336;\n",
              "    }\n",
              "</style>\n"
            ]
          },
          "metadata": {}
        },
        {
          "output_type": "display_data",
          "data": {
            "text/plain": [
              "<IPython.core.display.HTML object>"
            ],
            "text/html": [
              "\n",
              "    <div>\n",
              "      <progress value='32768' class='' max='30252' style='width:300px; height:20px; vertical-align: middle;'></progress>\n",
              "      108.32% [32768/30252 00:00&lt;00:00]\n",
              "    </div>\n",
              "    "
            ]
          },
          "metadata": {}
        }
      ],
      "source": [
        "from fastai.text.all import *\n",
        "path = untar_data(URLs.HUMAN_NUMBERS)"
      ]
    },
    {
      "cell_type": "code",
      "source": [
        "Path.BASE_PATH = path"
      ],
      "metadata": {
        "id": "Mcoj5FhWoaJh"
      },
      "execution_count": null,
      "outputs": []
    },
    {
      "cell_type": "code",
      "source": [
        "lines = L()\n",
        "with open(path/'train.txt') as f: lines += L(*f.readlines())\n",
        "with open(path/'valid.txt') as f: lines += L(*f.readlines())\n",
        "lines"
      ],
      "metadata": {
        "colab": {
          "base_uri": "https://localhost:8080/"
        },
        "id": "jxCZaZanoe4f",
        "outputId": "7e54d9b9-fcd1-47a9-e2e5-72ab5620755a"
      },
      "execution_count": null,
      "outputs": [
        {
          "output_type": "execute_result",
          "data": {
            "text/plain": [
              "(#9998) ['one \\n','two \\n','three \\n','four \\n','five \\n','six \\n','seven \\n','eight \\n','nine \\n','ten \\n'...]"
            ]
          },
          "metadata": {},
          "execution_count": 3
        }
      ]
    },
    {
      "cell_type": "code",
      "source": [
        "tokens = \" . \".join(lines).replace(\"\\n\", \"\").split()"
      ],
      "metadata": {
        "id": "9hBxPjp6ofKv"
      },
      "execution_count": null,
      "outputs": []
    },
    {
      "cell_type": "code",
      "source": [
        "vocablist = L(tokens).unique()"
      ],
      "metadata": {
        "id": "ig834GBfoml2"
      },
      "execution_count": null,
      "outputs": []
    },
    {
      "cell_type": "code",
      "source": [
        "word2idx = {w:i for i,w in enumerate(vocablist)}\n",
        "nums = L(word2idx[i] for i in tokens)\n",
        "nums"
      ],
      "metadata": {
        "colab": {
          "base_uri": "https://localhost:8080/"
        },
        "id": "lKLDtdzapZg0",
        "outputId": "1c6734bb-8bf7-4c77-c9e7-465695d3c390"
      },
      "execution_count": null,
      "outputs": [
        {
          "output_type": "execute_result",
          "data": {
            "text/plain": [
              "(#63095) [0,1,2,1,3,1,4,1,5,1...]"
            ]
          },
          "metadata": {},
          "execution_count": 6
        }
      ]
    },
    {
      "cell_type": "code",
      "source": [
        "word2idx[\"thirty\"]"
      ],
      "metadata": {
        "colab": {
          "base_uri": "https://localhost:8080/"
        },
        "id": "3D4G082WpklN",
        "outputId": "1feeeb88-029f-4727-8730-8a5d9c9a16d7"
      },
      "execution_count": null,
      "outputs": [
        {
          "output_type": "execute_result",
          "data": {
            "text/plain": [
              "21"
            ]
          },
          "metadata": {},
          "execution_count": 7
        }
      ]
    },
    {
      "cell_type": "code",
      "source": [
        "# Split into x-y groups(3 xs + 1 y)\n",
        "data = [ (tokens[i:i+3], tokens[i+3]) for i in range(0,10000, 4)        ]\n",
        "seqs = [ (nums[i:i+3],   nums[i+3])   for i in range(0,10000, 4)        ]"
      ],
      "metadata": {
        "id": "vdwxc7JMppKM"
      },
      "execution_count": null,
      "outputs": []
    },
    {
      "cell_type": "code",
      "source": [
        "seqs[1024]"
      ],
      "metadata": {
        "colab": {
          "base_uri": "https://localhost:8080/"
        },
        "id": "qmeT-_5LqcGR",
        "outputId": "5f78d67d-e720-4ce7-ab66-3989ae65e105"
      },
      "execution_count": null,
      "outputs": [
        {
          "output_type": "execute_result",
          "data": {
            "text/plain": [
              "((#3) [1,9,28], 15)"
            ]
          },
          "metadata": {},
          "execution_count": 9
        }
      ]
    },
    {
      "cell_type": "code",
      "source": [
        "bs = 64\n",
        "cut = int(len(seqs) * 0.8)\n",
        "dls = DataLoaders.from_dsets(seqs[:cut], seqs[cut:], bs=64, shuffle=False)"
      ],
      "metadata": {
        "id": "tvrPDNweq_QS"
      },
      "execution_count": null,
      "outputs": []
    },
    {
      "cell_type": "code",
      "source": [
        "dls.one_batch()"
      ],
      "metadata": {
        "colab": {
          "base_uri": "https://localhost:8080/"
        },
        "id": "RLBv4L17rKYC",
        "outputId": "a7fe780a-2b2f-407b-c7cd-a57f305316fe"
      },
      "execution_count": null,
      "outputs": [
        {
          "output_type": "execute_result",
          "data": {
            "text/plain": [
              "((#3) [tensor([ 0,  3,  5,  7,  9, 11, 13, 15, 17, 19, 20,  2,  1, 20,  6,  1, 20,  1,\n",
              "        21,  3,  1, 21,  7,  1, 22,  1, 22,  4,  1, 22,  8,  1,  0,  1, 23,  5,\n",
              "         1, 23,  9, 24,  2,  1, 24,  6,  1, 24,  1, 25,  3,  1, 25,  7,  1, 26,\n",
              "         1, 26,  4,  1, 26,  8,  1,  0,  1, 27]),tensor([ 1,  1,  1,  1,  1,  1,  1,  1,  1,  1,  0,  1, 20,  5,  1, 20,  9, 21,\n",
              "         2,  1, 21,  6,  1, 21,  1, 22,  3,  1, 22,  7,  1, 23,  1, 23,  4,  1,\n",
              "        23,  8,  1,  0,  1, 24,  5,  1, 24,  9, 25,  2,  1, 25,  6,  1, 25,  1,\n",
              "        26,  3,  1, 26,  7,  1, 27,  1, 27,  4]),tensor([ 2,  4,  6,  8, 10, 12, 14, 16, 18, 20,  1, 20,  4,  1, 20,  8,  1,  0,\n",
              "         1, 21,  5,  1, 21,  9, 22,  2,  1, 22,  6,  1, 22,  1, 23,  3,  1, 23,\n",
              "         7,  1, 24,  1, 24,  4,  1, 24,  8,  1,  0,  1, 25,  5,  1, 25,  9, 26,\n",
              "         2,  1, 26,  6,  1, 26,  1, 27,  3,  1])],\n",
              " tensor([ 1,  1,  1,  1,  1,  1,  1,  1,  1,  1, 20,  3,  1, 20,  7,  1, 21,  1,\n",
              "         21,  4,  1, 21,  8,  1,  0,  1, 22,  5,  1, 22,  9, 23,  2,  1, 23,  6,\n",
              "          1, 23,  1, 24,  3,  1, 24,  7,  1, 25,  1, 25,  4,  1, 25,  8,  1,  0,\n",
              "          1, 26,  5,  1, 26,  9, 27,  2,  1, 27]))"
            ]
          },
          "metadata": {},
          "execution_count": 11
        }
      ]
    },
    {
      "cell_type": "markdown",
      "source": [
        "X can be split into\n",
        "\n",
        "  \n",
        "        Embedding         Linear ReLU       Adding each ReLU together   Output\n",
        "X[0]       ->                 ->                       +\n",
        "X[1]       ->                 ->                       +                ->\n",
        "X[2]       ->                 ->                       +\n",
        "\n",
        "Which then eahc go through an embedding, and a Linear ReLU which adds them together\n",
        "\n",
        "\n",
        "View this in edit mode to see the actual thing"
      ],
      "metadata": {
        "id": "smb3WSUt6-A2"
      }
    },
    {
      "cell_type": "code",
      "source": [
        "class RNN(Module):\n",
        "\n",
        "    def __init__(self, vocab_size):\n",
        "\n",
        "        hidden_size = 64\n",
        "        self.input = Embedding(vocab_size, hidden_size)\n",
        "        self.transform = nn.Linear(hidden_size, hidden_size)\n",
        "        self.output = nn.Linear(hidden_size, vocab_size)\n",
        "\n",
        "    def forward(self, x):\n",
        "        first_word = x[0]\n",
        "        second_word = x[1]\n",
        "        third_word = x[2]\n",
        "\n",
        "        h = self.input(first_word)\n",
        "        h = self.transform(h)\n",
        "        h = nn.ReLU()(h)\n",
        "\n",
        "        h = h + self.input(second_word)\n",
        "        h = self.transform(h)\n",
        "        h = nn.ReLU()(h)\n",
        "\n",
        "        h = h + self.input(third_word)\n",
        "        h = self.transform(h)\n",
        "        h = nn.ReLU()(h)\n",
        "\n",
        "        return self.output(h)\n",
        "\n",
        "        # def forward(self, x):\n",
        "        # h = 0\n",
        "\n",
        "        # for i in range(3):\n",
        "        #     h = h + self.input(x[i])\n",
        "        #     h = self.transform(h)\n",
        "        #     h = nn.ReLU()(h)\n",
        "\n",
        "        # return self.output(h)\n"
      ],
      "metadata": {
        "id": "1ZQnnPmmrVon"
      },
      "execution_count": null,
      "outputs": []
    },
    {
      "cell_type": "code",
      "source": [
        "learn = Learner(dls, RNN(len(vocablist)), loss_func=F.cross_entropy, metrics=accuracy)"
      ],
      "metadata": {
        "id": "Ql7RRPO-8Xgh"
      },
      "execution_count": null,
      "outputs": []
    },
    {
      "cell_type": "code",
      "source": [
        "learn.fit_one_cycle(10, 1e-3)"
      ],
      "metadata": {
        "colab": {
          "base_uri": "https://localhost:8080/",
          "height": 363
        },
        "id": "4rdJgr9l8180",
        "outputId": "0f2a23fc-f139-4212-eba3-a20995e4840a"
      },
      "execution_count": null,
      "outputs": [
        {
          "output_type": "display_data",
          "data": {
            "text/plain": [
              "<IPython.core.display.HTML object>"
            ],
            "text/html": [
              "\n",
              "<style>\n",
              "    /* Turns off some styling */\n",
              "    progress {\n",
              "        /* gets rid of default border in Firefox and Opera. */\n",
              "        border: none;\n",
              "        /* Needs to be in here for Safari polyfill so background images work as expected. */\n",
              "        background-size: auto;\n",
              "    }\n",
              "    progress:not([value]), progress:not([value])::-webkit-progress-bar {\n",
              "        background: repeating-linear-gradient(45deg, #7e7e7e, #7e7e7e 10px, #5c5c5c 10px, #5c5c5c 20px);\n",
              "    }\n",
              "    .progress-bar-interrupted, .progress-bar-interrupted::-webkit-progress-bar {\n",
              "        background: #F44336;\n",
              "    }\n",
              "</style>\n"
            ]
          },
          "metadata": {}
        },
        {
          "output_type": "display_data",
          "data": {
            "text/plain": [
              "<IPython.core.display.HTML object>"
            ],
            "text/html": [
              "<table border=\"1\" class=\"dataframe\">\n",
              "  <thead>\n",
              "    <tr style=\"text-align: left;\">\n",
              "      <th>epoch</th>\n",
              "      <th>train_loss</th>\n",
              "      <th>valid_loss</th>\n",
              "      <th>accuracy</th>\n",
              "      <th>time</th>\n",
              "    </tr>\n",
              "  </thead>\n",
              "  <tbody>\n",
              "    <tr>\n",
              "      <td>0</td>\n",
              "      <td>1.899529</td>\n",
              "      <td>1.759627</td>\n",
              "      <td>0.444000</td>\n",
              "      <td>00:00</td>\n",
              "    </tr>\n",
              "    <tr>\n",
              "      <td>1</td>\n",
              "      <td>1.871449</td>\n",
              "      <td>1.608306</td>\n",
              "      <td>0.444000</td>\n",
              "      <td>00:00</td>\n",
              "    </tr>\n",
              "    <tr>\n",
              "      <td>2</td>\n",
              "      <td>1.826982</td>\n",
              "      <td>1.483343</td>\n",
              "      <td>0.552000</td>\n",
              "      <td>00:00</td>\n",
              "    </tr>\n",
              "    <tr>\n",
              "      <td>3</td>\n",
              "      <td>1.770807</td>\n",
              "      <td>1.408406</td>\n",
              "      <td>0.604000</td>\n",
              "      <td>00:00</td>\n",
              "    </tr>\n",
              "    <tr>\n",
              "      <td>4</td>\n",
              "      <td>1.717964</td>\n",
              "      <td>1.372753</td>\n",
              "      <td>0.602000</td>\n",
              "      <td>00:00</td>\n",
              "    </tr>\n",
              "    <tr>\n",
              "      <td>5</td>\n",
              "      <td>1.671117</td>\n",
              "      <td>1.357907</td>\n",
              "      <td>0.588000</td>\n",
              "      <td>00:00</td>\n",
              "    </tr>\n",
              "    <tr>\n",
              "      <td>6</td>\n",
              "      <td>1.631286</td>\n",
              "      <td>1.350509</td>\n",
              "      <td>0.594000</td>\n",
              "      <td>00:00</td>\n",
              "    </tr>\n",
              "    <tr>\n",
              "      <td>7</td>\n",
              "      <td>1.600280</td>\n",
              "      <td>1.346097</td>\n",
              "      <td>0.596000</td>\n",
              "      <td>00:00</td>\n",
              "    </tr>\n",
              "    <tr>\n",
              "      <td>8</td>\n",
              "      <td>1.578764</td>\n",
              "      <td>1.344082</td>\n",
              "      <td>0.598000</td>\n",
              "      <td>00:00</td>\n",
              "    </tr>\n",
              "    <tr>\n",
              "      <td>9</td>\n",
              "      <td>1.565579</td>\n",
              "      <td>1.343666</td>\n",
              "      <td>0.598000</td>\n",
              "      <td>00:00</td>\n",
              "    </tr>\n",
              "  </tbody>\n",
              "</table>"
            ]
          },
          "metadata": {}
        }
      ]
    },
    {
      "cell_type": "code",
      "source": [
        "pd.Series(tokens).value_counts(normalize=True)"
      ],
      "metadata": {
        "colab": {
          "base_uri": "https://localhost:8080/",
          "height": 1000
        },
        "id": "skbI22yQ-LOG",
        "outputId": "c251f760-0a2e-4a92-f05a-a11449a61c66"
      },
      "execution_count": null,
      "outputs": [
        {
          "output_type": "execute_result",
          "data": {
            "text/plain": [
              ".            0.158444\n",
              "hundred      0.142642\n",
              "thousand     0.142626\n",
              "six          0.045962\n",
              "nine         0.045962\n",
              "seven        0.045962\n",
              "one          0.045962\n",
              "five         0.045962\n",
              "four         0.045962\n",
              "two          0.045962\n",
              "three        0.045962\n",
              "eight        0.045947\n",
              "twenty       0.015849\n",
              "ninety       0.015849\n",
              "eighty       0.015849\n",
              "seventy      0.015849\n",
              "sixty        0.015849\n",
              "fifty        0.015849\n",
              "forty        0.015849\n",
              "thirty       0.015849\n",
              "eighteen     0.001585\n",
              "nineteen     0.001585\n",
              "seventeen    0.001585\n",
              "sixteen      0.001585\n",
              "fourteen     0.001585\n",
              "thirteen     0.001585\n",
              "twelve       0.001585\n",
              "eleven       0.001585\n",
              "ten          0.001585\n",
              "fifteen      0.001585\n",
              "Name: proportion, dtype: float64"
            ],
            "text/html": [
              "<div>\n",
              "<style scoped>\n",
              "    .dataframe tbody tr th:only-of-type {\n",
              "        vertical-align: middle;\n",
              "    }\n",
              "\n",
              "    .dataframe tbody tr th {\n",
              "        vertical-align: top;\n",
              "    }\n",
              "\n",
              "    .dataframe thead th {\n",
              "        text-align: right;\n",
              "    }\n",
              "</style>\n",
              "<table border=\"1\" class=\"dataframe\">\n",
              "  <thead>\n",
              "    <tr style=\"text-align: right;\">\n",
              "      <th></th>\n",
              "      <th>proportion</th>\n",
              "    </tr>\n",
              "  </thead>\n",
              "  <tbody>\n",
              "    <tr>\n",
              "      <th>.</th>\n",
              "      <td>0.158444</td>\n",
              "    </tr>\n",
              "    <tr>\n",
              "      <th>hundred</th>\n",
              "      <td>0.142642</td>\n",
              "    </tr>\n",
              "    <tr>\n",
              "      <th>thousand</th>\n",
              "      <td>0.142626</td>\n",
              "    </tr>\n",
              "    <tr>\n",
              "      <th>six</th>\n",
              "      <td>0.045962</td>\n",
              "    </tr>\n",
              "    <tr>\n",
              "      <th>nine</th>\n",
              "      <td>0.045962</td>\n",
              "    </tr>\n",
              "    <tr>\n",
              "      <th>seven</th>\n",
              "      <td>0.045962</td>\n",
              "    </tr>\n",
              "    <tr>\n",
              "      <th>one</th>\n",
              "      <td>0.045962</td>\n",
              "    </tr>\n",
              "    <tr>\n",
              "      <th>five</th>\n",
              "      <td>0.045962</td>\n",
              "    </tr>\n",
              "    <tr>\n",
              "      <th>four</th>\n",
              "      <td>0.045962</td>\n",
              "    </tr>\n",
              "    <tr>\n",
              "      <th>two</th>\n",
              "      <td>0.045962</td>\n",
              "    </tr>\n",
              "    <tr>\n",
              "      <th>three</th>\n",
              "      <td>0.045962</td>\n",
              "    </tr>\n",
              "    <tr>\n",
              "      <th>eight</th>\n",
              "      <td>0.045947</td>\n",
              "    </tr>\n",
              "    <tr>\n",
              "      <th>twenty</th>\n",
              "      <td>0.015849</td>\n",
              "    </tr>\n",
              "    <tr>\n",
              "      <th>ninety</th>\n",
              "      <td>0.015849</td>\n",
              "    </tr>\n",
              "    <tr>\n",
              "      <th>eighty</th>\n",
              "      <td>0.015849</td>\n",
              "    </tr>\n",
              "    <tr>\n",
              "      <th>seventy</th>\n",
              "      <td>0.015849</td>\n",
              "    </tr>\n",
              "    <tr>\n",
              "      <th>sixty</th>\n",
              "      <td>0.015849</td>\n",
              "    </tr>\n",
              "    <tr>\n",
              "      <th>fifty</th>\n",
              "      <td>0.015849</td>\n",
              "    </tr>\n",
              "    <tr>\n",
              "      <th>forty</th>\n",
              "      <td>0.015849</td>\n",
              "    </tr>\n",
              "    <tr>\n",
              "      <th>thirty</th>\n",
              "      <td>0.015849</td>\n",
              "    </tr>\n",
              "    <tr>\n",
              "      <th>eighteen</th>\n",
              "      <td>0.001585</td>\n",
              "    </tr>\n",
              "    <tr>\n",
              "      <th>nineteen</th>\n",
              "      <td>0.001585</td>\n",
              "    </tr>\n",
              "    <tr>\n",
              "      <th>seventeen</th>\n",
              "      <td>0.001585</td>\n",
              "    </tr>\n",
              "    <tr>\n",
              "      <th>sixteen</th>\n",
              "      <td>0.001585</td>\n",
              "    </tr>\n",
              "    <tr>\n",
              "      <th>fourteen</th>\n",
              "      <td>0.001585</td>\n",
              "    </tr>\n",
              "    <tr>\n",
              "      <th>thirteen</th>\n",
              "      <td>0.001585</td>\n",
              "    </tr>\n",
              "    <tr>\n",
              "      <th>twelve</th>\n",
              "      <td>0.001585</td>\n",
              "    </tr>\n",
              "    <tr>\n",
              "      <th>eleven</th>\n",
              "      <td>0.001585</td>\n",
              "    </tr>\n",
              "    <tr>\n",
              "      <th>ten</th>\n",
              "      <td>0.001585</td>\n",
              "    </tr>\n",
              "    <tr>\n",
              "      <th>fifteen</th>\n",
              "      <td>0.001585</td>\n",
              "    </tr>\n",
              "  </tbody>\n",
              "</table>\n",
              "</div><br><label><b>dtype:</b> float64</label>"
            ]
          },
          "metadata": {},
          "execution_count": 34
        }
      ]
    }
  ]
}